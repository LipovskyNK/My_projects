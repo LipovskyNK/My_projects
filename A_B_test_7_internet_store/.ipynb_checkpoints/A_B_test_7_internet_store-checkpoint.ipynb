{
 "cells": [
  {
   "cell_type": "markdown",
   "metadata": {},
   "source": [
    "# Проверка гипотез для увеличения выручки"
   ]
  },
  {
   "cell_type": "markdown",
   "metadata": {},
   "source": [
    "**Заказчик** — интернет-магазин.\n",
    "\n",
    "**Цель исследования** - отделу маркетинга необходимо проверить ряд гипотез для увеличения выручки: приоритизировать гипотезы, оценить A/B-тест и проанализировать результаты, проверить финансовую целесообразность внесения изменений в соответствии с гипотезой.\n",
    "\n",
    "**Исходные данные** — статистика по клиентам, данные о заказах и о результатах теста."
   ]
  },
  {
   "cell_type": "markdown",
   "metadata": {},
   "source": [
    "## Вводные данные"
   ]
  },
  {
   "cell_type": "markdown",
   "metadata": {},
   "source": [
    "Для начала работы загрузим библиотеки и исходные таблицы."
   ]
  },
  {
   "cell_type": "code",
   "execution_count": 1,
   "metadata": {},
   "outputs": [],
   "source": [
    "import pandas as pd\n",
    "pd.set_option('display.max_columns', None) # необходимо для отображения всех столбцов на листе\n",
    "pd.set_option('display.max_colwidth', 120)\n",
    "\n",
    "import warnings\n",
    "warnings.filterwarnings('ignore') # необходимо для отключения предупреждений jupyter\n",
    "import matplotlib.pyplot as plt\n",
    "import numpy as np\n",
    "import scipy.stats as stats\n",
    "\n",
    "hypothesis = pd.read_csv('/datasets/hypothesis.csv')\n",
    "orders = pd.read_csv('/datasets/orders.csv')\n",
    "visitors = pd.read_csv('/datasets/visitors.csv')"
   ]
  },
  {
   "cell_type": "markdown",
   "metadata": {},
   "source": [
    "### hypothesis"
   ]
  },
  {
   "cell_type": "code",
   "execution_count": 2,
   "metadata": {},
   "outputs": [
    {
     "data": {
      "text/html": [
       "<div>\n",
       "<style scoped>\n",
       "    .dataframe tbody tr th:only-of-type {\n",
       "        vertical-align: middle;\n",
       "    }\n",
       "\n",
       "    .dataframe tbody tr th {\n",
       "        vertical-align: top;\n",
       "    }\n",
       "\n",
       "    .dataframe thead th {\n",
       "        text-align: right;\n",
       "    }\n",
       "</style>\n",
       "<table border=\"1\" class=\"dataframe\">\n",
       "  <thead>\n",
       "    <tr style=\"text-align: right;\">\n",
       "      <th></th>\n",
       "      <th>Hypothesis</th>\n",
       "      <th>Reach</th>\n",
       "      <th>Impact</th>\n",
       "      <th>Confidence</th>\n",
       "      <th>Efforts</th>\n",
       "    </tr>\n",
       "  </thead>\n",
       "  <tbody>\n",
       "    <tr>\n",
       "      <td>0</td>\n",
       "      <td>Добавить два новых канала привлечения трафика, что позволит привлекать на 30% больше пользователей</td>\n",
       "      <td>3</td>\n",
       "      <td>10</td>\n",
       "      <td>8</td>\n",
       "      <td>6</td>\n",
       "    </tr>\n",
       "    <tr>\n",
       "      <td>1</td>\n",
       "      <td>Запустить собственную службу доставки, что сократит срок доставки заказов</td>\n",
       "      <td>2</td>\n",
       "      <td>5</td>\n",
       "      <td>4</td>\n",
       "      <td>10</td>\n",
       "    </tr>\n",
       "    <tr>\n",
       "      <td>2</td>\n",
       "      <td>Добавить блоки рекомендаций товаров на сайт интернет магазина, чтобы повысить конверсию и средний чек заказа</td>\n",
       "      <td>8</td>\n",
       "      <td>3</td>\n",
       "      <td>7</td>\n",
       "      <td>3</td>\n",
       "    </tr>\n",
       "    <tr>\n",
       "      <td>3</td>\n",
       "      <td>Изменить структура категорий, что увеличит конверсию, т.к. пользователи быстрее найдут нужный товар</td>\n",
       "      <td>8</td>\n",
       "      <td>3</td>\n",
       "      <td>3</td>\n",
       "      <td>8</td>\n",
       "    </tr>\n",
       "    <tr>\n",
       "      <td>4</td>\n",
       "      <td>Изменить цвет фона главной страницы, чтобы увеличить вовлеченность пользователей</td>\n",
       "      <td>3</td>\n",
       "      <td>1</td>\n",
       "      <td>1</td>\n",
       "      <td>1</td>\n",
       "    </tr>\n",
       "  </tbody>\n",
       "</table>\n",
       "</div>"
      ],
      "text/plain": [
       "                                                                                                     Hypothesis  \\\n",
       "0            Добавить два новых канала привлечения трафика, что позволит привлекать на 30% больше пользователей   \n",
       "1                                     Запустить собственную службу доставки, что сократит срок доставки заказов   \n",
       "2  Добавить блоки рекомендаций товаров на сайт интернет магазина, чтобы повысить конверсию и средний чек заказа   \n",
       "3           Изменить структура категорий, что увеличит конверсию, т.к. пользователи быстрее найдут нужный товар   \n",
       "4                              Изменить цвет фона главной страницы, чтобы увеличить вовлеченность пользователей   \n",
       "\n",
       "   Reach  Impact  Confidence  Efforts  \n",
       "0      3      10           8        6  \n",
       "1      2       5           4       10  \n",
       "2      8       3           7        3  \n",
       "3      8       3           3        8  \n",
       "4      3       1           1        1  "
      ]
     },
     "execution_count": 2,
     "metadata": {},
     "output_type": "execute_result"
    }
   ],
   "source": [
    "hypothesis.head(5)"
   ]
  },
  {
   "cell_type": "code",
   "execution_count": 3,
   "metadata": {},
   "outputs": [
    {
     "name": "stdout",
     "output_type": "stream",
     "text": [
      "<class 'pandas.core.frame.DataFrame'>\n",
      "RangeIndex: 9 entries, 0 to 8\n",
      "Data columns (total 5 columns):\n",
      "Hypothesis    9 non-null object\n",
      "Reach         9 non-null int64\n",
      "Impact        9 non-null int64\n",
      "Confidence    9 non-null int64\n",
      "Efforts       9 non-null int64\n",
      "dtypes: int64(4), object(1)\n",
      "memory usage: 488.0+ bytes\n"
     ]
    }
   ],
   "source": [
    "hypothesis.info()"
   ]
  },
  {
   "cell_type": "markdown",
   "metadata": {},
   "source": [
    "Видим заглавные буквы в названиях, лучше бы заменить."
   ]
  },
  {
   "cell_type": "code",
   "execution_count": 4,
   "metadata": {},
   "outputs": [],
   "source": [
    "hypothesis.columns = ['hypothesis', 'reach', 'impact', 'confidence', 'efforts']"
   ]
  },
  {
   "cell_type": "markdown",
   "metadata": {},
   "source": [
    "### orders"
   ]
  },
  {
   "cell_type": "code",
   "execution_count": 5,
   "metadata": {},
   "outputs": [
    {
     "data": {
      "text/html": [
       "<div>\n",
       "<style scoped>\n",
       "    .dataframe tbody tr th:only-of-type {\n",
       "        vertical-align: middle;\n",
       "    }\n",
       "\n",
       "    .dataframe tbody tr th {\n",
       "        vertical-align: top;\n",
       "    }\n",
       "\n",
       "    .dataframe thead th {\n",
       "        text-align: right;\n",
       "    }\n",
       "</style>\n",
       "<table border=\"1\" class=\"dataframe\">\n",
       "  <thead>\n",
       "    <tr style=\"text-align: right;\">\n",
       "      <th></th>\n",
       "      <th>transactionId</th>\n",
       "      <th>visitorId</th>\n",
       "      <th>date</th>\n",
       "      <th>revenue</th>\n",
       "      <th>group</th>\n",
       "    </tr>\n",
       "  </thead>\n",
       "  <tbody>\n",
       "    <tr>\n",
       "      <td>0</td>\n",
       "      <td>3667963787</td>\n",
       "      <td>3312258926</td>\n",
       "      <td>2019-08-15</td>\n",
       "      <td>1650</td>\n",
       "      <td>B</td>\n",
       "    </tr>\n",
       "    <tr>\n",
       "      <td>1</td>\n",
       "      <td>2804400009</td>\n",
       "      <td>3642806036</td>\n",
       "      <td>2019-08-15</td>\n",
       "      <td>730</td>\n",
       "      <td>B</td>\n",
       "    </tr>\n",
       "    <tr>\n",
       "      <td>2</td>\n",
       "      <td>2961555356</td>\n",
       "      <td>4069496402</td>\n",
       "      <td>2019-08-15</td>\n",
       "      <td>400</td>\n",
       "      <td>A</td>\n",
       "    </tr>\n",
       "    <tr>\n",
       "      <td>3</td>\n",
       "      <td>3797467345</td>\n",
       "      <td>1196621759</td>\n",
       "      <td>2019-08-15</td>\n",
       "      <td>9759</td>\n",
       "      <td>B</td>\n",
       "    </tr>\n",
       "    <tr>\n",
       "      <td>4</td>\n",
       "      <td>2282983706</td>\n",
       "      <td>2322279887</td>\n",
       "      <td>2019-08-15</td>\n",
       "      <td>2308</td>\n",
       "      <td>B</td>\n",
       "    </tr>\n",
       "  </tbody>\n",
       "</table>\n",
       "</div>"
      ],
      "text/plain": [
       "   transactionId   visitorId        date  revenue group\n",
       "0     3667963787  3312258926  2019-08-15     1650     B\n",
       "1     2804400009  3642806036  2019-08-15      730     B\n",
       "2     2961555356  4069496402  2019-08-15      400     A\n",
       "3     3797467345  1196621759  2019-08-15     9759     B\n",
       "4     2282983706  2322279887  2019-08-15     2308     B"
      ]
     },
     "execution_count": 5,
     "metadata": {},
     "output_type": "execute_result"
    }
   ],
   "source": [
    "orders.head(5)"
   ]
  },
  {
   "cell_type": "code",
   "execution_count": 6,
   "metadata": {},
   "outputs": [
    {
     "name": "stdout",
     "output_type": "stream",
     "text": [
      "<class 'pandas.core.frame.DataFrame'>\n",
      "RangeIndex: 1197 entries, 0 to 1196\n",
      "Data columns (total 5 columns):\n",
      "transactionId    1197 non-null int64\n",
      "visitorId        1197 non-null int64\n",
      "date             1197 non-null object\n",
      "revenue          1197 non-null int64\n",
      "group            1197 non-null object\n",
      "dtypes: int64(3), object(2)\n",
      "memory usage: 46.9+ KB\n"
     ]
    }
   ],
   "source": [
    "orders.info()"
   ]
  },
  {
   "cell_type": "markdown",
   "metadata": {},
   "source": [
    "Не будет лишним проверить таблицу на дубликаты, и заменить формат даты."
   ]
  },
  {
   "cell_type": "code",
   "execution_count": 7,
   "metadata": {},
   "outputs": [
    {
     "data": {
      "text/plain": [
       "0"
      ]
     },
     "execution_count": 7,
     "metadata": {},
     "output_type": "execute_result"
    }
   ],
   "source": [
    "orders.duplicated().sum()"
   ]
  },
  {
   "cell_type": "code",
   "execution_count": 8,
   "metadata": {},
   "outputs": [],
   "source": [
    "orders['date'] = orders['date'].astype('datetime64')"
   ]
  },
  {
   "cell_type": "markdown",
   "metadata": {},
   "source": [
    "### visitors"
   ]
  },
  {
   "cell_type": "code",
   "execution_count": 9,
   "metadata": {},
   "outputs": [
    {
     "data": {
      "text/html": [
       "<div>\n",
       "<style scoped>\n",
       "    .dataframe tbody tr th:only-of-type {\n",
       "        vertical-align: middle;\n",
       "    }\n",
       "\n",
       "    .dataframe tbody tr th {\n",
       "        vertical-align: top;\n",
       "    }\n",
       "\n",
       "    .dataframe thead th {\n",
       "        text-align: right;\n",
       "    }\n",
       "</style>\n",
       "<table border=\"1\" class=\"dataframe\">\n",
       "  <thead>\n",
       "    <tr style=\"text-align: right;\">\n",
       "      <th></th>\n",
       "      <th>date</th>\n",
       "      <th>group</th>\n",
       "      <th>visitors</th>\n",
       "    </tr>\n",
       "  </thead>\n",
       "  <tbody>\n",
       "    <tr>\n",
       "      <td>0</td>\n",
       "      <td>2019-08-01</td>\n",
       "      <td>A</td>\n",
       "      <td>719</td>\n",
       "    </tr>\n",
       "    <tr>\n",
       "      <td>1</td>\n",
       "      <td>2019-08-02</td>\n",
       "      <td>A</td>\n",
       "      <td>619</td>\n",
       "    </tr>\n",
       "    <tr>\n",
       "      <td>2</td>\n",
       "      <td>2019-08-03</td>\n",
       "      <td>A</td>\n",
       "      <td>507</td>\n",
       "    </tr>\n",
       "    <tr>\n",
       "      <td>3</td>\n",
       "      <td>2019-08-04</td>\n",
       "      <td>A</td>\n",
       "      <td>717</td>\n",
       "    </tr>\n",
       "    <tr>\n",
       "      <td>4</td>\n",
       "      <td>2019-08-05</td>\n",
       "      <td>A</td>\n",
       "      <td>756</td>\n",
       "    </tr>\n",
       "  </tbody>\n",
       "</table>\n",
       "</div>"
      ],
      "text/plain": [
       "         date group  visitors\n",
       "0  2019-08-01     A       719\n",
       "1  2019-08-02     A       619\n",
       "2  2019-08-03     A       507\n",
       "3  2019-08-04     A       717\n",
       "4  2019-08-05     A       756"
      ]
     },
     "execution_count": 9,
     "metadata": {},
     "output_type": "execute_result"
    }
   ],
   "source": [
    "visitors.head(5)"
   ]
  },
  {
   "cell_type": "code",
   "execution_count": 10,
   "metadata": {},
   "outputs": [],
   "source": [
    "visitors['date'] = visitors['date'].astype('datetime64')"
   ]
  },
  {
   "cell_type": "markdown",
   "metadata": {},
   "source": [
    "## Приоритизация гипотез"
   ]
  },
  {
   "cell_type": "markdown",
   "metadata": {},
   "source": [
    "При знакомстве с таблицей увидели, имеется 9 гипотез. Необходимо расставить приоритеты."
   ]
  },
  {
   "cell_type": "markdown",
   "metadata": {},
   "source": [
    "### ICE"
   ]
  },
  {
   "cell_type": "markdown",
   "metadata": {},
   "source": [
    "Начнем с метода ICE."
   ]
  },
  {
   "cell_type": "code",
   "execution_count": 11,
   "metadata": {},
   "outputs": [
    {
     "data": {
      "text/html": [
       "<div>\n",
       "<style scoped>\n",
       "    .dataframe tbody tr th:only-of-type {\n",
       "        vertical-align: middle;\n",
       "    }\n",
       "\n",
       "    .dataframe tbody tr th {\n",
       "        vertical-align: top;\n",
       "    }\n",
       "\n",
       "    .dataframe thead th {\n",
       "        text-align: right;\n",
       "    }\n",
       "</style>\n",
       "<table border=\"1\" class=\"dataframe\">\n",
       "  <thead>\n",
       "    <tr style=\"text-align: right;\">\n",
       "      <th></th>\n",
       "      <th>hypothesis</th>\n",
       "      <th>impact</th>\n",
       "      <th>confidence</th>\n",
       "      <th>efforts</th>\n",
       "      <th>ICE</th>\n",
       "    </tr>\n",
       "  </thead>\n",
       "  <tbody>\n",
       "    <tr>\n",
       "      <td>8</td>\n",
       "      <td>Запустить акцию, дающую скидку на товар в день рождения</td>\n",
       "      <td>9</td>\n",
       "      <td>9</td>\n",
       "      <td>5</td>\n",
       "      <td>16.200000</td>\n",
       "    </tr>\n",
       "    <tr>\n",
       "      <td>0</td>\n",
       "      <td>Добавить два новых канала привлечения трафика, что позволит привлекать на 30% больше пользователей</td>\n",
       "      <td>10</td>\n",
       "      <td>8</td>\n",
       "      <td>6</td>\n",
       "      <td>13.333333</td>\n",
       "    </tr>\n",
       "    <tr>\n",
       "      <td>7</td>\n",
       "      <td>Добавить форму подписки на все основные страницы, чтобы собрать базу клиентов для email-рассылок</td>\n",
       "      <td>7</td>\n",
       "      <td>8</td>\n",
       "      <td>5</td>\n",
       "      <td>11.200000</td>\n",
       "    </tr>\n",
       "    <tr>\n",
       "      <td>6</td>\n",
       "      <td>Показать на главной странице баннеры с актуальными акциями и распродажами, чтобы увеличить конверсию</td>\n",
       "      <td>3</td>\n",
       "      <td>8</td>\n",
       "      <td>3</td>\n",
       "      <td>8.000000</td>\n",
       "    </tr>\n",
       "    <tr>\n",
       "      <td>2</td>\n",
       "      <td>Добавить блоки рекомендаций товаров на сайт интернет магазина, чтобы повысить конверсию и средний чек заказа</td>\n",
       "      <td>3</td>\n",
       "      <td>7</td>\n",
       "      <td>3</td>\n",
       "      <td>7.000000</td>\n",
       "    </tr>\n",
       "    <tr>\n",
       "      <td>1</td>\n",
       "      <td>Запустить собственную службу доставки, что сократит срок доставки заказов</td>\n",
       "      <td>5</td>\n",
       "      <td>4</td>\n",
       "      <td>10</td>\n",
       "      <td>2.000000</td>\n",
       "    </tr>\n",
       "    <tr>\n",
       "      <td>5</td>\n",
       "      <td>Добавить страницу отзывов клиентов о магазине, что позволит увеличить количество заказов</td>\n",
       "      <td>2</td>\n",
       "      <td>2</td>\n",
       "      <td>3</td>\n",
       "      <td>1.333333</td>\n",
       "    </tr>\n",
       "    <tr>\n",
       "      <td>3</td>\n",
       "      <td>Изменить структура категорий, что увеличит конверсию, т.к. пользователи быстрее найдут нужный товар</td>\n",
       "      <td>3</td>\n",
       "      <td>3</td>\n",
       "      <td>8</td>\n",
       "      <td>1.125000</td>\n",
       "    </tr>\n",
       "    <tr>\n",
       "      <td>4</td>\n",
       "      <td>Изменить цвет фона главной страницы, чтобы увеличить вовлеченность пользователей</td>\n",
       "      <td>1</td>\n",
       "      <td>1</td>\n",
       "      <td>1</td>\n",
       "      <td>1.000000</td>\n",
       "    </tr>\n",
       "  </tbody>\n",
       "</table>\n",
       "</div>"
      ],
      "text/plain": [
       "                                                                                                     hypothesis  \\\n",
       "8                                                       Запустить акцию, дающую скидку на товар в день рождения   \n",
       "0            Добавить два новых канала привлечения трафика, что позволит привлекать на 30% больше пользователей   \n",
       "7              Добавить форму подписки на все основные страницы, чтобы собрать базу клиентов для email-рассылок   \n",
       "6          Показать на главной странице баннеры с актуальными акциями и распродажами, чтобы увеличить конверсию   \n",
       "2  Добавить блоки рекомендаций товаров на сайт интернет магазина, чтобы повысить конверсию и средний чек заказа   \n",
       "1                                     Запустить собственную службу доставки, что сократит срок доставки заказов   \n",
       "5                      Добавить страницу отзывов клиентов о магазине, что позволит увеличить количество заказов   \n",
       "3           Изменить структура категорий, что увеличит конверсию, т.к. пользователи быстрее найдут нужный товар   \n",
       "4                              Изменить цвет фона главной страницы, чтобы увеличить вовлеченность пользователей   \n",
       "\n",
       "   impact  confidence  efforts        ICE  \n",
       "8       9           9        5  16.200000  \n",
       "0      10           8        6  13.333333  \n",
       "7       7           8        5  11.200000  \n",
       "6       3           8        3   8.000000  \n",
       "2       3           7        3   7.000000  \n",
       "1       5           4       10   2.000000  \n",
       "5       2           2        3   1.333333  \n",
       "3       3           3        8   1.125000  \n",
       "4       1           1        1   1.000000  "
      ]
     },
     "metadata": {},
     "output_type": "display_data"
    }
   ],
   "source": [
    "hypothesis['ICE'] = hypothesis['impact'] * hypothesis['confidence'] / hypothesis['efforts']\n",
    "\n",
    "display(hypothesis[['hypothesis', 'impact', 'confidence', 'efforts', 'ICE']].sort_values(by = 'ICE', ascending = False))"
   ]
  },
  {
   "cell_type": "markdown",
   "metadata": {},
   "source": [
    "Наиболее важными гипотезами стали 8, 0 и 7 с примерно равным отрывом."
   ]
  },
  {
   "cell_type": "markdown",
   "metadata": {},
   "source": [
    "### RICE"
   ]
  },
  {
   "cell_type": "code",
   "execution_count": 12,
   "metadata": {},
   "outputs": [
    {
     "data": {
      "text/html": [
       "<div>\n",
       "<style scoped>\n",
       "    .dataframe tbody tr th:only-of-type {\n",
       "        vertical-align: middle;\n",
       "    }\n",
       "\n",
       "    .dataframe tbody tr th {\n",
       "        vertical-align: top;\n",
       "    }\n",
       "\n",
       "    .dataframe thead th {\n",
       "        text-align: right;\n",
       "    }\n",
       "</style>\n",
       "<table border=\"1\" class=\"dataframe\">\n",
       "  <thead>\n",
       "    <tr style=\"text-align: right;\">\n",
       "      <th></th>\n",
       "      <th>hypothesis</th>\n",
       "      <th>reach</th>\n",
       "      <th>impact</th>\n",
       "      <th>confidence</th>\n",
       "      <th>efforts</th>\n",
       "      <th>RICE</th>\n",
       "    </tr>\n",
       "  </thead>\n",
       "  <tbody>\n",
       "    <tr>\n",
       "      <td>7</td>\n",
       "      <td>Добавить форму подписки на все основные страницы, чтобы собрать базу клиентов для email-рассылок</td>\n",
       "      <td>10</td>\n",
       "      <td>7</td>\n",
       "      <td>8</td>\n",
       "      <td>5</td>\n",
       "      <td>112.0</td>\n",
       "    </tr>\n",
       "    <tr>\n",
       "      <td>2</td>\n",
       "      <td>Добавить блоки рекомендаций товаров на сайт интернет магазина, чтобы повысить конверсию и средний чек заказа</td>\n",
       "      <td>8</td>\n",
       "      <td>3</td>\n",
       "      <td>7</td>\n",
       "      <td>3</td>\n",
       "      <td>56.0</td>\n",
       "    </tr>\n",
       "    <tr>\n",
       "      <td>0</td>\n",
       "      <td>Добавить два новых канала привлечения трафика, что позволит привлекать на 30% больше пользователей</td>\n",
       "      <td>3</td>\n",
       "      <td>10</td>\n",
       "      <td>8</td>\n",
       "      <td>6</td>\n",
       "      <td>40.0</td>\n",
       "    </tr>\n",
       "    <tr>\n",
       "      <td>6</td>\n",
       "      <td>Показать на главной странице баннеры с актуальными акциями и распродажами, чтобы увеличить конверсию</td>\n",
       "      <td>5</td>\n",
       "      <td>3</td>\n",
       "      <td>8</td>\n",
       "      <td>3</td>\n",
       "      <td>40.0</td>\n",
       "    </tr>\n",
       "    <tr>\n",
       "      <td>8</td>\n",
       "      <td>Запустить акцию, дающую скидку на товар в день рождения</td>\n",
       "      <td>1</td>\n",
       "      <td>9</td>\n",
       "      <td>9</td>\n",
       "      <td>5</td>\n",
       "      <td>16.2</td>\n",
       "    </tr>\n",
       "    <tr>\n",
       "      <td>3</td>\n",
       "      <td>Изменить структура категорий, что увеличит конверсию, т.к. пользователи быстрее найдут нужный товар</td>\n",
       "      <td>8</td>\n",
       "      <td>3</td>\n",
       "      <td>3</td>\n",
       "      <td>8</td>\n",
       "      <td>9.0</td>\n",
       "    </tr>\n",
       "    <tr>\n",
       "      <td>1</td>\n",
       "      <td>Запустить собственную службу доставки, что сократит срок доставки заказов</td>\n",
       "      <td>2</td>\n",
       "      <td>5</td>\n",
       "      <td>4</td>\n",
       "      <td>10</td>\n",
       "      <td>4.0</td>\n",
       "    </tr>\n",
       "    <tr>\n",
       "      <td>5</td>\n",
       "      <td>Добавить страницу отзывов клиентов о магазине, что позволит увеличить количество заказов</td>\n",
       "      <td>3</td>\n",
       "      <td>2</td>\n",
       "      <td>2</td>\n",
       "      <td>3</td>\n",
       "      <td>4.0</td>\n",
       "    </tr>\n",
       "    <tr>\n",
       "      <td>4</td>\n",
       "      <td>Изменить цвет фона главной страницы, чтобы увеличить вовлеченность пользователей</td>\n",
       "      <td>3</td>\n",
       "      <td>1</td>\n",
       "      <td>1</td>\n",
       "      <td>1</td>\n",
       "      <td>3.0</td>\n",
       "    </tr>\n",
       "  </tbody>\n",
       "</table>\n",
       "</div>"
      ],
      "text/plain": [
       "                                                                                                     hypothesis  \\\n",
       "7              Добавить форму подписки на все основные страницы, чтобы собрать базу клиентов для email-рассылок   \n",
       "2  Добавить блоки рекомендаций товаров на сайт интернет магазина, чтобы повысить конверсию и средний чек заказа   \n",
       "0            Добавить два новых канала привлечения трафика, что позволит привлекать на 30% больше пользователей   \n",
       "6          Показать на главной странице баннеры с актуальными акциями и распродажами, чтобы увеличить конверсию   \n",
       "8                                                       Запустить акцию, дающую скидку на товар в день рождения   \n",
       "3           Изменить структура категорий, что увеличит конверсию, т.к. пользователи быстрее найдут нужный товар   \n",
       "1                                     Запустить собственную службу доставки, что сократит срок доставки заказов   \n",
       "5                      Добавить страницу отзывов клиентов о магазине, что позволит увеличить количество заказов   \n",
       "4                              Изменить цвет фона главной страницы, чтобы увеличить вовлеченность пользователей   \n",
       "\n",
       "   reach  impact  confidence  efforts   RICE  \n",
       "7     10       7           8        5  112.0  \n",
       "2      8       3           7        3   56.0  \n",
       "0      3      10           8        6   40.0  \n",
       "6      5       3           8        3   40.0  \n",
       "8      1       9           9        5   16.2  \n",
       "3      8       3           3        8    9.0  \n",
       "1      2       5           4       10    4.0  \n",
       "5      3       2           2        3    4.0  \n",
       "4      3       1           1        1    3.0  "
      ]
     },
     "metadata": {},
     "output_type": "display_data"
    }
   ],
   "source": [
    "hypothesis['RICE'] = hypothesis['reach'] * hypothesis['impact'] * hypothesis['confidence'] / hypothesis['efforts']\n",
    "\n",
    "display(hypothesis[['hypothesis', 'reach', 'impact', 'confidence', 'efforts', 'RICE']].sort_values('RICE', ascending = False))"
   ]
  },
  {
   "cell_type": "markdown",
   "metadata": {},
   "source": [
    "При методе RICE  с учетом охвата, в лидеры вырвались 7, 2, 0 и 6 гипотезы, причем 0 и 6 с одинаковыми баллами. Остальные гипотезы сильно отстают. Стоит отметить, 8 гипотеза, что была первой по методу ICE, теперь нивелировалась, у нее очень низкий охват. 7 поднялась в рейтинге, ее охват очень высокий."
   ]
  },
  {
   "cell_type": "markdown",
   "metadata": {},
   "source": [
    "## Анализ A/B-теста"
   ]
  },
  {
   "cell_type": "markdown",
   "metadata": {},
   "source": [
    "В связи с дальнейшей необходимостью деления пользователей на группы А и В, проверим, чтобы один пользователь принадлежал только одной группе."
   ]
  },
  {
   "cell_type": "code",
   "execution_count": 13,
   "metadata": {},
   "outputs": [
    {
     "data": {
      "text/plain": [
       "visitorId    58\n",
       "group        58\n",
       "dtype: int64"
      ]
     },
     "execution_count": 13,
     "metadata": {},
     "output_type": "execute_result"
    }
   ],
   "source": [
    "orderschek = orders.groupby('visitorId', as_index = False).agg({'group' : 'nunique'})\n",
    "orderschek = orderschek[orderschek['group'] > 1]\n",
    "orderschek.count()"
   ]
  },
  {
   "cell_type": "markdown",
   "metadata": {},
   "source": [
    "В таблице присутствует 58 пользователей, принадлежащих к 2 группам. Удалим их."
   ]
  },
  {
   "cell_type": "code",
   "execution_count": 14,
   "metadata": {},
   "outputs": [
    {
     "name": "stdout",
     "output_type": "stream",
     "text": [
      "<class 'pandas.core.frame.DataFrame'>\n",
      "Int64Index: 1016 entries, 0 to 1196\n",
      "Data columns (total 5 columns):\n",
      "transactionId    1016 non-null int64\n",
      "visitorId        1016 non-null int64\n",
      "date             1016 non-null datetime64[ns]\n",
      "revenue          1016 non-null int64\n",
      "group            1016 non-null object\n",
      "dtypes: datetime64[ns](1), int64(3), object(1)\n",
      "memory usage: 47.6+ KB\n"
     ]
    }
   ],
   "source": [
    "orders = orders.drop(orders[orders['visitorId'].isin(orderschek['visitorId'])].index)\n",
    "orders.info()"
   ]
  },
  {
   "cell_type": "markdown",
   "metadata": {},
   "source": [
    "Посмотрим соотношение групп по колличеству."
   ]
  },
  {
   "cell_type": "code",
   "execution_count": 15,
   "metadata": {},
   "outputs": [
    {
     "data": {
      "text/plain": [
       "group\n",
       "A    445\n",
       "B    528\n",
       "Name: visitorId, dtype: int64"
      ]
     },
     "execution_count": 15,
     "metadata": {},
     "output_type": "execute_result"
    }
   ],
   "source": [
    "orders.groupby('group')['visitorId'].nunique()"
   ]
  },
  {
   "cell_type": "markdown",
   "metadata": {},
   "source": [
    "Доли в процентах составят: А - 45.73%, В - 54,27%. Таким образом, при таком различии выборки разница может составить 15,73%. Необходимо обязательно учесть этот факт при анализе."
   ]
  },
  {
   "cell_type": "markdown",
   "metadata": {},
   "source": [
    "### Анализ сырых данных"
   ]
  },
  {
   "cell_type": "markdown",
   "metadata": {},
   "source": [
    "#### Кумулятивная выручка"
   ]
  },
  {
   "cell_type": "markdown",
   "metadata": {},
   "source": [
    "Для подсчета кумулятивной выручки подготовим список уникальных дат."
   ]
  },
  {
   "cell_type": "code",
   "execution_count": 16,
   "metadata": {},
   "outputs": [],
   "source": [
    "datesGroups = orders[['date','group']].drop_duplicates() "
   ]
  },
  {
   "cell_type": "markdown",
   "metadata": {},
   "source": [
    "Перебором подсчитаем требуемые параметры."
   ]
  },
  {
   "cell_type": "code",
   "execution_count": 17,
   "metadata": {},
   "outputs": [
    {
     "data": {
      "text/html": [
       "<div>\n",
       "<style scoped>\n",
       "    .dataframe tbody tr th:only-of-type {\n",
       "        vertical-align: middle;\n",
       "    }\n",
       "\n",
       "    .dataframe tbody tr th {\n",
       "        vertical-align: top;\n",
       "    }\n",
       "\n",
       "    .dataframe thead th {\n",
       "        text-align: right;\n",
       "    }\n",
       "</style>\n",
       "<table border=\"1\" class=\"dataframe\">\n",
       "  <thead>\n",
       "    <tr style=\"text-align: right;\">\n",
       "      <th></th>\n",
       "      <th>date</th>\n",
       "      <th>group</th>\n",
       "      <th>transactionId</th>\n",
       "      <th>visitorId</th>\n",
       "      <th>revenue</th>\n",
       "    </tr>\n",
       "  </thead>\n",
       "  <tbody>\n",
       "    <tr>\n",
       "      <td>55</td>\n",
       "      <td>2019-08-01</td>\n",
       "      <td>A</td>\n",
       "      <td>23</td>\n",
       "      <td>19</td>\n",
       "      <td>142779</td>\n",
       "    </tr>\n",
       "    <tr>\n",
       "      <td>66</td>\n",
       "      <td>2019-08-01</td>\n",
       "      <td>B</td>\n",
       "      <td>17</td>\n",
       "      <td>17</td>\n",
       "      <td>59758</td>\n",
       "    </tr>\n",
       "    <tr>\n",
       "      <td>175</td>\n",
       "      <td>2019-08-02</td>\n",
       "      <td>A</td>\n",
       "      <td>42</td>\n",
       "      <td>36</td>\n",
       "      <td>234381</td>\n",
       "    </tr>\n",
       "    <tr>\n",
       "      <td>173</td>\n",
       "      <td>2019-08-02</td>\n",
       "      <td>B</td>\n",
       "      <td>40</td>\n",
       "      <td>39</td>\n",
       "      <td>221801</td>\n",
       "    </tr>\n",
       "    <tr>\n",
       "      <td>291</td>\n",
       "      <td>2019-08-03</td>\n",
       "      <td>A</td>\n",
       "      <td>66</td>\n",
       "      <td>60</td>\n",
       "      <td>346854</td>\n",
       "    </tr>\n",
       "  </tbody>\n",
       "</table>\n",
       "</div>"
      ],
      "text/plain": [
       "          date group  transactionId  visitorId  revenue\n",
       "55  2019-08-01     A             23         19   142779\n",
       "66  2019-08-01     B             17         17    59758\n",
       "175 2019-08-02     A             42         36   234381\n",
       "173 2019-08-02     B             40         39   221801\n",
       "291 2019-08-03     A             66         60   346854"
      ]
     },
     "execution_count": 17,
     "metadata": {},
     "output_type": "execute_result"
    }
   ],
   "source": [
    "ordersAggregated = datesGroups.apply(lambda x: orders[np.logical_and(orders['date'] <= x['date'], orders['group'] == x['group'])]\\\n",
    ".agg({'date' : 'max', 'group' : 'max', 'transactionId' : 'nunique', 'visitorId' : 'nunique', 'revenue' : 'sum'}), axis=1).sort_values(by=['date','group'])\n",
    "ordersAggregated.head(5)"
   ]
  },
  {
   "cell_type": "markdown",
   "metadata": {},
   "source": [
    "Построим график по выручке в разрезе групп."
   ]
  },
  {
   "cell_type": "code",
   "execution_count": 18,
   "metadata": {
    "scrolled": false
   },
   "outputs": [
    {
     "data": {
      "image/png": "[encoded data removed]",
      "text/plain": [
       "<Figure size 864x504 with 1 Axes>"
      ]
     },
     "metadata": {
      "needs_background": "light"
     },
     "output_type": "display_data"
    }
   ],
   "source": [
    "plt.figure(figsize=(12, 7))\n",
    "plt.title('Накопленная выручка по группам А и В')\n",
    "plt.ylabel('рубли РФ')\n",
    "plt.grid(True)\n",
    "plt.plot(ordersAggregated[ordersAggregated['group'] == 'A']['date'], ordersAggregated[ordersAggregated['group'] == 'A']['revenue'], label='A')\n",
    "plt.plot(ordersAggregated[ordersAggregated['group'] == 'B']['date'], ordersAggregated[ordersAggregated['group'] == 'B']['revenue'], label='B')\n",
    "plt.legend() \n",
    "plt.show()"
   ]
  },
  {
   "cell_type": "markdown",
   "metadata": {},
   "source": [
    "Выручка почти равномерно увеличивается в течение всего теста. Однако по группе В график выручки в точке резко растет. Это может сигнализировать о всплесках числа заказов, либо о появлении очень дорогих заказов в выборке. Такие выбросы проанализируем отдельно."
   ]
  },
  {
   "cell_type": "markdown",
   "metadata": {},
   "source": [
    "#### Кумулятивный средний чек"
   ]
  },
  {
   "cell_type": "markdown",
   "metadata": {},
   "source": [
    "Построим графики среднего чека по группам — разделим кумулятивную выручку на кумулятивное число заказов."
   ]
  },
  {
   "cell_type": "code",
   "execution_count": 19,
   "metadata": {
    "scrolled": false
   },
   "outputs": [
    {
     "data": {
      "image/png": "[encoded data removed]",
      "text/plain": [
       "<Figure size 864x504 with 1 Axes>"
      ]
     },
     "metadata": {
      "needs_background": "light"
     },
     "output_type": "display_data"
    }
   ],
   "source": [
    "plt.figure(figsize=(12, 7))\n",
    "plt.title('Накопленная сумма среднего чека по группам А и В')\n",
    "plt.ylabel('рубли РФ')\n",
    "plt.grid(True)\n",
    "plt.plot(ordersAggregated[ordersAggregated['group'] == 'A']['date'], ordersAggregated[ordersAggregated['group'] == 'A']['revenue'] / ordersAggregated[ordersAggregated['group'] == 'A']['visitorId'], label='A')\n",
    "plt.plot(ordersAggregated[ordersAggregated['group'] == 'B']['date'], ordersAggregated[ordersAggregated['group'] == 'B']['revenue'] / ordersAggregated[ordersAggregated['group'] == 'B']['visitorId'], label='B')\n",
    "plt.legend() \n",
    "plt.show()"
   ]
  },
  {
   "cell_type": "markdown",
   "metadata": {},
   "source": [
    "Средний чек не становится равномерным с течением теста. Возможно, в группу B попали крупные заказы (резкий всплеск на графике)."
   ]
  },
  {
   "cell_type": "markdown",
   "metadata": {},
   "source": [
    "#### Относительное изменение кумулятивного среднего чека группы B к группе A"
   ]
  },
  {
   "cell_type": "markdown",
   "metadata": {},
   "source": [
    "Попробуем посмотреть на график относительного изменения среднего чека в группах. Для этого добавим данные по группам в одну таблицу в разные столбцы."
   ]
  },
  {
   "cell_type": "code",
   "execution_count": 20,
   "metadata": {},
   "outputs": [
    {
     "data": {
      "image/png": "[encoded data removed]",
      "text/plain": [
       "<Figure size 864x504 with 1 Axes>"
      ]
     },
     "metadata": {
      "needs_background": "light"
     },
     "output_type": "display_data"
    }
   ],
   "source": [
    "# разделим табличку на группы\n",
    "cumulativedataA = ordersAggregated[ordersAggregated['group'] == 'A']\n",
    "cumulativedataB = ordersAggregated[ordersAggregated['group'] == 'B']\n",
    "\n",
    "mergedCumulativedata = cumulativedataA.merge(cumulativedataB, on='date', how='left', suffixes=['A', 'B'])\n",
    "# соединим с присвоением суффиксов\n",
    "\n",
    "plt.figure(figsize=(12, 7))\n",
    "plt.title('Отношение среднего чека гр. В к гр. А')\n",
    "plt.grid(True)\n",
    "plt.plot(mergedCumulativedata['date'], (mergedCumulativedata['revenueB']/mergedCumulativedata['transactionIdB'])/(mergedCumulativedata['revenueA']/mergedCumulativedata['transactionIdA'])-1)\n",
    "# добавляем ось X\n",
    "plt.axhline(y=0, color='black', linestyle='--') \n",
    "plt.show()"
   ]
  },
  {
   "cell_type": "markdown",
   "metadata": {},
   "source": [
    "В нескольких точках график различия между сегментами резко «скачет». Где-то имеются вбросы. Но даже по этому графику видно, что группа В имеет тенденцию к лучшим результатам по сравнению с А."
   ]
  },
  {
   "cell_type": "markdown",
   "metadata": {},
   "source": [
    "#### Кумулятивная конверсия по группам"
   ]
  },
  {
   "cell_type": "markdown",
   "metadata": {},
   "source": [
    "Аналогичным образом проанализируем график кумулятивной конверсии. Конверсия - важнейший показатель. Для его нахождения необходимо подсчитать кумулятивные значения посетителей, и добавить в основную таблицу."
   ]
  },
  {
   "cell_type": "code",
   "execution_count": 21,
   "metadata": {},
   "outputs": [
    {
     "data": {
      "text/html": [
       "<div>\n",
       "<style scoped>\n",
       "    .dataframe tbody tr th:only-of-type {\n",
       "        vertical-align: middle;\n",
       "    }\n",
       "\n",
       "    .dataframe tbody tr th {\n",
       "        vertical-align: top;\n",
       "    }\n",
       "\n",
       "    .dataframe thead th {\n",
       "        text-align: right;\n",
       "    }\n",
       "</style>\n",
       "<table border=\"1\" class=\"dataframe\">\n",
       "  <thead>\n",
       "    <tr style=\"text-align: right;\">\n",
       "      <th></th>\n",
       "      <th>date</th>\n",
       "      <th>group</th>\n",
       "      <th>orders</th>\n",
       "      <th>buyers</th>\n",
       "      <th>revenue</th>\n",
       "      <th>visitors</th>\n",
       "      <th>conversion</th>\n",
       "    </tr>\n",
       "  </thead>\n",
       "  <tbody>\n",
       "    <tr>\n",
       "      <td>0</td>\n",
       "      <td>2019-08-01</td>\n",
       "      <td>A</td>\n",
       "      <td>23</td>\n",
       "      <td>19</td>\n",
       "      <td>142779</td>\n",
       "      <td>719</td>\n",
       "      <td>0.031989</td>\n",
       "    </tr>\n",
       "    <tr>\n",
       "      <td>1</td>\n",
       "      <td>2019-08-01</td>\n",
       "      <td>B</td>\n",
       "      <td>17</td>\n",
       "      <td>17</td>\n",
       "      <td>59758</td>\n",
       "      <td>713</td>\n",
       "      <td>0.023843</td>\n",
       "    </tr>\n",
       "    <tr>\n",
       "      <td>2</td>\n",
       "      <td>2019-08-02</td>\n",
       "      <td>A</td>\n",
       "      <td>42</td>\n",
       "      <td>36</td>\n",
       "      <td>234381</td>\n",
       "      <td>1338</td>\n",
       "      <td>0.031390</td>\n",
       "    </tr>\n",
       "    <tr>\n",
       "      <td>3</td>\n",
       "      <td>2019-08-02</td>\n",
       "      <td>B</td>\n",
       "      <td>40</td>\n",
       "      <td>39</td>\n",
       "      <td>221801</td>\n",
       "      <td>1294</td>\n",
       "      <td>0.030912</td>\n",
       "    </tr>\n",
       "    <tr>\n",
       "      <td>4</td>\n",
       "      <td>2019-08-03</td>\n",
       "      <td>A</td>\n",
       "      <td>66</td>\n",
       "      <td>60</td>\n",
       "      <td>346854</td>\n",
       "      <td>1845</td>\n",
       "      <td>0.035772</td>\n",
       "    </tr>\n",
       "  </tbody>\n",
       "</table>\n",
       "</div>"
      ],
      "text/plain": [
       "        date group  orders  buyers  revenue  visitors  conversion\n",
       "0 2019-08-01     A      23      19   142779       719    0.031989\n",
       "1 2019-08-01     B      17      17    59758       713    0.023843\n",
       "2 2019-08-02     A      42      36   234381      1338    0.031390\n",
       "3 2019-08-02     B      40      39   221801      1294    0.030912\n",
       "4 2019-08-03     A      66      60   346854      1845    0.035772"
      ]
     },
     "metadata": {},
     "output_type": "display_data"
    }
   ],
   "source": [
    "visitorsAggregated = datesGroups.apply(lambda x: visitors[np.logical_and(visitors['date'] <= x['date'], visitors['group'] == x['group'])].agg({'date' : 'max', 'group' : 'max', 'visitors' : 'sum'}), axis=1).sort_values(by=['date','group'])\n",
    "\n",
    "# объединяем кумулятивные данные в одной таблице и присваиваем ее столбцам понятные названия\n",
    "cumulativeData = ordersAggregated.merge(visitorsAggregated, on=['date', 'group'])\n",
    "cumulativeData.columns = ['date', 'group', 'orders', 'buyers', 'revenue', 'visitors']\n",
    "\n",
    "cumulativeData['conversion'] = cumulativeData['orders']/cumulativeData['visitors']\n",
    "cumulativeData2A = cumulativeData[cumulativeData['group']=='A']\n",
    "cumulativeData2B = cumulativeData[cumulativeData['group']=='B']\n",
    "\n",
    "display(cumulativeData.head(5)) "
   ]
  },
  {
   "cell_type": "markdown",
   "metadata": {},
   "source": [
    "Приступаем к графику"
   ]
  },
  {
   "cell_type": "code",
   "execution_count": 22,
   "metadata": {},
   "outputs": [
    {
     "data": {
      "image/png": "[encoded data removed]",
      "text/plain": [
       "<Figure size 864x504 with 1 Axes>"
      ]
     },
     "metadata": {
      "needs_background": "light"
     },
     "output_type": "display_data"
    }
   ],
   "source": [
    "plt.figure(figsize=(12, 7))\n",
    "plt.title('Конверсия по группам А и В')\n",
    "plt.grid(True)\n",
    "plt.plot(cumulativeData2A['date'], cumulativeData2A['conversion'], label='A')\n",
    "plt.plot(cumulativeData2B['date'], cumulativeData2B['conversion'], label='B')\n",
    "plt.legend()\n",
    "plt.show()"
   ]
  },
  {
   "cell_type": "markdown",
   "metadata": {},
   "source": [
    "По графику можно сказать, что конверсии в целом имеют нисходящий тренд, тем не менее, в группе В показатели лучше. Нововведения помогли клиентам решиться на покупку."
   ]
  },
  {
   "cell_type": "markdown",
   "metadata": {},
   "source": [
    "#### Относительное изменение кумулятивной конверсии группы B к группе A"
   ]
  },
  {
   "cell_type": "markdown",
   "metadata": {},
   "source": [
    "Посмотрим на относительное изменение конверсий."
   ]
  },
  {
   "cell_type": "code",
   "execution_count": 23,
   "metadata": {},
   "outputs": [
    {
     "data": {
      "image/png": "[encoded data removed]",
      "text/plain": [
       "<Figure size 864x504 with 1 Axes>"
      ]
     },
     "metadata": {
      "needs_background": "light"
     },
     "output_type": "display_data"
    }
   ],
   "source": [
    "mergedCumulativeConversions = cumulativeData2A[['date','conversion']].merge(cumulativeData2B[['date','conversion']], on='date', how='left', suffixes=['A', 'B'])\n",
    "\n",
    "plt.figure(figsize=(12, 7))\n",
    "plt.plot(mergedCumulativeConversions['date'], mergedCumulativeConversions['conversionB']/mergedCumulativeConversions['conversionA']-1, label=\"Относительный прирост конверсии группы B относительно группы A\")\n",
    "plt.legend()\n",
    "plt.title('Отношение конверсии гр. В к гр. А')\n",
    "plt.grid(True)\n",
    "plt.axhline(y=0, color='black', linestyle='--')\n",
    "plt.show()"
   ]
  },
  {
   "cell_type": "markdown",
   "metadata": {},
   "source": [
    "По графику делаем вывод, что показатели группы В неуклонно растут в сравнении с А. Но график все же имеет сильные всплески. Необходимо их убрать и провести повторный анализ."
   ]
  },
  {
   "cell_type": "markdown",
   "metadata": {},
   "source": [
    "### Проверка аномалий"
   ]
  },
  {
   "cell_type": "markdown",
   "metadata": {},
   "source": [
    "Найдем аномалии, которые были видны ранее на графиках."
   ]
  },
  {
   "cell_type": "markdown",
   "metadata": {},
   "source": [
    "#### Заказы по пользователям"
   ]
  },
  {
   "cell_type": "markdown",
   "metadata": {},
   "source": [
    "Начнем с оценки заказов. Сгруппируем данные."
   ]
  },
  {
   "cell_type": "code",
   "execution_count": 24,
   "metadata": {},
   "outputs": [
    {
     "data": {
      "text/html": [
       "<div>\n",
       "<style scoped>\n",
       "    .dataframe tbody tr th:only-of-type {\n",
       "        vertical-align: middle;\n",
       "    }\n",
       "\n",
       "    .dataframe tbody tr th {\n",
       "        vertical-align: top;\n",
       "    }\n",
       "\n",
       "    .dataframe thead th {\n",
       "        text-align: right;\n",
       "    }\n",
       "</style>\n",
       "<table border=\"1\" class=\"dataframe\">\n",
       "  <thead>\n",
       "    <tr style=\"text-align: right;\">\n",
       "      <th></th>\n",
       "      <th>visitorId</th>\n",
       "      <th>transactionId</th>\n",
       "    </tr>\n",
       "  </thead>\n",
       "  <tbody>\n",
       "    <tr>\n",
       "      <td>908</td>\n",
       "      <td>3967698036</td>\n",
       "      <td>3</td>\n",
       "    </tr>\n",
       "    <tr>\n",
       "      <td>55</td>\n",
       "      <td>249864742</td>\n",
       "      <td>3</td>\n",
       "    </tr>\n",
       "    <tr>\n",
       "      <td>478</td>\n",
       "      <td>2108163459</td>\n",
       "      <td>3</td>\n",
       "    </tr>\n",
       "    <tr>\n",
       "      <td>687</td>\n",
       "      <td>2988190573</td>\n",
       "      <td>3</td>\n",
       "    </tr>\n",
       "    <tr>\n",
       "      <td>890</td>\n",
       "      <td>3908431265</td>\n",
       "      <td>3</td>\n",
       "    </tr>\n",
       "  </tbody>\n",
       "</table>\n",
       "</div>"
      ],
      "text/plain": [
       "      visitorId  transactionId\n",
       "908  3967698036              3\n",
       "55    249864742              3\n",
       "478  2108163459              3\n",
       "687  2988190573              3\n",
       "890  3908431265              3"
      ]
     },
     "execution_count": 24,
     "metadata": {},
     "output_type": "execute_result"
    }
   ],
   "source": [
    "ordersgrouped = orders.groupby('visitorId', as_index = False).agg({'transactionId' : 'nunique'})\n",
    "ordersgrouped.sort_values('transactionId', ascending = False).head(5)"
   ]
  },
  {
   "cell_type": "code",
   "execution_count": 25,
   "metadata": {},
   "outputs": [
    {
     "data": {
      "image/png": "[encoded data removed]",
      "text/plain": [
       "<Figure size 432x288 with 1 Axes>"
      ]
     },
     "metadata": {
      "needs_background": "light"
     },
     "output_type": "display_data"
    }
   ],
   "source": [
    "plt.hist(ordersgrouped['transactionId']) \n",
    "plt.title('Распределение числа заказов на клиента')\n",
    "plt.ylabel('клиенты')\n",
    "plt.xlabel('число заказов')\n",
    "plt.grid(True)\n",
    "plt.show()"
   ]
  },
  {
   "cell_type": "markdown",
   "metadata": {},
   "source": [
    "Видим, имеются клиенты, кто делал более одного заказа."
   ]
  },
  {
   "cell_type": "code",
   "execution_count": 26,
   "metadata": {},
   "outputs": [
    {
     "data": {
      "image/png": "[encoded data removed]",
      "text/plain": [
       "<Figure size 432x288 with 1 Axes>"
      ]
     },
     "metadata": {
      "needs_background": "light"
     },
     "output_type": "display_data"
    }
   ],
   "source": [
    "x_values = pd.Series(range(0,len(ordersgrouped['transactionId'])))\n",
    "plt.scatter(x_values, ordersgrouped['transactionId']) \n",
    "plt.title('Распределение числа заказов на клиента')\n",
    "plt.xlabel('клиенты')\n",
    "plt.ylabel('число заказов')\n",
    "plt.grid(True)\n",
    "plt.show()"
   ]
  },
  {
   "cell_type": "markdown",
   "metadata": {},
   "source": [
    "В основном делали по 1 и 2 заказа, 3 заказа сделало не так много людей, выясним сколько."
   ]
  },
  {
   "cell_type": "markdown",
   "metadata": {},
   "source": [
    "#### Перцентили количества заказов на пользователя"
   ]
  },
  {
   "cell_type": "code",
   "execution_count": 27,
   "metadata": {},
   "outputs": [
    {
     "name": "stdout",
     "output_type": "stream",
     "text": [
      "[1. 2.]\n"
     ]
    }
   ],
   "source": [
    "print(np.percentile(ordersgrouped['transactionId'], [95, 99])) "
   ]
  },
  {
   "cell_type": "markdown",
   "metadata": {},
   "source": [
    "Видим, что 3 заказа делали менее 1 процента клиентов."
   ]
  },
  {
   "cell_type": "markdown",
   "metadata": {},
   "source": [
    "#### Стоимость заказов"
   ]
  },
  {
   "cell_type": "code",
   "execution_count": 28,
   "metadata": {},
   "outputs": [
    {
     "data": {
      "image/png": "[encoded data removed]",
      "text/plain": [
       "<Figure size 432x288 with 1 Axes>"
      ]
     },
     "metadata": {
      "needs_background": "light"
     },
     "output_type": "display_data"
    }
   ],
   "source": [
    "plt.hist(orders['revenue']) \n",
    "plt.title('Распределение стоимости заказов')\n",
    "plt.ylabel('число заказов')\n",
    "plt.xlabel('стоимость заказа')\n",
    "plt.grid(True)\n",
    "plt.show()"
   ]
  },
  {
   "cell_type": "markdown",
   "metadata": {},
   "source": [
    "Ненаглядно, посмотрим точечный график."
   ]
  },
  {
   "cell_type": "code",
   "execution_count": 29,
   "metadata": {
    "scrolled": true
   },
   "outputs": [
    {
     "data": {
      "image/png": "[encoded data removed]",
      "text/plain": [
       "<Figure size 432x288 with 1 Axes>"
      ]
     },
     "metadata": {
      "needs_background": "light"
     },
     "output_type": "display_data"
    }
   ],
   "source": [
    "x_values = pd.Series(range(0,len(orders['revenue'])))\n",
    "plt.title('Распределение числа заказов на клиента')\n",
    "plt.ylabel('стоимость заказа')\n",
    "plt.xlabel('число заказов')\n",
    "plt.grid(True)\n",
    "plt.scatter(x_values, orders['revenue']) \n",
    "plt.show()"
   ]
  },
  {
   "cell_type": "markdown",
   "metadata": {},
   "source": [
    "По полученному распределению видим, что всплесков незначительное количество, целесообразно их отсечь на уровне примерно 100 000, выясним."
   ]
  },
  {
   "cell_type": "markdown",
   "metadata": {},
   "source": [
    "#### Перцентили стоимости заказов"
   ]
  },
  {
   "cell_type": "markdown",
   "metadata": {},
   "source": [
    "Для определения границы аномалии найдем перцентили."
   ]
  },
  {
   "cell_type": "code",
   "execution_count": 30,
   "metadata": {
    "scrolled": true
   },
   "outputs": [
    {
     "name": "stdout",
     "output_type": "stream",
     "text": [
      "[26785. 53904.]\n"
     ]
    }
   ],
   "source": [
    "print(np.percentile(orders['revenue'], [95, 99])) "
   ]
  },
  {
   "cell_type": "markdown",
   "metadata": {},
   "source": [
    "Выходит, разумным будет взять границу заказов по сумме в 53 000."
   ]
  },
  {
   "cell_type": "markdown",
   "metadata": {},
   "source": [
    "#### Граница аномалии"
   ]
  },
  {
   "cell_type": "markdown",
   "metadata": {},
   "source": [
    "Примем за аномальных пользователей тех, кто совершил 3 заказа или совершил заказ дороже 53 000 рублей. Так мы уберём менее 1% пользователей с наибольшим числом заказов и от 1% до 2% пользователей с дорогими заказами. Сделаем срезы пользователей.\n",
    "Узнаем, сколько всего аномальных пользователей."
   ]
  },
  {
   "cell_type": "code",
   "execution_count": 31,
   "metadata": {},
   "outputs": [
    {
     "data": {
      "text/plain": [
       "1099    148427295\n",
       "55      249864742\n",
       "138     611059232\n",
       "949     887908475\n",
       "744     888512513\n",
       "Name: visitorId, dtype: int64"
      ]
     },
     "metadata": {},
     "output_type": "display_data"
    },
    {
     "data": {
      "text/plain": [
       "19"
      ]
     },
     "execution_count": 31,
     "metadata": {},
     "output_type": "execute_result"
    }
   ],
   "source": [
    "ordersfiltered1 = orders.query('revenue > 53000')['visitorId']\n",
    "ordersfiltered2 = ordersgrouped.query('transactionId >= 3')['visitorId']\n",
    "abnormaldata = pd.concat([ordersfiltered1, ordersfiltered2], axis = 0).drop_duplicates().sort_values()\n",
    "display(abnormaldata.head(5))\n",
    "len(abnormaldata)"
   ]
  },
  {
   "cell_type": "markdown",
   "metadata": {},
   "source": [
    "Выходит, в таблице имеем 19 пользователей с аномальными заказами. Подготовим таблицу очищенных данных."
   ]
  },
  {
   "cell_type": "code",
   "execution_count": 32,
   "metadata": {},
   "outputs": [
    {
     "name": "stdout",
     "output_type": "stream",
     "text": [
      "<class 'pandas.core.frame.DataFrame'>\n",
      "Int64Index: 983 entries, 0 to 1194\n",
      "Data columns (total 5 columns):\n",
      "transactionId    983 non-null int64\n",
      "visitorId        983 non-null int64\n",
      "date             983 non-null datetime64[ns]\n",
      "revenue          983 non-null int64\n",
      "group            983 non-null object\n",
      "dtypes: datetime64[ns](1), int64(3), object(1)\n",
      "memory usage: 46.1+ KB\n"
     ]
    },
    {
     "data": {
      "text/html": [
       "<div>\n",
       "<style scoped>\n",
       "    .dataframe tbody tr th:only-of-type {\n",
       "        vertical-align: middle;\n",
       "    }\n",
       "\n",
       "    .dataframe tbody tr th {\n",
       "        vertical-align: top;\n",
       "    }\n",
       "\n",
       "    .dataframe thead th {\n",
       "        text-align: right;\n",
       "    }\n",
       "</style>\n",
       "<table border=\"1\" class=\"dataframe\">\n",
       "  <thead>\n",
       "    <tr style=\"text-align: right;\">\n",
       "      <th></th>\n",
       "      <th>transactionId</th>\n",
       "      <th>visitorId</th>\n",
       "      <th>date</th>\n",
       "      <th>revenue</th>\n",
       "      <th>group</th>\n",
       "    </tr>\n",
       "  </thead>\n",
       "  <tbody>\n",
       "    <tr>\n",
       "      <td>0</td>\n",
       "      <td>3667963787</td>\n",
       "      <td>3312258926</td>\n",
       "      <td>2019-08-15</td>\n",
       "      <td>1650</td>\n",
       "      <td>B</td>\n",
       "    </tr>\n",
       "    <tr>\n",
       "      <td>1</td>\n",
       "      <td>2804400009</td>\n",
       "      <td>3642806036</td>\n",
       "      <td>2019-08-15</td>\n",
       "      <td>730</td>\n",
       "      <td>B</td>\n",
       "    </tr>\n",
       "    <tr>\n",
       "      <td>3</td>\n",
       "      <td>3797467345</td>\n",
       "      <td>1196621759</td>\n",
       "      <td>2019-08-15</td>\n",
       "      <td>9759</td>\n",
       "      <td>B</td>\n",
       "    </tr>\n",
       "    <tr>\n",
       "      <td>4</td>\n",
       "      <td>2282983706</td>\n",
       "      <td>2322279887</td>\n",
       "      <td>2019-08-15</td>\n",
       "      <td>2308</td>\n",
       "      <td>B</td>\n",
       "    </tr>\n",
       "    <tr>\n",
       "      <td>5</td>\n",
       "      <td>182168103</td>\n",
       "      <td>935554773</td>\n",
       "      <td>2019-08-15</td>\n",
       "      <td>2210</td>\n",
       "      <td>B</td>\n",
       "    </tr>\n",
       "  </tbody>\n",
       "</table>\n",
       "</div>"
      ],
      "text/plain": [
       "   transactionId   visitorId       date  revenue group\n",
       "0     3667963787  3312258926 2019-08-15     1650     B\n",
       "1     2804400009  3642806036 2019-08-15      730     B\n",
       "3     3797467345  1196621759 2019-08-15     9759     B\n",
       "4     2282983706  2322279887 2019-08-15     2308     B\n",
       "5      182168103   935554773 2019-08-15     2210     B"
      ]
     },
     "execution_count": 32,
     "metadata": {},
     "output_type": "execute_result"
    }
   ],
   "source": [
    "ordersfiltered = orders[np.logical_not(orders['visitorId'].isin(abnormaldata))]\n",
    "ordersfiltered.info()\n",
    "ordersfiltered.head()"
   ]
  },
  {
   "cell_type": "markdown",
   "metadata": {},
   "source": [
    "### Сравнение статистической значимости"
   ]
  },
  {
   "cell_type": "markdown",
   "metadata": {},
   "source": [
    "Теперь мы имеем исходные и фильтрованные данные, посчитаем конверсию для них в разрезе групп, и сравним, какое влияние оказывали аномальные покупатели."
   ]
  },
  {
   "cell_type": "markdown",
   "metadata": {},
   "source": [
    "#### Различия в конверсии между группами по «сырым» данным"
   ]
  },
  {
   "cell_type": "markdown",
   "metadata": {},
   "source": [
    "Посчитаем статистическую значимость различия в конверсии между группами. Первым шагом найдем количество заказов на каждого пользователя по группам."
   ]
  },
  {
   "cell_type": "code",
   "execution_count": 33,
   "metadata": {},
   "outputs": [],
   "source": [
    "ordersusersA = (orders[orders['group'] == 'A'].groupby('visitorId', as_index=False).agg({'transactionId': 'nunique'}))\n",
    "ordersusersB = (orders[orders['group'] == 'B'].groupby('visitorId', as_index=False).agg({'transactionId': 'nunique'}))\n",
    "visitorsA = visitors[visitors['group'] == 'A'][['date', 'visitors']]\n",
    "visitorsB = visitors[visitors['group'] == 'B'][['date', 'visitors']]"
   ]
  },
  {
   "cell_type": "markdown",
   "metadata": {},
   "source": [
    "Добавим переменные sampleA и sampleB, в которых пользователям из разных групп будет соответствовать количество заказов. Тем, кто ничего не заказал, будут соответствовать нули."
   ]
  },
  {
   "cell_type": "code",
   "execution_count": 34,
   "metadata": {},
   "outputs": [],
   "source": [
    "sampleA = pd.concat([ordersusersA['transactionId'], pd.Series(0, index=np.arange(visitorsA['visitors'].sum() \\\n",
    "                                        - len(ordersusersA['transactionId'])), name='orders')],axis=0)\n",
    "sampleB = pd.concat([ordersusersB['transactionId'], pd.Series(0, index=np.arange(visitorsB['visitors'].sum() \\\n",
    "                                        - len(ordersusersB['transactionId'])), name='orders')],axis=0)"
   ]
  },
  {
   "cell_type": "markdown",
   "metadata": {},
   "source": [
    "Проведем проверку критерием Манна-Уитни."
   ]
  },
  {
   "cell_type": "markdown",
   "metadata": {},
   "source": [
    "Гипотеза Но - Различия по группам А и В в Конверсии отсутствуют."
   ]
  },
  {
   "cell_type": "code",
   "execution_count": 35,
   "metadata": {},
   "outputs": [
    {
     "data": {
      "text/plain": [
       "0.006"
      ]
     },
     "metadata": {},
     "output_type": "display_data"
    },
    {
     "data": {
      "text/plain": [
       "0.16"
      ]
     },
     "metadata": {},
     "output_type": "display_data"
    }
   ],
   "source": [
    "display(stats.mannwhitneyu(sampleA, sampleB)[1].round(3))\n",
    "\n",
    "display((sampleB.mean() / sampleA.mean() - 1).round(2))"
   ]
  },
  {
   "cell_type": "markdown",
   "metadata": {},
   "source": [
    "Первое число — p-value = 0.006 меньше 0.05. Отвергаем нулевую гипотезу: разница статистически значима. Относительное преимущество группы B  16% — второе число в выводе."
   ]
  },
  {
   "cell_type": "markdown",
   "metadata": {},
   "source": [
    "#### Различия в среднем чеке заказа между группами по «сырым» данным"
   ]
  },
  {
   "cell_type": "markdown",
   "metadata": {},
   "source": [
    "Рассчитаем статистическую значимость различий в среднем чеке и относительные различия в среднем чеке между группами.\n",
    "Гипотеза Но - Различия по группам А и В в сумме среднего чека отсутствуют."
   ]
  },
  {
   "cell_type": "code",
   "execution_count": 36,
   "metadata": {},
   "outputs": [
    {
     "name": "stdout",
     "output_type": "stream",
     "text": [
      "0.41\n",
      "0.29\n"
     ]
    }
   ],
   "source": [
    "print('{0:.2f}'.format(stats.mannwhitneyu(orders[orders['group']=='A']['revenue'], orders[orders['group']=='B']['revenue'])[1]))\n",
    "print('{0:.2f}'.format(orders[orders['group']=='B']['revenue'].mean()/orders[orders['group']=='A']['revenue'].mean()-1)) "
   ]
  },
  {
   "cell_type": "markdown",
   "metadata": {},
   "source": [
    "P-value значительно больше 0.05 и составил 0,41. Значит, причин отвергать нулевую гипотезу и считать, что в среднем чеке есть различия, нет. Что странно, так как на кумулятивном графике мы наблюдали различие и всплеск по группе В. Впрочем, средний чек группы B значительно выше среднего чека группы A, на 30%."
   ]
  },
  {
   "cell_type": "markdown",
   "metadata": {},
   "source": [
    "#### Различия в конверсии между группами по «очищенным» данным"
   ]
  },
  {
   "cell_type": "markdown",
   "metadata": {},
   "source": [
    "Ранее, мы подготовили данные, очищенные от выбросов. Узнаем, как это повлияло на результаты теста. Посчитаем статистическую значимость различий в конверсии между группами теста по очищенным данным."
   ]
  },
  {
   "cell_type": "markdown",
   "metadata": {},
   "source": [
    "Подготовим группы для расчетов."
   ]
  },
  {
   "cell_type": "code",
   "execution_count": 37,
   "metadata": {},
   "outputs": [],
   "source": [
    "ordersusersfilteredA = (ordersfiltered[ordersfiltered['group'] == 'A'].groupby('visitorId', as_index=False).agg({'transactionId': 'nunique'}))\n",
    "ordersusersfilteredB = (ordersfiltered[ordersfiltered['group'] == 'B'].groupby('visitorId', as_index=False).agg({'transactionId': 'nunique'}))"
   ]
  },
  {
   "cell_type": "markdown",
   "metadata": {},
   "source": [
    "Найдем ряды заказчиков."
   ]
  },
  {
   "cell_type": "code",
   "execution_count": 38,
   "metadata": {},
   "outputs": [],
   "source": [
    "sampleAFiltered = pd.concat([ordersusersfilteredA['transactionId'], pd.Series(0, index=np.arange(visitorsA['visitors'].sum() \\\n",
    "                                                            - len(ordersusersfilteredA['transactionId'])),name='orders',),],axis=0,)\n",
    "sampleBFiltered = pd.concat([ordersusersfilteredB['transactionId'], pd.Series(0, index=np.arange(visitorsB['visitors'].sum() \\\n",
    "                                                            - len(ordersusersfilteredB['transactionId'])),name='orders',),],axis=0,)"
   ]
  },
  {
   "cell_type": "markdown",
   "metadata": {},
   "source": [
    "Рассчитаем статистическую значимость.\n",
    "Гипотеза Но - Различия по группам А и В в Конверсии отсутствуют."
   ]
  },
  {
   "cell_type": "code",
   "execution_count": 39,
   "metadata": {},
   "outputs": [
    {
     "data": {
      "text/plain": [
       "0.003"
      ]
     },
     "metadata": {},
     "output_type": "display_data"
    },
    {
     "data": {
      "text/plain": [
       "0.19"
      ]
     },
     "metadata": {},
     "output_type": "display_data"
    }
   ],
   "source": [
    "display(stats.mannwhitneyu(sampleAFiltered, sampleBFiltered)[1].round(3))\n",
    "\n",
    "display((sampleBFiltered.mean() / sampleAFiltered.mean() - 1).round(2))"
   ]
  },
  {
   "cell_type": "markdown",
   "metadata": {},
   "source": [
    "Результаты по конверсии практически не изменились."
   ]
  },
  {
   "cell_type": "markdown",
   "metadata": {},
   "source": [
    "#### Различия в среднем чеке заказа между группами по «очищенным» данным"
   ]
  },
  {
   "cell_type": "markdown",
   "metadata": {},
   "source": [
    "Гипотеза Но - Различия по группам А и В в сумме среднего чека отсутствуют."
   ]
  },
  {
   "cell_type": "code",
   "execution_count": 40,
   "metadata": {},
   "outputs": [
    {
     "name": "stdout",
     "output_type": "stream",
     "text": [
      "0.42\n",
      "-0.01\n"
     ]
    }
   ],
   "source": [
    "print('{0:.2f}'.format(stats.mannwhitneyu(ordersfiltered[ordersfiltered['group']=='A']['revenue'], ordersfiltered[ordersfiltered['group']=='B']['revenue'])[1]))\n",
    "print('{0:.2f}'.format(ordersfiltered[ordersfiltered['group']=='B']['revenue'].mean()/ordersfiltered[ordersfiltered['group']=='A']['revenue'].mean()-1)) "
   ]
  },
  {
   "cell_type": "markdown",
   "metadata": {},
   "source": [
    "В среднем чеке по группам различий не должно быть. P-value почти не изменился, но и разница между сегментами обнулилась с 30%.\n",
    "Наглядно видно, как сильно аномалии влияли на результаты A/B-теста. "
   ]
  },
  {
   "cell_type": "markdown",
   "metadata": {},
   "source": [
    "## Вывод по тесту"
   ]
  },
  {
   "cell_type": "markdown",
   "metadata": {},
   "source": [
    "По итогам проделанных исследований данных по продажам интернет-магазина делаем следующие заключения:\n",
    "\n",
    "- Наблюдается статистически значимое различие по конверсии между группами как по «сырым», так и по отфильтрованным данным;\n",
    "- Нет статистически значимого различия по среднему чеку между группами ни по «сырым», ни по данным после фильтрации аномалий;\n",
    "- Результаты тестов по фильтрованным и обычным группам схожи, то есть аномалии не оказывали сильного воздействия на тесты, так и должно быть, ведь U-критерий Манна-Уитни применяется к данным с выбросами;\n",
    "- Разница после отброса аномалий видна по сравнению относительных показателей, так резко сблизились результаты групп по среднему чеку.\n",
    "\n",
    "Резюмируя все вышеизложенное считаю, результаты теста возможно зафиксировать и признать улучшение показателей после применения обновлений, группа В показала лучшие результаты по Конверсии почти на 20%, большему числу пользователей захотелось что-то приобрести. При этом средний чек не сильно изменился.\n"
   ]
  }
 ],
 "metadata": {
  "ExecuteTimeLog": [
   {
    "duration": 358,
    "start_time": "2021-10-21T18:51:33.135Z"
   },
   {
    "duration": 1673,
    "start_time": "2021-10-21T18:51:35.463Z"
   },
   {
    "duration": 16,
    "start_time": "2021-10-21T18:51:38.188Z"
   },
   {
    "duration": 10,
    "start_time": "2021-10-21T18:52:35.592Z"
   },
   {
    "duration": 12,
    "start_time": "2021-10-21T18:53:05.594Z"
   },
   {
    "duration": 10,
    "start_time": "2021-10-21T18:53:41.400Z"
   },
   {
    "duration": 1010,
    "start_time": "2021-10-21T18:54:08.262Z"
   },
   {
    "duration": 6,
    "start_time": "2021-10-21T18:54:32.100Z"
   },
   {
    "duration": 4,
    "start_time": "2021-10-21T18:54:56.010Z"
   },
   {
    "duration": 11,
    "start_time": "2021-10-21T18:55:00.189Z"
   },
   {
    "duration": 8,
    "start_time": "2021-10-21T18:55:29.277Z"
   },
   {
    "duration": 8,
    "start_time": "2021-10-21T18:55:33.429Z"
   },
   {
    "duration": 11,
    "start_time": "2021-10-21T18:55:39.253Z"
   },
   {
    "duration": 23,
    "start_time": "2021-10-21T19:03:14.455Z"
   },
   {
    "duration": 9,
    "start_time": "2021-10-21T19:03:54.693Z"
   },
   {
    "duration": 7,
    "start_time": "2021-10-21T19:04:43.407Z"
   },
   {
    "duration": 9,
    "start_time": "2021-10-21T19:04:49.148Z"
   },
   {
    "duration": 12,
    "start_time": "2021-10-21T19:05:00.318Z"
   },
   {
    "duration": 8,
    "start_time": "2021-10-21T19:05:03.952Z"
   },
   {
    "duration": 9,
    "start_time": "2021-10-21T19:23:09.847Z"
   },
   {
    "duration": 6,
    "start_time": "2021-10-21T19:23:27.496Z"
   },
   {
    "duration": 17,
    "start_time": "2021-10-21T19:27:11.737Z"
   },
   {
    "duration": 21,
    "start_time": "2021-10-21T19:27:59.833Z"
   },
   {
    "duration": 18,
    "start_time": "2021-10-21T19:29:13.422Z"
   },
   {
    "duration": 19,
    "start_time": "2021-10-21T19:30:20.712Z"
   },
   {
    "duration": 15,
    "start_time": "2021-10-21T19:30:30.970Z"
   },
   {
    "duration": 13,
    "start_time": "2021-10-21T19:30:34.869Z"
   },
   {
    "duration": 19,
    "start_time": "2021-10-21T19:31:50.164Z"
   },
   {
    "duration": 12,
    "start_time": "2021-10-21T19:32:11.163Z"
   },
   {
    "duration": 14,
    "start_time": "2021-10-21T19:37:50.848Z"
   },
   {
    "duration": 137,
    "start_time": "2021-10-21T19:41:00.039Z"
   },
   {
    "duration": 112,
    "start_time": "2021-10-21T19:41:50.957Z"
   },
   {
    "duration": 134,
    "start_time": "2021-10-21T19:42:10.155Z"
   },
   {
    "duration": 141,
    "start_time": "2021-10-21T19:42:14.112Z"
   },
   {
    "duration": 495,
    "start_time": "2021-10-21T19:43:51.188Z"
   },
   {
    "duration": 385,
    "start_time": "2021-10-21T19:45:09.073Z"
   },
   {
    "duration": 333,
    "start_time": "2021-10-21T19:46:16.683Z"
   },
   {
    "duration": 21,
    "start_time": "2021-10-21T19:49:25.590Z"
   },
   {
    "duration": 20,
    "start_time": "2021-10-21T19:49:40.453Z"
   },
   {
    "duration": 15,
    "start_time": "2021-10-21T19:51:22.820Z"
   },
   {
    "duration": 19,
    "start_time": "2021-10-21T19:51:25.751Z"
   },
   {
    "duration": 293,
    "start_time": "2021-10-21T19:54:19.808Z"
   },
   {
    "duration": 507,
    "start_time": "2021-10-21T19:54:46.228Z"
   },
   {
    "duration": 142,
    "start_time": "2021-10-21T19:57:39.068Z"
   },
   {
    "duration": 326,
    "start_time": "2021-10-21T19:57:56.843Z"
   },
   {
    "duration": 112,
    "start_time": "2021-10-21T19:58:37.476Z"
   },
   {
    "duration": 11,
    "start_time": "2021-10-21T20:00:26.237Z"
   },
   {
    "duration": 441,
    "start_time": "2021-10-21T20:25:43.681Z"
   },
   {
    "duration": 18,
    "start_time": "2021-10-21T20:26:33.092Z"
   },
   {
    "duration": 13,
    "start_time": "2021-10-21T20:26:51.728Z"
   },
   {
    "duration": 11,
    "start_time": "2021-10-21T20:29:06.192Z"
   },
   {
    "duration": 12,
    "start_time": "2021-10-21T20:29:08.404Z"
   },
   {
    "duration": 16,
    "start_time": "2021-10-21T20:29:21.665Z"
   },
   {
    "duration": 17,
    "start_time": "2021-10-21T20:29:27.586Z"
   },
   {
    "duration": 16,
    "start_time": "2021-10-21T20:31:06.529Z"
   },
   {
    "duration": 17,
    "start_time": "2021-10-21T20:31:29.246Z"
   },
   {
    "duration": 12,
    "start_time": "2021-10-21T20:31:35.573Z"
   },
   {
    "duration": 17,
    "start_time": "2021-10-21T20:31:44.229Z"
   },
   {
    "duration": 1534,
    "start_time": "2021-10-21T20:39:06.180Z"
   },
   {
    "duration": 15,
    "start_time": "2021-10-21T20:39:07.716Z"
   },
   {
    "duration": 10,
    "start_time": "2021-10-21T20:39:07.734Z"
   },
   {
    "duration": 4,
    "start_time": "2021-10-21T20:39:07.746Z"
   },
   {
    "duration": 13,
    "start_time": "2021-10-21T20:39:07.752Z"
   },
   {
    "duration": 19,
    "start_time": "2021-10-21T20:39:07.767Z"
   },
   {
    "duration": 8,
    "start_time": "2021-10-21T20:39:07.788Z"
   },
   {
    "duration": 6,
    "start_time": "2021-10-21T20:39:07.800Z"
   },
   {
    "duration": 14,
    "start_time": "2021-10-21T20:39:07.809Z"
   },
   {
    "duration": 12,
    "start_time": "2021-10-21T20:39:07.825Z"
   },
   {
    "duration": 47,
    "start_time": "2021-10-21T20:39:07.839Z"
   },
   {
    "duration": 10,
    "start_time": "2021-10-21T20:39:07.888Z"
   },
   {
    "duration": 26,
    "start_time": "2021-10-21T20:39:07.901Z"
   },
   {
    "duration": 18,
    "start_time": "2021-10-21T20:39:07.930Z"
   },
   {
    "duration": 9,
    "start_time": "2021-10-21T20:42:42.520Z"
   },
   {
    "duration": 8,
    "start_time": "2021-10-21T21:02:11.939Z"
   },
   {
    "duration": 8118,
    "start_time": "2021-10-21T21:04:54.855Z"
   },
   {
    "duration": 313,
    "start_time": "2021-10-21T21:07:45.193Z"
   },
   {
    "duration": 325,
    "start_time": "2021-10-21T21:13:54.613Z"
   },
   {
    "duration": 753,
    "start_time": "2021-10-21T21:14:13.585Z"
   },
   {
    "duration": 604,
    "start_time": "2021-10-21T21:15:20.509Z"
   },
   {
    "duration": 401,
    "start_time": "2021-10-21T21:15:33.932Z"
   },
   {
    "duration": 527,
    "start_time": "2021-10-21T21:24:04.290Z"
   },
   {
    "duration": 14,
    "start_time": "2021-10-21T21:35:27.991Z"
   },
   {
    "duration": 8160,
    "start_time": "2021-10-21T21:39:14.874Z"
   },
   {
    "duration": 493,
    "start_time": "2021-10-21T21:39:59.371Z"
   },
   {
    "duration": 500,
    "start_time": "2021-10-21T21:40:24.606Z"
   },
   {
    "duration": 416,
    "start_time": "2021-10-21T21:40:32.080Z"
   },
   {
    "duration": 510,
    "start_time": "2021-10-21T21:40:37.219Z"
   },
   {
    "duration": 300,
    "start_time": "2021-10-21T21:47:25.896Z"
   },
   {
    "duration": 606,
    "start_time": "2021-10-21T21:47:31.558Z"
   },
   {
    "duration": 394,
    "start_time": "2021-10-21T21:47:37.140Z"
   },
   {
    "duration": 264,
    "start_time": "2021-10-21T21:48:54.367Z"
   },
   {
    "duration": 284,
    "start_time": "2021-10-21T21:49:16.878Z"
   },
   {
    "duration": 287,
    "start_time": "2021-10-21T21:49:22.584Z"
   },
   {
    "duration": 286,
    "start_time": "2021-10-21T21:49:38.123Z"
   },
   {
    "duration": 400,
    "start_time": "2021-10-21T21:50:12.822Z"
   },
   {
    "duration": 548,
    "start_time": "2021-10-21T21:55:10.150Z"
   },
   {
    "duration": 646,
    "start_time": "2021-10-21T21:55:20.749Z"
   },
   {
    "duration": 280,
    "start_time": "2021-10-21T22:05:17.542Z"
   },
   {
    "duration": 398,
    "start_time": "2021-10-21T22:05:26.870Z"
   },
   {
    "duration": 11,
    "start_time": "2021-10-21T22:06:02.038Z"
   },
   {
    "duration": 373,
    "start_time": "2021-10-21T22:06:49.656Z"
   },
   {
    "duration": 298,
    "start_time": "2021-10-21T22:06:55.047Z"
   },
   {
    "duration": 371,
    "start_time": "2021-10-21T22:07:00.186Z"
   },
   {
    "duration": 1768,
    "start_time": "2021-10-21T22:07:52.471Z"
   },
   {
    "duration": 16,
    "start_time": "2021-10-21T22:07:54.242Z"
   },
   {
    "duration": 9,
    "start_time": "2021-10-21T22:07:54.261Z"
   },
   {
    "duration": 5,
    "start_time": "2021-10-21T22:07:54.273Z"
   },
   {
    "duration": 13,
    "start_time": "2021-10-21T22:07:54.280Z"
   },
   {
    "duration": 8,
    "start_time": "2021-10-21T22:07:54.295Z"
   },
   {
    "duration": 10,
    "start_time": "2021-10-21T22:07:54.306Z"
   },
   {
    "duration": 7,
    "start_time": "2021-10-21T22:07:54.320Z"
   },
   {
    "duration": 10,
    "start_time": "2021-10-21T22:07:54.330Z"
   },
   {
    "duration": 42,
    "start_time": "2021-10-21T22:07:54.343Z"
   },
   {
    "duration": 24,
    "start_time": "2021-10-21T22:07:54.387Z"
   },
   {
    "duration": 20,
    "start_time": "2021-10-21T22:07:54.413Z"
   },
   {
    "duration": 48,
    "start_time": "2021-10-21T22:07:54.435Z"
   },
   {
    "duration": 14,
    "start_time": "2021-10-21T22:07:54.486Z"
   },
   {
    "duration": 8,
    "start_time": "2021-10-21T22:07:54.502Z"
   },
   {
    "duration": 8,
    "start_time": "2021-10-21T22:07:54.513Z"
   },
   {
    "duration": 346,
    "start_time": "2021-10-21T22:07:54.523Z"
   },
   {
    "duration": 426,
    "start_time": "2021-10-21T22:07:54.871Z"
   },
   {
    "duration": 526,
    "start_time": "2021-10-21T22:07:55.299Z"
   },
   {
    "duration": 519,
    "start_time": "2021-10-21T22:07:55.827Z"
   },
   {
    "duration": 308,
    "start_time": "2021-10-21T22:07:56.348Z"
   },
   {
    "duration": 518,
    "start_time": "2021-10-21T22:07:56.658Z"
   },
   {
    "duration": 614,
    "start_time": "2021-10-21T22:07:57.179Z"
   },
   {
    "duration": 11,
    "start_time": "2021-10-21T22:07:57.795Z"
   },
   {
    "duration": 283,
    "start_time": "2021-10-21T22:07:57.808Z"
   },
   {
    "duration": 410,
    "start_time": "2021-10-21T22:09:40.085Z"
   },
   {
    "duration": 301,
    "start_time": "2021-10-21T22:09:44.809Z"
   },
   {
    "duration": 6,
    "start_time": "2021-10-21T22:09:52.357Z"
   },
   {
    "duration": 10,
    "start_time": "2021-10-21T22:09:59.843Z"
   },
   {
    "duration": 26,
    "start_time": "2021-10-21T22:10:07.746Z"
   },
   {
    "duration": 271,
    "start_time": "2021-10-21T22:10:22.192Z"
   },
   {
    "duration": 482,
    "start_time": "2021-10-21T22:11:00.664Z"
   },
   {
    "duration": 6,
    "start_time": "2021-10-21T22:14:51.248Z"
   },
   {
    "duration": 6,
    "start_time": "2021-10-21T22:17:16.901Z"
   },
   {
    "duration": 7,
    "start_time": "2021-10-21T22:21:52.452Z"
   },
   {
    "duration": 279,
    "start_time": "2021-10-21T22:22:05.662Z"
   },
   {
    "duration": 12,
    "start_time": "2021-10-21T22:22:29.845Z"
   },
   {
    "duration": 12,
    "start_time": "2021-10-21T22:22:52.815Z"
   },
   {
    "duration": 13,
    "start_time": "2021-10-21T22:23:07.448Z"
   },
   {
    "duration": 414,
    "start_time": "2021-10-21T22:24:03.879Z"
   },
   {
    "duration": 6,
    "start_time": "2021-10-21T22:25:01.996Z"
   },
   {
    "duration": 6,
    "start_time": "2021-10-21T22:25:13.147Z"
   },
   {
    "duration": 6,
    "start_time": "2021-10-21T22:25:31.641Z"
   },
   {
    "duration": 6,
    "start_time": "2021-10-21T22:25:46.816Z"
   },
   {
    "duration": 6,
    "start_time": "2021-10-21T22:25:51.729Z"
   },
   {
    "duration": 6,
    "start_time": "2021-10-21T22:25:57.094Z"
   },
   {
    "duration": 109,
    "start_time": "2021-10-21T22:33:02.093Z"
   },
   {
    "duration": 314,
    "start_time": "2021-10-21T22:47:07.553Z"
   },
   {
    "duration": 324,
    "start_time": "2021-10-21T22:48:25.712Z"
   },
   {
    "duration": 17,
    "start_time": "2021-10-21T22:48:46.300Z"
   },
   {
    "duration": 325,
    "start_time": "2021-10-21T22:49:07.150Z"
   },
   {
    "duration": 16,
    "start_time": "2021-10-21T22:49:29.116Z"
   },
   {
    "duration": 7,
    "start_time": "2021-10-21T22:54:10.209Z"
   },
   {
    "duration": 6,
    "start_time": "2021-10-21T22:54:15.047Z"
   },
   {
    "duration": 279,
    "start_time": "2021-10-21T22:54:25.768Z"
   },
   {
    "duration": 1497,
    "start_time": "2021-10-21T22:55:49.218Z"
   },
   {
    "duration": 15,
    "start_time": "2021-10-21T22:55:50.718Z"
   },
   {
    "duration": 11,
    "start_time": "2021-10-21T22:55:50.736Z"
   },
   {
    "duration": 4,
    "start_time": "2021-10-21T22:55:50.750Z"
   },
   {
    "duration": 13,
    "start_time": "2021-10-21T22:55:50.756Z"
   },
   {
    "duration": 10,
    "start_time": "2021-10-21T22:55:50.772Z"
   },
   {
    "duration": 11,
    "start_time": "2021-10-21T22:55:50.784Z"
   },
   {
    "duration": 7,
    "start_time": "2021-10-21T22:55:50.799Z"
   },
   {
    "duration": 12,
    "start_time": "2021-10-21T22:55:50.809Z"
   },
   {
    "duration": 7,
    "start_time": "2021-10-21T22:55:50.824Z"
   },
   {
    "duration": 55,
    "start_time": "2021-10-21T22:55:50.833Z"
   },
   {
    "duration": 18,
    "start_time": "2021-10-21T22:55:50.891Z"
   },
   {
    "duration": 14,
    "start_time": "2021-10-21T22:55:50.912Z"
   },
   {
    "duration": 13,
    "start_time": "2021-10-21T22:55:50.928Z"
   },
   {
    "duration": 46,
    "start_time": "2021-10-21T22:55:50.944Z"
   },
   {
    "duration": 13,
    "start_time": "2021-10-21T22:55:50.992Z"
   },
   {
    "duration": 325,
    "start_time": "2021-10-21T22:55:51.007Z"
   },
   {
    "duration": 423,
    "start_time": "2021-10-21T22:55:51.335Z"
   },
   {
    "duration": 427,
    "start_time": "2021-10-21T22:55:51.761Z"
   },
   {
    "duration": 474,
    "start_time": "2021-10-21T22:55:52.190Z"
   },
   {
    "duration": 301,
    "start_time": "2021-10-21T22:55:52.668Z"
   },
   {
    "duration": 415,
    "start_time": "2021-10-21T22:55:52.983Z"
   },
   {
    "duration": 486,
    "start_time": "2021-10-21T22:55:53.405Z"
   },
   {
    "duration": 15,
    "start_time": "2021-10-21T22:55:53.895Z"
   },
   {
    "duration": 307,
    "start_time": "2021-10-21T22:55:53.914Z"
   },
   {
    "duration": 366,
    "start_time": "2021-10-21T22:55:54.224Z"
   },
   {
    "duration": 6,
    "start_time": "2021-10-21T22:55:54.592Z"
   },
   {
    "duration": 373,
    "start_time": "2021-10-21T22:55:54.601Z"
   },
   {
    "duration": 381,
    "start_time": "2021-10-21T22:55:54.981Z"
   },
   {
    "duration": 5,
    "start_time": "2021-10-21T22:55:55.364Z"
   },
   {
    "duration": 3,
    "start_time": "2021-10-21T22:55:55.382Z"
   },
   {
    "duration": 390,
    "start_time": "2021-10-21T22:55:55.388Z"
   },
   {
    "duration": 259,
    "start_time": "2021-10-22T20:11:19.479Z"
   },
   {
    "duration": 875,
    "start_time": "2021-10-22T20:11:30.079Z"
   },
   {
    "duration": 15,
    "start_time": "2021-10-22T20:11:30.957Z"
   },
   {
    "duration": 10,
    "start_time": "2021-10-22T20:11:30.975Z"
   },
   {
    "duration": 17,
    "start_time": "2021-10-22T20:11:30.988Z"
   },
   {
    "duration": 31,
    "start_time": "2021-10-22T20:11:31.008Z"
   },
   {
    "duration": 24,
    "start_time": "2021-10-22T20:11:31.042Z"
   },
   {
    "duration": 29,
    "start_time": "2021-10-22T20:11:31.068Z"
   },
   {
    "duration": 19,
    "start_time": "2021-10-22T20:11:31.101Z"
   },
   {
    "duration": 26,
    "start_time": "2021-10-22T20:11:31.123Z"
   },
   {
    "duration": 18,
    "start_time": "2021-10-22T20:11:31.151Z"
   },
   {
    "duration": 30,
    "start_time": "2021-10-22T20:11:31.171Z"
   },
   {
    "duration": 18,
    "start_time": "2021-10-22T20:11:31.203Z"
   },
   {
    "duration": 18,
    "start_time": "2021-10-22T20:11:31.223Z"
   },
   {
    "duration": 14,
    "start_time": "2021-10-22T20:11:31.243Z"
   },
   {
    "duration": 17,
    "start_time": "2021-10-22T20:11:31.260Z"
   },
   {
    "duration": 21,
    "start_time": "2021-10-22T20:11:31.280Z"
   },
   {
    "duration": 340,
    "start_time": "2021-10-22T20:11:31.304Z"
   },
   {
    "duration": 606,
    "start_time": "2021-10-22T20:11:31.647Z"
   },
   {
    "duration": 439,
    "start_time": "2021-10-22T20:11:32.256Z"
   },
   {
    "duration": 523,
    "start_time": "2021-10-22T20:11:32.697Z"
   },
   {
    "duration": 329,
    "start_time": "2021-10-22T20:11:33.229Z"
   },
   {
    "duration": 401,
    "start_time": "2021-10-22T20:11:33.560Z"
   },
   {
    "duration": 506,
    "start_time": "2021-10-22T20:11:33.965Z"
   },
   {
    "duration": 14,
    "start_time": "2021-10-22T20:11:34.474Z"
   },
   {
    "duration": 289,
    "start_time": "2021-10-22T20:11:34.491Z"
   },
   {
    "duration": 422,
    "start_time": "2021-10-22T20:11:34.783Z"
   },
   {
    "duration": 7,
    "start_time": "2021-10-22T20:11:35.208Z"
   },
   {
    "duration": 402,
    "start_time": "2021-10-22T20:11:35.229Z"
   },
   {
    "duration": 485,
    "start_time": "2021-10-22T20:11:35.634Z"
   },
   {
    "duration": 7,
    "start_time": "2021-10-22T20:11:36.129Z"
   },
   {
    "duration": 6158,
    "start_time": "2021-10-22T20:11:36.138Z"
   },
   {
    "duration": 309,
    "start_time": "2021-10-22T20:11:41.990Z"
   },
   {
    "duration": 16,
    "start_time": "2021-10-22T20:13:13.744Z"
   },
   {
    "duration": 1040,
    "start_time": "2021-10-22T20:13:26.475Z"
   },
   {
    "duration": 18,
    "start_time": "2021-10-22T20:13:27.518Z"
   },
   {
    "duration": 11,
    "start_time": "2021-10-22T20:13:27.539Z"
   },
   {
    "duration": 12,
    "start_time": "2021-10-22T20:13:27.554Z"
   },
   {
    "duration": 22,
    "start_time": "2021-10-22T20:13:27.569Z"
   },
   {
    "duration": 21,
    "start_time": "2021-10-22T20:13:27.593Z"
   },
   {
    "duration": 14,
    "start_time": "2021-10-22T20:13:27.630Z"
   },
   {
    "duration": 8,
    "start_time": "2021-10-22T20:13:27.650Z"
   },
   {
    "duration": 18,
    "start_time": "2021-10-22T20:13:27.662Z"
   },
   {
    "duration": 7,
    "start_time": "2021-10-22T20:13:27.683Z"
   },
   {
    "duration": 49,
    "start_time": "2021-10-22T20:13:27.693Z"
   },
   {
    "duration": 21,
    "start_time": "2021-10-22T20:13:27.745Z"
   },
   {
    "duration": 15,
    "start_time": "2021-10-22T20:13:27.768Z"
   },
   {
    "duration": 51,
    "start_time": "2021-10-22T20:13:27.785Z"
   },
   {
    "duration": 8,
    "start_time": "2021-10-22T20:13:27.839Z"
   },
   {
    "duration": 18,
    "start_time": "2021-10-22T20:13:27.850Z"
   },
   {
    "duration": 354,
    "start_time": "2021-10-22T20:13:27.870Z"
   },
   {
    "duration": 444,
    "start_time": "2021-10-22T20:13:28.229Z"
   },
   {
    "duration": 433,
    "start_time": "2021-10-22T20:13:28.675Z"
   },
   {
    "duration": 652,
    "start_time": "2021-10-22T20:13:29.110Z"
   },
   {
    "duration": 1630,
    "start_time": "2021-10-22T20:13:29.765Z"
   },
   {
    "duration": 435,
    "start_time": "2021-10-22T20:13:31.397Z"
   },
   {
    "duration": 531,
    "start_time": "2021-10-22T20:13:31.836Z"
   },
   {
    "duration": 15,
    "start_time": "2021-10-22T20:13:32.370Z"
   },
   {
    "duration": 304,
    "start_time": "2021-10-22T20:13:32.387Z"
   },
   {
    "duration": 422,
    "start_time": "2021-10-22T20:13:32.693Z"
   },
   {
    "duration": 12,
    "start_time": "2021-10-22T20:13:33.118Z"
   },
   {
    "duration": 309,
    "start_time": "2021-10-22T20:13:33.133Z"
   },
   {
    "duration": 428,
    "start_time": "2021-10-22T20:13:33.445Z"
   },
   {
    "duration": 6,
    "start_time": "2021-10-22T20:13:33.876Z"
   },
   {
    "duration": 44,
    "start_time": "2021-10-22T20:13:33.885Z"
   },
   {
    "duration": 4,
    "start_time": "2021-10-22T20:13:33.931Z"
   },
   {
    "duration": 17,
    "start_time": "2021-10-22T20:14:10.460Z"
   },
   {
    "duration": 23,
    "start_time": "2021-10-22T20:14:20.378Z"
   },
   {
    "duration": 11,
    "start_time": "2021-10-22T20:20:20.064Z"
   },
   {
    "duration": 21,
    "start_time": "2021-10-22T20:20:43.877Z"
   },
   {
    "duration": 48,
    "start_time": "2021-10-22T20:41:39.517Z"
   },
   {
    "duration": 77,
    "start_time": "2021-10-22T20:42:03.841Z"
   },
   {
    "duration": 78,
    "start_time": "2021-10-22T20:46:52.533Z"
   },
   {
    "duration": 198,
    "start_time": "2021-10-22T20:47:08.031Z"
   },
   {
    "duration": 4753,
    "start_time": "2021-10-22T20:47:18.970Z"
   },
   {
    "duration": 110,
    "start_time": "2021-10-22T20:49:19.751Z"
   },
   {
    "duration": 209,
    "start_time": "2021-10-22T20:50:18.338Z"
   },
   {
    "duration": 48,
    "start_time": "2021-10-22T20:54:36.684Z"
   },
   {
    "duration": 768,
    "start_time": "2021-10-23T09:48:36.733Z"
   },
   {
    "duration": 13,
    "start_time": "2021-10-23T09:48:37.503Z"
   },
   {
    "duration": 7,
    "start_time": "2021-10-23T09:48:37.522Z"
   },
   {
    "duration": 7,
    "start_time": "2021-10-23T09:48:37.531Z"
   },
   {
    "duration": 13,
    "start_time": "2021-10-23T09:48:37.540Z"
   },
   {
    "duration": 6,
    "start_time": "2021-10-23T09:48:37.555Z"
   },
   {
    "duration": 13,
    "start_time": "2021-10-23T09:48:37.564Z"
   },
   {
    "duration": 5,
    "start_time": "2021-10-23T09:48:37.579Z"
   },
   {
    "duration": 9,
    "start_time": "2021-10-23T09:48:37.586Z"
   },
   {
    "duration": 4,
    "start_time": "2021-10-23T09:48:37.597Z"
   },
   {
    "duration": 13,
    "start_time": "2021-10-23T09:48:37.602Z"
   },
   {
    "duration": 12,
    "start_time": "2021-10-23T09:48:37.617Z"
   },
   {
    "duration": 46,
    "start_time": "2021-10-23T09:48:37.631Z"
   },
   {
    "duration": 8,
    "start_time": "2021-10-23T09:48:37.679Z"
   },
   {
    "duration": 5,
    "start_time": "2021-10-23T09:48:37.689Z"
   },
   {
    "duration": 6,
    "start_time": "2021-10-23T09:48:37.695Z"
   },
   {
    "duration": 227,
    "start_time": "2021-10-23T09:48:37.702Z"
   },
   {
    "duration": 269,
    "start_time": "2021-10-23T09:48:37.931Z"
   },
   {
    "duration": 280,
    "start_time": "2021-10-23T09:48:38.202Z"
   },
   {
    "duration": 349,
    "start_time": "2021-10-23T09:48:38.484Z"
   },
   {
    "duration": 227,
    "start_time": "2021-10-23T09:48:38.835Z"
   },
   {
    "duration": 348,
    "start_time": "2021-10-23T09:48:39.065Z"
   },
   {
    "duration": 360,
    "start_time": "2021-10-23T09:48:39.416Z"
   },
   {
    "duration": 10,
    "start_time": "2021-10-23T09:48:39.778Z"
   },
   {
    "duration": 180,
    "start_time": "2021-10-23T09:48:39.789Z"
   },
   {
    "duration": 315,
    "start_time": "2021-10-23T09:48:39.971Z"
   },
   {
    "duration": 5,
    "start_time": "2021-10-23T09:48:40.288Z"
   },
   {
    "duration": 177,
    "start_time": "2021-10-23T09:48:40.295Z"
   },
   {
    "duration": 307,
    "start_time": "2021-10-23T09:48:40.474Z"
   },
   {
    "duration": 5,
    "start_time": "2021-10-23T09:48:40.784Z"
   },
   {
    "duration": 13,
    "start_time": "2021-10-23T09:48:40.791Z"
   },
   {
    "duration": 14,
    "start_time": "2021-10-23T09:48:40.807Z"
   },
   {
    "duration": 3,
    "start_time": "2021-10-23T09:48:40.823Z"
   },
   {
    "duration": 4,
    "start_time": "2021-10-23T09:48:40.828Z"
   },
   {
    "duration": 43,
    "start_time": "2021-10-23T09:48:40.833Z"
   },
   {
    "duration": 11,
    "start_time": "2021-10-23T09:53:44.690Z"
   },
   {
    "duration": 16,
    "start_time": "2021-10-23T10:11:16.980Z"
   },
   {
    "duration": 7,
    "start_time": "2021-10-23T10:11:18.786Z"
   },
   {
    "duration": 4,
    "start_time": "2021-10-23T10:11:28.098Z"
   },
   {
    "duration": 133,
    "start_time": "2021-10-23T10:13:31.818Z"
   },
   {
    "duration": 416,
    "start_time": "2021-10-23T10:13:44.006Z"
   },
   {
    "duration": 1166,
    "start_time": "2021-10-23T10:14:14.565Z"
   },
   {
    "duration": 11,
    "start_time": "2021-10-23T10:14:15.733Z"
   },
   {
    "duration": 12,
    "start_time": "2021-10-23T10:14:15.746Z"
   },
   {
    "duration": 14,
    "start_time": "2021-10-23T10:14:15.760Z"
   },
   {
    "duration": 19,
    "start_time": "2021-10-23T10:14:15.776Z"
   },
   {
    "duration": 15,
    "start_time": "2021-10-23T10:14:15.796Z"
   },
   {
    "duration": 14,
    "start_time": "2021-10-23T10:14:15.812Z"
   },
   {
    "duration": 17,
    "start_time": "2021-10-23T10:14:15.828Z"
   },
   {
    "duration": 14,
    "start_time": "2021-10-23T10:14:15.847Z"
   },
   {
    "duration": 18,
    "start_time": "2021-10-23T10:14:15.863Z"
   },
   {
    "duration": 16,
    "start_time": "2021-10-23T10:14:15.882Z"
   },
   {
    "duration": 12,
    "start_time": "2021-10-23T10:14:15.899Z"
   },
   {
    "duration": 15,
    "start_time": "2021-10-23T10:14:15.913Z"
   },
   {
    "duration": 8,
    "start_time": "2021-10-23T10:14:15.929Z"
   },
   {
    "duration": 5,
    "start_time": "2021-10-23T10:14:15.939Z"
   },
   {
    "duration": 32,
    "start_time": "2021-10-23T10:14:15.945Z"
   },
   {
    "duration": 194,
    "start_time": "2021-10-23T10:14:15.978Z"
   },
   {
    "duration": 257,
    "start_time": "2021-10-23T10:14:16.177Z"
   },
   {
    "duration": 262,
    "start_time": "2021-10-23T10:14:16.435Z"
   },
   {
    "duration": 355,
    "start_time": "2021-10-23T10:14:16.698Z"
   },
   {
    "duration": 175,
    "start_time": "2021-10-23T10:14:17.055Z"
   },
   {
    "duration": 280,
    "start_time": "2021-10-23T10:14:17.232Z"
   },
   {
    "duration": 356,
    "start_time": "2021-10-23T10:14:17.515Z"
   },
   {
    "duration": 11,
    "start_time": "2021-10-23T10:14:17.876Z"
   },
   {
    "duration": 177,
    "start_time": "2021-10-23T10:14:17.888Z"
   },
   {
    "duration": 324,
    "start_time": "2021-10-23T10:14:18.066Z"
   },
   {
    "duration": 4,
    "start_time": "2021-10-23T10:14:18.392Z"
   },
   {
    "duration": 171,
    "start_time": "2021-10-23T10:14:18.397Z"
   },
   {
    "duration": 315,
    "start_time": "2021-10-23T10:14:18.569Z"
   },
   {
    "duration": 4,
    "start_time": "2021-10-23T10:14:18.885Z"
   },
   {
    "duration": 13,
    "start_time": "2021-10-23T10:14:18.891Z"
   },
   {
    "duration": 96,
    "start_time": "2021-10-23T10:14:18.905Z"
   },
   {
    "duration": 2,
    "start_time": "2021-10-23T10:14:19.002Z"
   },
   {
    "duration": 7,
    "start_time": "2021-10-23T10:14:19.006Z"
   },
   {
    "duration": 4,
    "start_time": "2021-10-23T10:14:19.015Z"
   },
   {
    "duration": 16,
    "start_time": "2021-10-23T10:14:19.020Z"
   },
   {
    "duration": 5,
    "start_time": "2021-10-23T10:14:19.038Z"
   },
   {
    "duration": 31,
    "start_time": "2021-10-23T10:14:19.045Z"
   },
   {
    "duration": 8,
    "start_time": "2021-10-23T12:06:34.389Z"
   },
   {
    "duration": 10,
    "start_time": "2021-10-23T12:08:27.967Z"
   },
   {
    "duration": 10,
    "start_time": "2021-10-23T12:08:41.915Z"
   },
   {
    "duration": 11,
    "start_time": "2021-10-23T12:09:36.814Z"
   },
   {
    "duration": 12,
    "start_time": "2021-10-23T12:23:38.419Z"
   },
   {
    "duration": 7,
    "start_time": "2021-10-23T12:26:16.175Z"
   },
   {
    "duration": 9,
    "start_time": "2021-10-23T12:28:08.818Z"
   },
   {
    "duration": 11,
    "start_time": "2021-10-23T12:30:35.769Z"
   },
   {
    "duration": 1221,
    "start_time": "2021-10-23T12:56:17.075Z"
   },
   {
    "duration": 13,
    "start_time": "2021-10-23T12:56:18.299Z"
   },
   {
    "duration": 7,
    "start_time": "2021-10-23T12:56:18.315Z"
   },
   {
    "duration": 6,
    "start_time": "2021-10-23T12:56:18.324Z"
   },
   {
    "duration": 11,
    "start_time": "2021-10-23T12:56:18.331Z"
   },
   {
    "duration": 7,
    "start_time": "2021-10-23T12:56:18.344Z"
   },
   {
    "duration": 25,
    "start_time": "2021-10-23T12:56:18.353Z"
   },
   {
    "duration": 6,
    "start_time": "2021-10-23T12:56:18.381Z"
   },
   {
    "duration": 10,
    "start_time": "2021-10-23T12:56:18.389Z"
   },
   {
    "duration": 6,
    "start_time": "2021-10-23T12:56:18.401Z"
   },
   {
    "duration": 20,
    "start_time": "2021-10-23T12:56:18.409Z"
   },
   {
    "duration": 14,
    "start_time": "2021-10-23T12:56:18.431Z"
   },
   {
    "duration": 11,
    "start_time": "2021-10-23T12:56:18.477Z"
   },
   {
    "duration": 8,
    "start_time": "2021-10-23T12:56:18.490Z"
   },
   {
    "duration": 6,
    "start_time": "2021-10-23T12:56:18.500Z"
   },
   {
    "duration": 8,
    "start_time": "2021-10-23T12:56:18.508Z"
   },
   {
    "duration": 336,
    "start_time": "2021-10-23T12:56:18.518Z"
   },
   {
    "duration": 405,
    "start_time": "2021-10-23T12:56:18.856Z"
   },
   {
    "duration": 397,
    "start_time": "2021-10-23T12:56:19.263Z"
   },
   {
    "duration": 479,
    "start_time": "2021-10-23T12:56:19.663Z"
   },
   {
    "duration": 268,
    "start_time": "2021-10-23T12:56:20.144Z"
   },
   {
    "duration": 271,
    "start_time": "2021-10-23T12:56:20.414Z"
   },
   {
    "duration": 372,
    "start_time": "2021-10-23T12:56:20.689Z"
   },
   {
    "duration": 13,
    "start_time": "2021-10-23T12:56:21.063Z"
   },
   {
    "duration": 181,
    "start_time": "2021-10-23T12:56:21.078Z"
   },
   {
    "duration": 301,
    "start_time": "2021-10-23T12:56:21.261Z"
   },
   {
    "duration": 13,
    "start_time": "2021-10-23T12:56:21.564Z"
   },
   {
    "duration": 176,
    "start_time": "2021-10-23T12:56:21.578Z"
   },
   {
    "duration": 301,
    "start_time": "2021-10-23T12:56:21.756Z"
   },
   {
    "duration": 4,
    "start_time": "2021-10-23T12:56:22.059Z"
   },
   {
    "duration": 16,
    "start_time": "2021-10-23T12:56:22.077Z"
   },
   {
    "duration": 91,
    "start_time": "2021-10-23T12:56:22.094Z"
   },
   {
    "duration": 13,
    "start_time": "2021-10-23T12:56:22.187Z"
   },
   {
    "duration": 16,
    "start_time": "2021-10-23T12:56:22.203Z"
   },
   {
    "duration": 18,
    "start_time": "2021-10-23T12:56:22.220Z"
   },
   {
    "duration": 16,
    "start_time": "2021-10-23T12:56:22.239Z"
   },
   {
    "duration": 19,
    "start_time": "2021-10-23T12:56:22.257Z"
   },
   {
    "duration": 20,
    "start_time": "2021-10-23T12:56:22.278Z"
   },
   {
    "duration": 25,
    "start_time": "2021-10-23T12:56:22.300Z"
   },
   {
    "duration": 15,
    "start_time": "2021-10-23T12:56:22.327Z"
   },
   {
    "duration": 1094,
    "start_time": "2021-10-23T13:56:18.840Z"
   },
   {
    "duration": 10,
    "start_time": "2021-10-23T13:56:19.936Z"
   },
   {
    "duration": 7,
    "start_time": "2021-10-23T13:56:19.948Z"
   },
   {
    "duration": 5,
    "start_time": "2021-10-23T13:56:19.957Z"
   },
   {
    "duration": 11,
    "start_time": "2021-10-23T13:56:19.963Z"
   },
   {
    "duration": 7,
    "start_time": "2021-10-23T13:56:19.976Z"
   },
   {
    "duration": 6,
    "start_time": "2021-10-23T13:56:19.985Z"
   },
   {
    "duration": 4,
    "start_time": "2021-10-23T13:56:19.993Z"
   },
   {
    "duration": 11,
    "start_time": "2021-10-23T13:56:19.999Z"
   },
   {
    "duration": 8,
    "start_time": "2021-10-23T13:56:20.011Z"
   },
   {
    "duration": 17,
    "start_time": "2021-10-23T13:56:20.020Z"
   },
   {
    "duration": 17,
    "start_time": "2021-10-23T13:56:20.039Z"
   },
   {
    "duration": 8,
    "start_time": "2021-10-23T13:56:20.058Z"
   },
   {
    "duration": 26,
    "start_time": "2021-10-23T13:56:20.068Z"
   },
   {
    "duration": 10,
    "start_time": "2021-10-23T13:56:20.096Z"
   },
   {
    "duration": 13,
    "start_time": "2021-10-23T13:56:20.107Z"
   },
   {
    "duration": 200,
    "start_time": "2021-10-23T13:56:20.128Z"
   },
   {
    "duration": 252,
    "start_time": "2021-10-23T13:56:20.329Z"
   },
   {
    "duration": 245,
    "start_time": "2021-10-23T13:56:20.582Z"
   },
   {
    "duration": 330,
    "start_time": "2021-10-23T13:56:20.829Z"
   },
   {
    "duration": 160,
    "start_time": "2021-10-23T13:56:21.161Z"
   },
   {
    "duration": 249,
    "start_time": "2021-10-23T13:56:21.323Z"
   },
   {
    "duration": 379,
    "start_time": "2021-10-23T13:56:21.575Z"
   },
   {
    "duration": 10,
    "start_time": "2021-10-23T13:56:21.956Z"
   },
   {
    "duration": 178,
    "start_time": "2021-10-23T13:56:21.968Z"
   },
   {
    "duration": 262,
    "start_time": "2021-10-23T13:56:22.148Z"
   },
   {
    "duration": 4,
    "start_time": "2021-10-23T13:56:22.412Z"
   },
   {
    "duration": 174,
    "start_time": "2021-10-23T13:56:22.417Z"
   },
   {
    "duration": 311,
    "start_time": "2021-10-23T13:56:22.593Z"
   },
   {
    "duration": 4,
    "start_time": "2021-10-23T13:56:22.906Z"
   },
   {
    "duration": 13,
    "start_time": "2021-10-23T13:56:22.912Z"
   },
   {
    "duration": 104,
    "start_time": "2021-10-23T13:56:22.927Z"
   },
   {
    "duration": 13,
    "start_time": "2021-10-23T13:56:23.032Z"
   },
   {
    "duration": 5,
    "start_time": "2021-10-23T13:56:23.046Z"
   },
   {
    "duration": 10,
    "start_time": "2021-10-23T13:56:23.053Z"
   },
   {
    "duration": 33,
    "start_time": "2021-10-23T13:56:23.065Z"
   },
   {
    "duration": 10,
    "start_time": "2021-10-23T13:56:23.099Z"
   },
   {
    "duration": 12,
    "start_time": "2021-10-23T13:56:23.110Z"
   },
   {
    "duration": 16,
    "start_time": "2021-10-23T13:56:23.124Z"
   },
   {
    "duration": 9,
    "start_time": "2021-10-23T13:56:23.142Z"
   },
   {
    "duration": 246,
    "start_time": "2021-10-23T14:05:19.346Z"
   },
   {
    "duration": 7,
    "start_time": "2021-10-23T14:05:36.055Z"
   },
   {
    "duration": 1194,
    "start_time": "2021-10-23T21:01:40.732Z"
   },
   {
    "duration": -894,
    "start_time": "2021-10-23T21:01:42.825Z"
   },
   {
    "duration": -896,
    "start_time": "2021-10-23T21:01:42.829Z"
   },
   {
    "duration": -904,
    "start_time": "2021-10-23T21:01:42.838Z"
   },
   {
    "duration": -906,
    "start_time": "2021-10-23T21:01:42.842Z"
   },
   {
    "duration": -909,
    "start_time": "2021-10-23T21:01:42.846Z"
   },
   {
    "duration": -911,
    "start_time": "2021-10-23T21:01:42.849Z"
   },
   {
    "duration": -912,
    "start_time": "2021-10-23T21:01:42.852Z"
   },
   {
    "duration": -1096,
    "start_time": "2021-10-23T21:01:43.037Z"
   },
   {
    "duration": -1098,
    "start_time": "2021-10-23T21:01:43.040Z"
   },
   {
    "duration": -1100,
    "start_time": "2021-10-23T21:01:43.044Z"
   },
   {
    "duration": -1102,
    "start_time": "2021-10-23T21:01:43.047Z"
   },
   {
    "duration": -1104,
    "start_time": "2021-10-23T21:01:43.050Z"
   },
   {
    "duration": -1106,
    "start_time": "2021-10-23T21:01:43.054Z"
   },
   {
    "duration": -1123,
    "start_time": "2021-10-23T21:01:43.072Z"
   },
   {
    "duration": -1126,
    "start_time": "2021-10-23T21:01:43.076Z"
   },
   {
    "duration": -1135,
    "start_time": "2021-10-23T21:01:43.087Z"
   },
   {
    "duration": -1138,
    "start_time": "2021-10-23T21:01:43.091Z"
   },
   {
    "duration": -1139,
    "start_time": "2021-10-23T21:01:43.094Z"
   },
   {
    "duration": -1150,
    "start_time": "2021-10-23T21:01:43.106Z"
   },
   {
    "duration": -1151,
    "start_time": "2021-10-23T21:01:43.109Z"
   },
   {
    "duration": -1163,
    "start_time": "2021-10-23T21:01:43.122Z"
   },
   {
    "duration": -1165,
    "start_time": "2021-10-23T21:01:43.125Z"
   },
   {
    "duration": -1499,
    "start_time": "2021-10-23T21:01:43.461Z"
   },
   {
    "duration": -1586,
    "start_time": "2021-10-23T21:01:43.549Z"
   },
   {
    "duration": -1590,
    "start_time": "2021-10-23T21:01:43.554Z"
   },
   {
    "duration": -1684,
    "start_time": "2021-10-23T21:01:43.649Z"
   },
   {
    "duration": -1705,
    "start_time": "2021-10-23T21:01:43.672Z"
   },
   {
    "duration": -1708,
    "start_time": "2021-10-23T21:01:43.676Z"
   },
   {
    "duration": -1711,
    "start_time": "2021-10-23T21:01:43.680Z"
   },
   {
    "duration": -1802,
    "start_time": "2021-10-23T21:01:43.772Z"
   },
   {
    "duration": -1816,
    "start_time": "2021-10-23T21:01:43.787Z"
   },
   {
    "duration": -1789,
    "start_time": "2021-10-23T21:01:43.790Z"
   },
   {
    "duration": -1877,
    "start_time": "2021-10-23T21:01:43.879Z"
   },
   {
    "duration": -1886,
    "start_time": "2021-10-23T21:01:43.889Z"
   },
   {
    "duration": -1887,
    "start_time": "2021-10-23T21:01:43.892Z"
   },
   {
    "duration": -1989,
    "start_time": "2021-10-23T21:01:43.995Z"
   },
   {
    "duration": -1991,
    "start_time": "2021-10-23T21:01:43.998Z"
   },
   {
    "duration": -2000,
    "start_time": "2021-10-23T21:01:44.008Z"
   },
   {
    "duration": -2002,
    "start_time": "2021-10-23T21:01:44.012Z"
   },
   {
    "duration": 689,
    "start_time": "2021-10-23T21:03:01.862Z"
   },
   {
    "duration": 17,
    "start_time": "2021-10-23T21:03:06.712Z"
   },
   {
    "duration": 1880,
    "start_time": "2021-10-23T21:09:12.370Z"
   },
   {
    "duration": 18,
    "start_time": "2021-10-23T21:09:14.254Z"
   },
   {
    "duration": 11,
    "start_time": "2021-10-23T21:09:14.275Z"
   },
   {
    "duration": 7,
    "start_time": "2021-10-23T21:09:14.289Z"
   },
   {
    "duration": 15,
    "start_time": "2021-10-23T21:09:14.298Z"
   },
   {
    "duration": 15,
    "start_time": "2021-10-23T21:09:14.316Z"
   },
   {
    "duration": 9,
    "start_time": "2021-10-23T21:09:14.333Z"
   },
   {
    "duration": 7,
    "start_time": "2021-10-23T21:09:14.344Z"
   },
   {
    "duration": 10,
    "start_time": "2021-10-23T21:09:14.355Z"
   },
   {
    "duration": 32,
    "start_time": "2021-10-23T21:09:14.368Z"
   },
   {
    "duration": 27,
    "start_time": "2021-10-23T21:09:14.403Z"
   },
   {
    "duration": 18,
    "start_time": "2021-10-23T21:09:14.433Z"
   },
   {
    "duration": 17,
    "start_time": "2021-10-23T21:09:14.454Z"
   },
   {
    "duration": 39,
    "start_time": "2021-10-23T21:09:14.473Z"
   },
   {
    "duration": 12,
    "start_time": "2021-10-23T21:09:14.515Z"
   },
   {
    "duration": 10,
    "start_time": "2021-10-23T21:09:14.530Z"
   },
   {
    "duration": 477,
    "start_time": "2021-10-23T21:09:14.543Z"
   },
   {
    "duration": 442,
    "start_time": "2021-10-23T21:09:15.023Z"
   },
   {
    "duration": 436,
    "start_time": "2021-10-23T21:09:15.468Z"
   },
   {
    "duration": 488,
    "start_time": "2021-10-23T21:09:15.907Z"
   },
   {
    "duration": 313,
    "start_time": "2021-10-23T21:09:16.401Z"
   },
   {
    "duration": 693,
    "start_time": "2021-10-23T21:09:16.718Z"
   },
   {
    "duration": 655,
    "start_time": "2021-10-23T21:09:17.414Z"
   },
   {
    "duration": 31,
    "start_time": "2021-10-23T21:09:18.072Z"
   },
   {
    "duration": 369,
    "start_time": "2021-10-23T21:09:18.106Z"
   },
   {
    "duration": 403,
    "start_time": "2021-10-23T21:09:18.478Z"
   },
   {
    "duration": 12,
    "start_time": "2021-10-23T21:09:18.888Z"
   },
   {
    "duration": 277,
    "start_time": "2021-10-23T21:09:18.903Z"
   },
   {
    "duration": 406,
    "start_time": "2021-10-23T21:09:19.183Z"
   },
   {
    "duration": 14,
    "start_time": "2021-10-23T21:09:19.592Z"
   },
   {
    "duration": 20,
    "start_time": "2021-10-23T21:09:19.608Z"
   },
   {
    "duration": 22,
    "start_time": "2021-10-23T21:09:19.630Z"
   },
   {
    "duration": 130,
    "start_time": "2021-10-23T21:09:19.654Z"
   },
   {
    "duration": 16,
    "start_time": "2021-10-23T21:09:19.786Z"
   },
   {
    "duration": 12,
    "start_time": "2021-10-23T21:09:19.805Z"
   },
   {
    "duration": 14,
    "start_time": "2021-10-23T21:09:19.820Z"
   },
   {
    "duration": 15,
    "start_time": "2021-10-23T21:09:19.837Z"
   },
   {
    "duration": 48,
    "start_time": "2021-10-23T21:09:19.855Z"
   },
   {
    "duration": 20,
    "start_time": "2021-10-23T21:09:19.906Z"
   },
   {
    "duration": 16,
    "start_time": "2021-10-23T21:09:19.929Z"
   },
   {
    "duration": 437,
    "start_time": "2021-10-23T21:20:07.512Z"
   },
   {
    "duration": 429,
    "start_time": "2021-10-23T21:20:35.785Z"
   },
   {
    "duration": 429,
    "start_time": "2021-10-23T21:23:06.738Z"
   },
   {
    "duration": 621,
    "start_time": "2021-10-23T21:23:45.475Z"
   },
   {
    "duration": 628,
    "start_time": "2021-10-23T21:23:53.722Z"
   },
   {
    "duration": 661,
    "start_time": "2021-10-23T21:24:42.400Z"
   },
   {
    "duration": 428,
    "start_time": "2021-10-23T21:25:55.619Z"
   },
   {
    "duration": 535,
    "start_time": "2021-10-23T21:26:41.328Z"
   },
   {
    "duration": 302,
    "start_time": "2021-10-23T21:27:33.751Z"
   },
   {
    "duration": 305,
    "start_time": "2021-10-23T21:27:46.624Z"
   },
   {
    "duration": 302,
    "start_time": "2021-10-23T21:27:58.056Z"
   },
   {
    "duration": 649,
    "start_time": "2021-10-23T21:28:37.983Z"
   },
   {
    "duration": 304,
    "start_time": "2021-10-23T21:29:34.577Z"
   },
   {
    "duration": 399,
    "start_time": "2021-10-23T21:29:45.633Z"
   },
   {
    "duration": 304,
    "start_time": "2021-10-23T21:29:50.211Z"
   },
   {
    "duration": 301,
    "start_time": "2021-10-23T21:30:28.970Z"
   },
   {
    "duration": 388,
    "start_time": "2021-10-23T21:30:33.322Z"
   },
   {
    "duration": 1491,
    "start_time": "2021-10-23T21:39:49.278Z"
   },
   {
    "duration": 15,
    "start_time": "2021-10-23T21:39:50.771Z"
   },
   {
    "duration": 12,
    "start_time": "2021-10-23T21:39:50.789Z"
   },
   {
    "duration": 9,
    "start_time": "2021-10-23T21:39:50.804Z"
   },
   {
    "duration": 17,
    "start_time": "2021-10-23T21:39:50.815Z"
   },
   {
    "duration": 10,
    "start_time": "2021-10-23T21:39:50.835Z"
   },
   {
    "duration": 16,
    "start_time": "2021-10-23T21:39:50.848Z"
   },
   {
    "duration": 32,
    "start_time": "2021-10-23T21:39:50.869Z"
   },
   {
    "duration": 19,
    "start_time": "2021-10-23T21:39:50.904Z"
   },
   {
    "duration": 10,
    "start_time": "2021-10-23T21:39:50.925Z"
   },
   {
    "duration": 27,
    "start_time": "2021-10-23T21:39:50.937Z"
   },
   {
    "duration": 41,
    "start_time": "2021-10-23T21:39:50.966Z"
   },
   {
    "duration": 15,
    "start_time": "2021-10-23T21:39:51.009Z"
   },
   {
    "duration": 11,
    "start_time": "2021-10-23T21:39:51.027Z"
   },
   {
    "duration": 8,
    "start_time": "2021-10-23T21:39:51.041Z"
   },
   {
    "duration": 49,
    "start_time": "2021-10-23T21:39:51.051Z"
   },
   {
    "duration": 321,
    "start_time": "2021-10-23T21:39:51.103Z"
   },
   {
    "duration": 478,
    "start_time": "2021-10-23T21:39:51.426Z"
   },
   {
    "duration": 462,
    "start_time": "2021-10-23T21:39:51.906Z"
   },
   {
    "duration": 534,
    "start_time": "2021-10-23T21:39:52.370Z"
   },
   {
    "duration": 306,
    "start_time": "2021-10-23T21:39:52.906Z"
   },
   {
    "duration": 437,
    "start_time": "2021-10-23T21:39:53.214Z"
   },
   {
    "duration": 571,
    "start_time": "2021-10-23T21:39:53.655Z"
   },
   {
    "duration": 18,
    "start_time": "2021-10-23T21:39:54.229Z"
   },
   {
    "duration": 465,
    "start_time": "2021-10-23T21:39:54.250Z"
   },
   {
    "duration": 541,
    "start_time": "2021-10-23T21:39:54.718Z"
   },
   {
    "duration": 7,
    "start_time": "2021-10-23T21:39:55.262Z"
   },
   {
    "duration": 452,
    "start_time": "2021-10-23T21:39:55.272Z"
   },
   {
    "duration": 514,
    "start_time": "2021-10-23T21:39:55.727Z"
   },
   {
    "duration": 7,
    "start_time": "2021-10-23T21:39:56.244Z"
   },
   {
    "duration": 48,
    "start_time": "2021-10-23T21:39:56.254Z"
   },
   {
    "duration": 130,
    "start_time": "2021-10-23T21:39:56.305Z"
   },
   {
    "duration": 21,
    "start_time": "2021-10-23T21:39:56.437Z"
   },
   {
    "duration": 7,
    "start_time": "2021-10-23T21:39:56.460Z"
   },
   {
    "duration": 48,
    "start_time": "2021-10-23T21:39:56.469Z"
   },
   {
    "duration": 13,
    "start_time": "2021-10-23T21:39:56.519Z"
   },
   {
    "duration": 14,
    "start_time": "2021-10-23T21:39:56.535Z"
   },
   {
    "duration": 9,
    "start_time": "2021-10-23T21:39:56.551Z"
   },
   {
    "duration": 41,
    "start_time": "2021-10-23T21:39:56.563Z"
   },
   {
    "duration": 16,
    "start_time": "2021-10-23T21:39:56.607Z"
   },
   {
    "duration": 1188,
    "start_time": "2021-10-24T04:26:23.756Z"
   },
   {
    "duration": 11,
    "start_time": "2021-10-24T04:26:24.946Z"
   },
   {
    "duration": 6,
    "start_time": "2021-10-24T04:26:24.959Z"
   },
   {
    "duration": 4,
    "start_time": "2021-10-24T04:26:24.967Z"
   },
   {
    "duration": 15,
    "start_time": "2021-10-24T04:26:24.972Z"
   },
   {
    "duration": 7,
    "start_time": "2021-10-24T04:26:24.991Z"
   },
   {
    "duration": 11,
    "start_time": "2021-10-24T04:26:25.000Z"
   },
   {
    "duration": 5,
    "start_time": "2021-10-24T04:26:25.013Z"
   },
   {
    "duration": 7,
    "start_time": "2021-10-24T04:26:25.020Z"
   },
   {
    "duration": 7,
    "start_time": "2021-10-24T04:26:25.029Z"
   },
   {
    "duration": 17,
    "start_time": "2021-10-24T04:26:25.038Z"
   },
   {
    "duration": 38,
    "start_time": "2021-10-24T04:26:25.057Z"
   },
   {
    "duration": 10,
    "start_time": "2021-10-24T04:26:25.097Z"
   },
   {
    "duration": 7,
    "start_time": "2021-10-24T04:26:25.108Z"
   },
   {
    "duration": 7,
    "start_time": "2021-10-24T04:26:25.117Z"
   },
   {
    "duration": 6,
    "start_time": "2021-10-24T04:26:25.126Z"
   },
   {
    "duration": 252,
    "start_time": "2021-10-24T04:26:25.134Z"
   },
   {
    "duration": 407,
    "start_time": "2021-10-24T04:26:25.388Z"
   },
   {
    "duration": 309,
    "start_time": "2021-10-24T04:26:25.797Z"
   },
   {
    "duration": 376,
    "start_time": "2021-10-24T04:26:26.108Z"
   },
   {
    "duration": 183,
    "start_time": "2021-10-24T04:26:26.487Z"
   },
   {
    "duration": 291,
    "start_time": "2021-10-24T04:26:26.672Z"
   },
   {
    "duration": 438,
    "start_time": "2021-10-24T04:26:26.966Z"
   },
   {
    "duration": 11,
    "start_time": "2021-10-24T04:26:27.406Z"
   },
   {
    "duration": 218,
    "start_time": "2021-10-24T04:26:27.419Z"
   },
   {
    "duration": 337,
    "start_time": "2021-10-24T04:26:27.639Z"
   },
   {
    "duration": 6,
    "start_time": "2021-10-24T04:26:27.980Z"
   },
   {
    "duration": 215,
    "start_time": "2021-10-24T04:26:27.992Z"
   },
   {
    "duration": 324,
    "start_time": "2021-10-24T04:26:28.209Z"
   },
   {
    "duration": 4,
    "start_time": "2021-10-24T04:26:28.535Z"
   },
   {
    "duration": 29,
    "start_time": "2021-10-24T04:26:28.541Z"
   },
   {
    "duration": 94,
    "start_time": "2021-10-24T04:26:28.572Z"
   },
   {
    "duration": 27,
    "start_time": "2021-10-24T04:26:28.668Z"
   },
   {
    "duration": 8,
    "start_time": "2021-10-24T04:26:28.697Z"
   },
   {
    "duration": 24,
    "start_time": "2021-10-24T04:26:28.706Z"
   },
   {
    "duration": 17,
    "start_time": "2021-10-24T04:26:28.731Z"
   },
   {
    "duration": 18,
    "start_time": "2021-10-24T04:26:28.750Z"
   },
   {
    "duration": 11,
    "start_time": "2021-10-24T04:26:28.770Z"
   },
   {
    "duration": 27,
    "start_time": "2021-10-24T04:26:28.784Z"
   },
   {
    "duration": 10,
    "start_time": "2021-10-24T04:26:28.813Z"
   }
  ],
  "kernelspec": {
   "display_name": "Python 3",
   "language": "python",
   "name": "python3"
  },
  "language_info": {
   "codemirror_mode": {
    "name": "ipython",
    "version": 3
   },
   "file_extension": ".py",
   "mimetype": "text/x-python",
   "name": "python",
   "nbconvert_exporter": "python",
   "pygments_lexer": "ipython3",
   "version": "3.8.8"
  },
  "toc": {
   "base_numbering": 1,
   "nav_menu": {},
   "number_sections": true,
   "sideBar": true,
   "skip_h1_title": true,
   "title_cell": "Table of Contents",
   "title_sidebar": "Contents",
   "toc_cell": false,
   "toc_position": {
    "height": "calc(100% - 180px)",
    "left": "10px",
    "top": "150px",
    "width": "302.153px"
   },
   "toc_section_display": true,
   "toc_window_display": true
  }
 },
 "nbformat": 4,
 "nbformat_minor": 2
}
