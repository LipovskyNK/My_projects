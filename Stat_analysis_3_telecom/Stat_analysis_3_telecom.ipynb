{
 "cells": [
  {
   "cell_type": "markdown",
   "metadata": {},
   "source": [
    "# Определение перспективного тарифа для телеком компании"
   ]
  },
  {
   "cell_type": "markdown",
   "metadata": {},
   "source": [
    "**Заказчик** — «Мегалайн» — федеральный оператор сотовой связи, коммерческий департамент.\n",
    "\n",
    "**Цель исследования** - для корректировки рекламного бюджета компании «Мегалайн» по продвижению тарифов «Смарт» и «Ультра», необходимо проанализировать поведение клиентов и сформировать рекомендации по тарифам, какой приносит больше прибыли.\n",
    "\n",
    "**Исходные данные** — данные 500 пользователей «Мегалайна», представленные в 5 таблицах.\n",
    "\n"
   ]
  },
  {
   "cell_type": "markdown",
   "metadata": {},
   "source": [
    "## Изучение и предобработка вводных данных"
   ]
  },
  {
   "cell_type": "markdown",
   "metadata": {},
   "source": [
    "Загрузим исходные таблицы с данными."
   ]
  },
  {
   "cell_type": "code",
   "execution_count": 1,
   "metadata": {},
   "outputs": [],
   "source": [
    "import pandas as pd\n",
    "import numpy as np\n",
    "pd.set_option('display.max_columns', None)\n",
    "calls = pd.read_csv('calls.csv')\n",
    "internet = pd.read_csv('internet.csv')\n",
    "messages = pd.read_csv('messages.csv')\n",
    "tariffs = pd.read_csv('tariffs.csv')\n",
    "users = pd.read_csv('users.csv')\n"
   ]
  },
  {
   "cell_type": "markdown",
   "metadata": {},
   "source": [
    "Теперь поочередно проверим их и проведем предобработку."
   ]
  },
  {
   "cell_type": "markdown",
   "metadata": {},
   "source": [
    "### Звонки"
   ]
  },
  {
   "cell_type": "code",
   "execution_count": 2,
   "metadata": {},
   "outputs": [
    {
     "name": "stdout",
     "output_type": "stream",
     "text": [
      "<class 'pandas.core.frame.DataFrame'>\n",
      "RangeIndex: 202607 entries, 0 to 202606\n",
      "Data columns (total 4 columns):\n",
      " #   Column     Non-Null Count   Dtype  \n",
      "---  ------     --------------   -----  \n",
      " 0   id         202607 non-null  object \n",
      " 1   call_date  202607 non-null  object \n",
      " 2   duration   202607 non-null  float64\n",
      " 3   user_id    202607 non-null  int64  \n",
      "dtypes: float64(1), int64(1), object(2)\n",
      "memory usage: 6.2+ MB\n"
     ]
    }
   ],
   "source": [
    "calls.info()"
   ]
  },
  {
   "cell_type": "code",
   "execution_count": 3,
   "metadata": {},
   "outputs": [
    {
     "data": {
      "text/plain": [
       "0"
      ]
     },
     "execution_count": 3,
     "metadata": {},
     "output_type": "execute_result"
    }
   ],
   "source": [
    "calls.duplicated().sum()"
   ]
  },
  {
   "cell_type": "markdown",
   "metadata": {},
   "source": [
    "Все строки уникальны."
   ]
  },
  {
   "cell_type": "code",
   "execution_count": 4,
   "metadata": {},
   "outputs": [
    {
     "data": {
      "text/html": [
       "<div>\n",
       "<style scoped>\n",
       "    .dataframe tbody tr th:only-of-type {\n",
       "        vertical-align: middle;\n",
       "    }\n",
       "\n",
       "    .dataframe tbody tr th {\n",
       "        vertical-align: top;\n",
       "    }\n",
       "\n",
       "    .dataframe thead th {\n",
       "        text-align: right;\n",
       "    }\n",
       "</style>\n",
       "<table border=\"1\" class=\"dataframe\">\n",
       "  <thead>\n",
       "    <tr style=\"text-align: right;\">\n",
       "      <th></th>\n",
       "      <th>id</th>\n",
       "      <th>call_date</th>\n",
       "      <th>duration</th>\n",
       "      <th>user_id</th>\n",
       "    </tr>\n",
       "  </thead>\n",
       "  <tbody>\n",
       "    <tr>\n",
       "      <th>0</th>\n",
       "      <td>1000_0</td>\n",
       "      <td>2018-07-25</td>\n",
       "      <td>0.00</td>\n",
       "      <td>1000</td>\n",
       "    </tr>\n",
       "    <tr>\n",
       "      <th>1</th>\n",
       "      <td>1000_1</td>\n",
       "      <td>2018-08-17</td>\n",
       "      <td>0.00</td>\n",
       "      <td>1000</td>\n",
       "    </tr>\n",
       "    <tr>\n",
       "      <th>2</th>\n",
       "      <td>1000_2</td>\n",
       "      <td>2018-06-11</td>\n",
       "      <td>2.85</td>\n",
       "      <td>1000</td>\n",
       "    </tr>\n",
       "    <tr>\n",
       "      <th>3</th>\n",
       "      <td>1000_3</td>\n",
       "      <td>2018-09-21</td>\n",
       "      <td>13.80</td>\n",
       "      <td>1000</td>\n",
       "    </tr>\n",
       "    <tr>\n",
       "      <th>4</th>\n",
       "      <td>1000_4</td>\n",
       "      <td>2018-12-15</td>\n",
       "      <td>5.18</td>\n",
       "      <td>1000</td>\n",
       "    </tr>\n",
       "  </tbody>\n",
       "</table>\n",
       "</div>"
      ],
      "text/plain": [
       "       id   call_date  duration  user_id\n",
       "0  1000_0  2018-07-25      0.00     1000\n",
       "1  1000_1  2018-08-17      0.00     1000\n",
       "2  1000_2  2018-06-11      2.85     1000\n",
       "3  1000_3  2018-09-21     13.80     1000\n",
       "4  1000_4  2018-12-15      5.18     1000"
      ]
     },
     "execution_count": 4,
     "metadata": {},
     "output_type": "execute_result"
    }
   ],
   "source": [
    "calls.head(5)"
   ]
  },
  {
   "cell_type": "markdown",
   "metadata": {},
   "source": [
    "По полученной информации можно видеть, что столбец даты вне своего формата, также данные содержат нулевые значения в столбце длительности разговора. Посмотрим, какие значения могут принимать столбцы."
   ]
  },
  {
   "cell_type": "code",
   "execution_count": 5,
   "metadata": {},
   "outputs": [
    {
     "data": {
      "text/plain": [
       "count    202607.000000\n",
       "mean          6.755887\n",
       "std           5.843365\n",
       "min           0.000000\n",
       "25%           1.300000\n",
       "50%           6.000000\n",
       "75%          10.700000\n",
       "max          38.000000\n",
       "Name: duration, dtype: float64"
      ]
     },
     "execution_count": 5,
     "metadata": {},
     "output_type": "execute_result"
    }
   ],
   "source": [
    "calls['duration'].describe()"
   ]
  },
  {
   "cell_type": "code",
   "execution_count": 6,
   "metadata": {},
   "outputs": [
    {
     "name": "stdout",
     "output_type": "stream",
     "text": [
      "39613\n"
     ]
    },
    {
     "data": {
      "text/plain": [
       "19.551644316336553"
      ]
     },
     "execution_count": 6,
     "metadata": {},
     "output_type": "execute_result"
    }
   ],
   "source": [
    "print(calls.query('duration == 0')['duration'].count())\n",
    "calls.query('duration == 0')['duration'].count() / 202607 * 100"
   ]
  },
  {
   "cell_type": "markdown",
   "metadata": {},
   "source": [
    "Видим, что в столбце \"Длительность\" с данными все в порядке. Но есть 19,6% нулевых строк и нецелое значение минут. \n",
    "Нулевые значения оставим, так как при группировке они не мешают.\n",
    "Из особенности работы оператора известно, что секунды в любом количестве округляются до целой минуты. Следовательно, округлим значения вверх."
   ]
  },
  {
   "cell_type": "code",
   "execution_count": 7,
   "metadata": {},
   "outputs": [],
   "source": [
    "calls['duration'] = np.ceil(calls['duration'])\n",
    "calls['duration'] = calls['duration'].astype(int)"
   ]
  },
  {
   "cell_type": "code",
   "execution_count": 8,
   "metadata": {},
   "outputs": [
    {
     "data": {
      "text/html": [
       "<div>\n",
       "<style scoped>\n",
       "    .dataframe tbody tr th:only-of-type {\n",
       "        vertical-align: middle;\n",
       "    }\n",
       "\n",
       "    .dataframe tbody tr th {\n",
       "        vertical-align: top;\n",
       "    }\n",
       "\n",
       "    .dataframe thead th {\n",
       "        text-align: right;\n",
       "    }\n",
       "</style>\n",
       "<table border=\"1\" class=\"dataframe\">\n",
       "  <thead>\n",
       "    <tr style=\"text-align: right;\">\n",
       "      <th></th>\n",
       "      <th>id</th>\n",
       "      <th>call_date</th>\n",
       "      <th>duration</th>\n",
       "      <th>user_id</th>\n",
       "    </tr>\n",
       "  </thead>\n",
       "  <tbody>\n",
       "    <tr>\n",
       "      <th>0</th>\n",
       "      <td>1000_0</td>\n",
       "      <td>2018-07-25</td>\n",
       "      <td>0</td>\n",
       "      <td>1000</td>\n",
       "    </tr>\n",
       "    <tr>\n",
       "      <th>1</th>\n",
       "      <td>1000_1</td>\n",
       "      <td>2018-08-17</td>\n",
       "      <td>0</td>\n",
       "      <td>1000</td>\n",
       "    </tr>\n",
       "    <tr>\n",
       "      <th>2</th>\n",
       "      <td>1000_2</td>\n",
       "      <td>2018-06-11</td>\n",
       "      <td>3</td>\n",
       "      <td>1000</td>\n",
       "    </tr>\n",
       "    <tr>\n",
       "      <th>3</th>\n",
       "      <td>1000_3</td>\n",
       "      <td>2018-09-21</td>\n",
       "      <td>14</td>\n",
       "      <td>1000</td>\n",
       "    </tr>\n",
       "    <tr>\n",
       "      <th>4</th>\n",
       "      <td>1000_4</td>\n",
       "      <td>2018-12-15</td>\n",
       "      <td>6</td>\n",
       "      <td>1000</td>\n",
       "    </tr>\n",
       "  </tbody>\n",
       "</table>\n",
       "</div>"
      ],
      "text/plain": [
       "       id   call_date  duration  user_id\n",
       "0  1000_0  2018-07-25         0     1000\n",
       "1  1000_1  2018-08-17         0     1000\n",
       "2  1000_2  2018-06-11         3     1000\n",
       "3  1000_3  2018-09-21        14     1000\n",
       "4  1000_4  2018-12-15         6     1000"
      ]
     },
     "execution_count": 8,
     "metadata": {},
     "output_type": "execute_result"
    }
   ],
   "source": [
    "calls.head(5)"
   ]
  },
  {
   "cell_type": "markdown",
   "metadata": {},
   "source": [
    "Теперь преобразуем столбец с датой в соответствующий формат"
   ]
  },
  {
   "cell_type": "code",
   "execution_count": 9,
   "metadata": {},
   "outputs": [
    {
     "name": "stdout",
     "output_type": "stream",
     "text": [
      "<class 'pandas.core.frame.DataFrame'>\n",
      "RangeIndex: 202607 entries, 0 to 202606\n",
      "Data columns (total 4 columns):\n",
      " #   Column     Non-Null Count   Dtype         \n",
      "---  ------     --------------   -----         \n",
      " 0   id         202607 non-null  object        \n",
      " 1   call_date  202607 non-null  datetime64[ns]\n",
      " 2   duration   202607 non-null  int32         \n",
      " 3   user_id    202607 non-null  int64         \n",
      "dtypes: datetime64[ns](1), int32(1), int64(1), object(1)\n",
      "memory usage: 5.4+ MB\n"
     ]
    }
   ],
   "source": [
    "calls['call_date'] = pd.to_datetime(calls['call_date'], format = '%Y-%m-%d')\n",
    "calls.info()"
   ]
  },
  {
   "cell_type": "code",
   "execution_count": 10,
   "metadata": {},
   "outputs": [
    {
     "data": {
      "text/html": [
       "<div>\n",
       "<style scoped>\n",
       "    .dataframe tbody tr th:only-of-type {\n",
       "        vertical-align: middle;\n",
       "    }\n",
       "\n",
       "    .dataframe tbody tr th {\n",
       "        vertical-align: top;\n",
       "    }\n",
       "\n",
       "    .dataframe thead th {\n",
       "        text-align: right;\n",
       "    }\n",
       "</style>\n",
       "<table border=\"1\" class=\"dataframe\">\n",
       "  <thead>\n",
       "    <tr style=\"text-align: right;\">\n",
       "      <th></th>\n",
       "      <th>id</th>\n",
       "      <th>call_date</th>\n",
       "      <th>duration</th>\n",
       "      <th>user_id</th>\n",
       "    </tr>\n",
       "  </thead>\n",
       "  <tbody>\n",
       "    <tr>\n",
       "      <th>0</th>\n",
       "      <td>1000_0</td>\n",
       "      <td>2018-07-25</td>\n",
       "      <td>0</td>\n",
       "      <td>1000</td>\n",
       "    </tr>\n",
       "    <tr>\n",
       "      <th>1</th>\n",
       "      <td>1000_1</td>\n",
       "      <td>2018-08-17</td>\n",
       "      <td>0</td>\n",
       "      <td>1000</td>\n",
       "    </tr>\n",
       "    <tr>\n",
       "      <th>2</th>\n",
       "      <td>1000_2</td>\n",
       "      <td>2018-06-11</td>\n",
       "      <td>3</td>\n",
       "      <td>1000</td>\n",
       "    </tr>\n",
       "    <tr>\n",
       "      <th>3</th>\n",
       "      <td>1000_3</td>\n",
       "      <td>2018-09-21</td>\n",
       "      <td>14</td>\n",
       "      <td>1000</td>\n",
       "    </tr>\n",
       "    <tr>\n",
       "      <th>4</th>\n",
       "      <td>1000_4</td>\n",
       "      <td>2018-12-15</td>\n",
       "      <td>6</td>\n",
       "      <td>1000</td>\n",
       "    </tr>\n",
       "  </tbody>\n",
       "</table>\n",
       "</div>"
      ],
      "text/plain": [
       "       id  call_date  duration  user_id\n",
       "0  1000_0 2018-07-25         0     1000\n",
       "1  1000_1 2018-08-17         0     1000\n",
       "2  1000_2 2018-06-11         3     1000\n",
       "3  1000_3 2018-09-21        14     1000\n",
       "4  1000_4 2018-12-15         6     1000"
      ]
     },
     "execution_count": 10,
     "metadata": {},
     "output_type": "execute_result"
    }
   ],
   "source": [
    "calls.head(5)"
   ]
  },
  {
   "cell_type": "markdown",
   "metadata": {},
   "source": [
    "Готово, таблица обработана."
   ]
  },
  {
   "cell_type": "markdown",
   "metadata": {},
   "source": [
    "### Интернет"
   ]
  },
  {
   "cell_type": "code",
   "execution_count": 11,
   "metadata": {},
   "outputs": [
    {
     "name": "stdout",
     "output_type": "stream",
     "text": [
      "<class 'pandas.core.frame.DataFrame'>\n",
      "RangeIndex: 149396 entries, 0 to 149395\n",
      "Data columns (total 5 columns):\n",
      " #   Column        Non-Null Count   Dtype  \n",
      "---  ------        --------------   -----  \n",
      " 0   Unnamed: 0    149396 non-null  int64  \n",
      " 1   id            149396 non-null  object \n",
      " 2   mb_used       149396 non-null  float64\n",
      " 3   session_date  149396 non-null  object \n",
      " 4   user_id       149396 non-null  int64  \n",
      "dtypes: float64(1), int64(2), object(2)\n",
      "memory usage: 5.7+ MB\n"
     ]
    }
   ],
   "source": [
    "internet.info()"
   ]
  },
  {
   "cell_type": "code",
   "execution_count": 12,
   "metadata": {},
   "outputs": [
    {
     "data": {
      "text/html": [
       "<div>\n",
       "<style scoped>\n",
       "    .dataframe tbody tr th:only-of-type {\n",
       "        vertical-align: middle;\n",
       "    }\n",
       "\n",
       "    .dataframe tbody tr th {\n",
       "        vertical-align: top;\n",
       "    }\n",
       "\n",
       "    .dataframe thead th {\n",
       "        text-align: right;\n",
       "    }\n",
       "</style>\n",
       "<table border=\"1\" class=\"dataframe\">\n",
       "  <thead>\n",
       "    <tr style=\"text-align: right;\">\n",
       "      <th></th>\n",
       "      <th>Unnamed: 0</th>\n",
       "      <th>id</th>\n",
       "      <th>mb_used</th>\n",
       "      <th>session_date</th>\n",
       "      <th>user_id</th>\n",
       "    </tr>\n",
       "  </thead>\n",
       "  <tbody>\n",
       "    <tr>\n",
       "      <th>0</th>\n",
       "      <td>0</td>\n",
       "      <td>1000_0</td>\n",
       "      <td>112.95</td>\n",
       "      <td>2018-11-25</td>\n",
       "      <td>1000</td>\n",
       "    </tr>\n",
       "    <tr>\n",
       "      <th>1</th>\n",
       "      <td>1</td>\n",
       "      <td>1000_1</td>\n",
       "      <td>1052.81</td>\n",
       "      <td>2018-09-07</td>\n",
       "      <td>1000</td>\n",
       "    </tr>\n",
       "    <tr>\n",
       "      <th>2</th>\n",
       "      <td>2</td>\n",
       "      <td>1000_2</td>\n",
       "      <td>1197.26</td>\n",
       "      <td>2018-06-25</td>\n",
       "      <td>1000</td>\n",
       "    </tr>\n",
       "    <tr>\n",
       "      <th>3</th>\n",
       "      <td>3</td>\n",
       "      <td>1000_3</td>\n",
       "      <td>550.27</td>\n",
       "      <td>2018-08-22</td>\n",
       "      <td>1000</td>\n",
       "    </tr>\n",
       "    <tr>\n",
       "      <th>4</th>\n",
       "      <td>4</td>\n",
       "      <td>1000_4</td>\n",
       "      <td>302.56</td>\n",
       "      <td>2018-09-24</td>\n",
       "      <td>1000</td>\n",
       "    </tr>\n",
       "  </tbody>\n",
       "</table>\n",
       "</div>"
      ],
      "text/plain": [
       "   Unnamed: 0      id  mb_used session_date  user_id\n",
       "0           0  1000_0   112.95   2018-11-25     1000\n",
       "1           1  1000_1  1052.81   2018-09-07     1000\n",
       "2           2  1000_2  1197.26   2018-06-25     1000\n",
       "3           3  1000_3   550.27   2018-08-22     1000\n",
       "4           4  1000_4   302.56   2018-09-24     1000"
      ]
     },
     "execution_count": 12,
     "metadata": {},
     "output_type": "execute_result"
    }
   ],
   "source": [
    "internet.head()"
   ]
  },
  {
   "cell_type": "markdown",
   "metadata": {},
   "source": [
    "Из очевидных вопросов:\n",
    "- лишний столбец Unnamed;\n",
    "- неокругленный столбец mb;\n",
    "- столбец с датой не соответствующего формата.\n",
    "\n",
    "Проведем также проверку содержимого столбцов."
   ]
  },
  {
   "cell_type": "code",
   "execution_count": 13,
   "metadata": {},
   "outputs": [
    {
     "data": {
      "text/plain": [
       "count    149396.000000\n",
       "mean        370.192426\n",
       "std         278.300951\n",
       "min           0.000000\n",
       "25%         138.187500\n",
       "50%         348.015000\n",
       "75%         559.552500\n",
       "max        1724.830000\n",
       "Name: mb_used, dtype: float64"
      ]
     },
     "execution_count": 13,
     "metadata": {},
     "output_type": "execute_result"
    }
   ],
   "source": [
    "internet['mb_used'].describe()"
   ]
  },
  {
   "cell_type": "code",
   "execution_count": 14,
   "metadata": {},
   "outputs": [
    {
     "data": {
      "text/plain": [
       "count     149396\n",
       "unique    149396\n",
       "top       1051_8\n",
       "freq           1\n",
       "Name: id, dtype: object"
      ]
     },
     "execution_count": 14,
     "metadata": {},
     "output_type": "execute_result"
    }
   ],
   "source": [
    "internet['id'].describe()"
   ]
  },
  {
   "cell_type": "code",
   "execution_count": 15,
   "metadata": {},
   "outputs": [
    {
     "data": {
      "text/plain": [
       "count    149396.000000\n",
       "mean       1252.099842\n",
       "std         144.050823\n",
       "min        1000.000000\n",
       "25%        1130.000000\n",
       "50%        1251.000000\n",
       "75%        1380.000000\n",
       "max        1499.000000\n",
       "Name: user_id, dtype: float64"
      ]
     },
     "execution_count": 15,
     "metadata": {},
     "output_type": "execute_result"
    }
   ],
   "source": [
    "internet['user_id'].describe()"
   ]
  },
  {
   "cell_type": "markdown",
   "metadata": {},
   "source": [
    "Проблем с содержимым не видно. Приступим к исправлению структурных вопросов."
   ]
  },
  {
   "cell_type": "code",
   "execution_count": 16,
   "metadata": {},
   "outputs": [],
   "source": [
    "internet = internet.drop('Unnamed: 0', axis = 1)"
   ]
  },
  {
   "cell_type": "markdown",
   "metadata": {},
   "source": [
    "Столбец удален, теперь округлим мегабайты вверх в соответствии с их тарификацией."
   ]
  },
  {
   "cell_type": "code",
   "execution_count": 17,
   "metadata": {},
   "outputs": [],
   "source": [
    "internet['mb_used'] = np.ceil(internet['mb_used'])\n",
    "internet['mb_used'] = internet['mb_used'].astype(int)\n"
   ]
  },
  {
   "cell_type": "code",
   "execution_count": 18,
   "metadata": {},
   "outputs": [
    {
     "data": {
      "text/html": [
       "<div>\n",
       "<style scoped>\n",
       "    .dataframe tbody tr th:only-of-type {\n",
       "        vertical-align: middle;\n",
       "    }\n",
       "\n",
       "    .dataframe tbody tr th {\n",
       "        vertical-align: top;\n",
       "    }\n",
       "\n",
       "    .dataframe thead th {\n",
       "        text-align: right;\n",
       "    }\n",
       "</style>\n",
       "<table border=\"1\" class=\"dataframe\">\n",
       "  <thead>\n",
       "    <tr style=\"text-align: right;\">\n",
       "      <th></th>\n",
       "      <th>id</th>\n",
       "      <th>mb_used</th>\n",
       "      <th>session_date</th>\n",
       "      <th>user_id</th>\n",
       "    </tr>\n",
       "  </thead>\n",
       "  <tbody>\n",
       "    <tr>\n",
       "      <th>0</th>\n",
       "      <td>1000_0</td>\n",
       "      <td>113</td>\n",
       "      <td>2018-11-25</td>\n",
       "      <td>1000</td>\n",
       "    </tr>\n",
       "    <tr>\n",
       "      <th>1</th>\n",
       "      <td>1000_1</td>\n",
       "      <td>1053</td>\n",
       "      <td>2018-09-07</td>\n",
       "      <td>1000</td>\n",
       "    </tr>\n",
       "    <tr>\n",
       "      <th>2</th>\n",
       "      <td>1000_2</td>\n",
       "      <td>1198</td>\n",
       "      <td>2018-06-25</td>\n",
       "      <td>1000</td>\n",
       "    </tr>\n",
       "    <tr>\n",
       "      <th>3</th>\n",
       "      <td>1000_3</td>\n",
       "      <td>551</td>\n",
       "      <td>2018-08-22</td>\n",
       "      <td>1000</td>\n",
       "    </tr>\n",
       "    <tr>\n",
       "      <th>4</th>\n",
       "      <td>1000_4</td>\n",
       "      <td>303</td>\n",
       "      <td>2018-09-24</td>\n",
       "      <td>1000</td>\n",
       "    </tr>\n",
       "  </tbody>\n",
       "</table>\n",
       "</div>"
      ],
      "text/plain": [
       "       id  mb_used session_date  user_id\n",
       "0  1000_0      113   2018-11-25     1000\n",
       "1  1000_1     1053   2018-09-07     1000\n",
       "2  1000_2     1198   2018-06-25     1000\n",
       "3  1000_3      551   2018-08-22     1000\n",
       "4  1000_4      303   2018-09-24     1000"
      ]
     },
     "execution_count": 18,
     "metadata": {},
     "output_type": "execute_result"
    }
   ],
   "source": [
    "internet.head(5)"
   ]
  },
  {
   "cell_type": "markdown",
   "metadata": {},
   "source": [
    "Последним шагом приведем к формату дату."
   ]
  },
  {
   "cell_type": "code",
   "execution_count": 19,
   "metadata": {},
   "outputs": [
    {
     "name": "stdout",
     "output_type": "stream",
     "text": [
      "<class 'pandas.core.frame.DataFrame'>\n",
      "RangeIndex: 149396 entries, 0 to 149395\n",
      "Data columns (total 4 columns):\n",
      " #   Column        Non-Null Count   Dtype         \n",
      "---  ------        --------------   -----         \n",
      " 0   id            149396 non-null  object        \n",
      " 1   mb_used       149396 non-null  int32         \n",
      " 2   session_date  149396 non-null  datetime64[ns]\n",
      " 3   user_id       149396 non-null  int64         \n",
      "dtypes: datetime64[ns](1), int32(1), int64(1), object(1)\n",
      "memory usage: 4.0+ MB\n"
     ]
    }
   ],
   "source": [
    "internet['session_date'] = pd.to_datetime(internet['session_date'], format = '%Y-%m-%d')\n",
    "internet.info()"
   ]
  },
  {
   "cell_type": "markdown",
   "metadata": {},
   "source": [
    "Таблица обработана."
   ]
  },
  {
   "cell_type": "markdown",
   "metadata": {},
   "source": [
    "### Сообщения"
   ]
  },
  {
   "cell_type": "code",
   "execution_count": 20,
   "metadata": {},
   "outputs": [
    {
     "name": "stdout",
     "output_type": "stream",
     "text": [
      "<class 'pandas.core.frame.DataFrame'>\n",
      "RangeIndex: 123036 entries, 0 to 123035\n",
      "Data columns (total 3 columns):\n",
      " #   Column        Non-Null Count   Dtype \n",
      "---  ------        --------------   ----- \n",
      " 0   id            123036 non-null  object\n",
      " 1   message_date  123036 non-null  object\n",
      " 2   user_id       123036 non-null  int64 \n",
      "dtypes: int64(1), object(2)\n",
      "memory usage: 2.8+ MB\n"
     ]
    }
   ],
   "source": [
    "messages.info()"
   ]
  },
  {
   "cell_type": "code",
   "execution_count": 21,
   "metadata": {},
   "outputs": [
    {
     "data": {
      "text/html": [
       "<div>\n",
       "<style scoped>\n",
       "    .dataframe tbody tr th:only-of-type {\n",
       "        vertical-align: middle;\n",
       "    }\n",
       "\n",
       "    .dataframe tbody tr th {\n",
       "        vertical-align: top;\n",
       "    }\n",
       "\n",
       "    .dataframe thead th {\n",
       "        text-align: right;\n",
       "    }\n",
       "</style>\n",
       "<table border=\"1\" class=\"dataframe\">\n",
       "  <thead>\n",
       "    <tr style=\"text-align: right;\">\n",
       "      <th></th>\n",
       "      <th>id</th>\n",
       "      <th>message_date</th>\n",
       "      <th>user_id</th>\n",
       "    </tr>\n",
       "  </thead>\n",
       "  <tbody>\n",
       "    <tr>\n",
       "      <th>0</th>\n",
       "      <td>1000_0</td>\n",
       "      <td>2018-06-27</td>\n",
       "      <td>1000</td>\n",
       "    </tr>\n",
       "    <tr>\n",
       "      <th>1</th>\n",
       "      <td>1000_1</td>\n",
       "      <td>2018-10-08</td>\n",
       "      <td>1000</td>\n",
       "    </tr>\n",
       "    <tr>\n",
       "      <th>2</th>\n",
       "      <td>1000_2</td>\n",
       "      <td>2018-08-04</td>\n",
       "      <td>1000</td>\n",
       "    </tr>\n",
       "    <tr>\n",
       "      <th>3</th>\n",
       "      <td>1000_3</td>\n",
       "      <td>2018-06-16</td>\n",
       "      <td>1000</td>\n",
       "    </tr>\n",
       "    <tr>\n",
       "      <th>4</th>\n",
       "      <td>1000_4</td>\n",
       "      <td>2018-12-05</td>\n",
       "      <td>1000</td>\n",
       "    </tr>\n",
       "  </tbody>\n",
       "</table>\n",
       "</div>"
      ],
      "text/plain": [
       "       id message_date  user_id\n",
       "0  1000_0   2018-06-27     1000\n",
       "1  1000_1   2018-10-08     1000\n",
       "2  1000_2   2018-08-04     1000\n",
       "3  1000_3   2018-06-16     1000\n",
       "4  1000_4   2018-12-05     1000"
      ]
     },
     "execution_count": 21,
     "metadata": {},
     "output_type": "execute_result"
    }
   ],
   "source": [
    "messages.head(5)"
   ]
  },
  {
   "cell_type": "markdown",
   "metadata": {},
   "source": [
    "Приведем дату в соответствие."
   ]
  },
  {
   "cell_type": "code",
   "execution_count": 22,
   "metadata": {},
   "outputs": [
    {
     "name": "stdout",
     "output_type": "stream",
     "text": [
      "<class 'pandas.core.frame.DataFrame'>\n",
      "RangeIndex: 123036 entries, 0 to 123035\n",
      "Data columns (total 3 columns):\n",
      " #   Column        Non-Null Count   Dtype         \n",
      "---  ------        --------------   -----         \n",
      " 0   id            123036 non-null  object        \n",
      " 1   message_date  123036 non-null  datetime64[ns]\n",
      " 2   user_id       123036 non-null  int64         \n",
      "dtypes: datetime64[ns](1), int64(1), object(1)\n",
      "memory usage: 2.8+ MB\n"
     ]
    }
   ],
   "source": [
    "messages['message_date'] = pd.to_datetime(messages['message_date'], format = '%Y-%m-%d')\n",
    "messages.info()"
   ]
  },
  {
   "cell_type": "code",
   "execution_count": 23,
   "metadata": {},
   "outputs": [
    {
     "data": {
      "text/plain": [
       "0"
      ]
     },
     "execution_count": 23,
     "metadata": {},
     "output_type": "execute_result"
    }
   ],
   "source": [
    "messages.duplicated().sum()"
   ]
  },
  {
   "cell_type": "markdown",
   "metadata": {},
   "source": [
    "### Тарифы"
   ]
  },
  {
   "cell_type": "code",
   "execution_count": 24,
   "metadata": {},
   "outputs": [
    {
     "name": "stdout",
     "output_type": "stream",
     "text": [
      "<class 'pandas.core.frame.DataFrame'>\n",
      "RangeIndex: 2 entries, 0 to 1\n",
      "Data columns (total 8 columns):\n",
      " #   Column                 Non-Null Count  Dtype \n",
      "---  ------                 --------------  ----- \n",
      " 0   messages_included      2 non-null      int64 \n",
      " 1   mb_per_month_included  2 non-null      int64 \n",
      " 2   minutes_included       2 non-null      int64 \n",
      " 3   rub_monthly_fee        2 non-null      int64 \n",
      " 4   rub_per_gb             2 non-null      int64 \n",
      " 5   rub_per_message        2 non-null      int64 \n",
      " 6   rub_per_minute         2 non-null      int64 \n",
      " 7   tariff_name            2 non-null      object\n",
      "dtypes: int64(7), object(1)\n",
      "memory usage: 256.0+ bytes\n"
     ]
    }
   ],
   "source": [
    "tariffs.info()"
   ]
  },
  {
   "cell_type": "code",
   "execution_count": 25,
   "metadata": {},
   "outputs": [
    {
     "data": {
      "text/html": [
       "<div>\n",
       "<style scoped>\n",
       "    .dataframe tbody tr th:only-of-type {\n",
       "        vertical-align: middle;\n",
       "    }\n",
       "\n",
       "    .dataframe tbody tr th {\n",
       "        vertical-align: top;\n",
       "    }\n",
       "\n",
       "    .dataframe thead th {\n",
       "        text-align: right;\n",
       "    }\n",
       "</style>\n",
       "<table border=\"1\" class=\"dataframe\">\n",
       "  <thead>\n",
       "    <tr style=\"text-align: right;\">\n",
       "      <th></th>\n",
       "      <th>messages_included</th>\n",
       "      <th>mb_per_month_included</th>\n",
       "      <th>minutes_included</th>\n",
       "      <th>rub_monthly_fee</th>\n",
       "      <th>rub_per_gb</th>\n",
       "      <th>rub_per_message</th>\n",
       "      <th>rub_per_minute</th>\n",
       "      <th>tariff_name</th>\n",
       "    </tr>\n",
       "  </thead>\n",
       "  <tbody>\n",
       "    <tr>\n",
       "      <th>0</th>\n",
       "      <td>50</td>\n",
       "      <td>15360</td>\n",
       "      <td>500</td>\n",
       "      <td>550</td>\n",
       "      <td>200</td>\n",
       "      <td>3</td>\n",
       "      <td>3</td>\n",
       "      <td>smart</td>\n",
       "    </tr>\n",
       "    <tr>\n",
       "      <th>1</th>\n",
       "      <td>1000</td>\n",
       "      <td>30720</td>\n",
       "      <td>3000</td>\n",
       "      <td>1950</td>\n",
       "      <td>150</td>\n",
       "      <td>1</td>\n",
       "      <td>1</td>\n",
       "      <td>ultra</td>\n",
       "    </tr>\n",
       "  </tbody>\n",
       "</table>\n",
       "</div>"
      ],
      "text/plain": [
       "   messages_included  mb_per_month_included  minutes_included  \\\n",
       "0                 50                  15360               500   \n",
       "1               1000                  30720              3000   \n",
       "\n",
       "   rub_monthly_fee  rub_per_gb  rub_per_message  rub_per_minute tariff_name  \n",
       "0              550         200                3               3       smart  \n",
       "1             1950         150                1               1       ultra  "
      ]
     },
     "execution_count": 25,
     "metadata": {},
     "output_type": "execute_result"
    }
   ],
   "source": [
    "tariffs.head(5)"
   ]
  },
  {
   "cell_type": "markdown",
   "metadata": {},
   "source": [
    "Тут все в порядке."
   ]
  },
  {
   "cell_type": "markdown",
   "metadata": {},
   "source": [
    "### Пользователи"
   ]
  },
  {
   "cell_type": "code",
   "execution_count": 26,
   "metadata": {},
   "outputs": [
    {
     "name": "stdout",
     "output_type": "stream",
     "text": [
      "<class 'pandas.core.frame.DataFrame'>\n",
      "RangeIndex: 500 entries, 0 to 499\n",
      "Data columns (total 8 columns):\n",
      " #   Column      Non-Null Count  Dtype \n",
      "---  ------      --------------  ----- \n",
      " 0   user_id     500 non-null    int64 \n",
      " 1   age         500 non-null    int64 \n",
      " 2   churn_date  38 non-null     object\n",
      " 3   city        500 non-null    object\n",
      " 4   first_name  500 non-null    object\n",
      " 5   last_name   500 non-null    object\n",
      " 6   reg_date    500 non-null    object\n",
      " 7   tariff      500 non-null    object\n",
      "dtypes: int64(2), object(6)\n",
      "memory usage: 31.4+ KB\n"
     ]
    }
   ],
   "source": [
    "users.info()"
   ]
  },
  {
   "cell_type": "code",
   "execution_count": 27,
   "metadata": {},
   "outputs": [
    {
     "data": {
      "text/html": [
       "<div>\n",
       "<style scoped>\n",
       "    .dataframe tbody tr th:only-of-type {\n",
       "        vertical-align: middle;\n",
       "    }\n",
       "\n",
       "    .dataframe tbody tr th {\n",
       "        vertical-align: top;\n",
       "    }\n",
       "\n",
       "    .dataframe thead th {\n",
       "        text-align: right;\n",
       "    }\n",
       "</style>\n",
       "<table border=\"1\" class=\"dataframe\">\n",
       "  <thead>\n",
       "    <tr style=\"text-align: right;\">\n",
       "      <th></th>\n",
       "      <th>user_id</th>\n",
       "      <th>age</th>\n",
       "      <th>churn_date</th>\n",
       "      <th>city</th>\n",
       "      <th>first_name</th>\n",
       "      <th>last_name</th>\n",
       "      <th>reg_date</th>\n",
       "      <th>tariff</th>\n",
       "    </tr>\n",
       "  </thead>\n",
       "  <tbody>\n",
       "    <tr>\n",
       "      <th>0</th>\n",
       "      <td>1000</td>\n",
       "      <td>52</td>\n",
       "      <td>NaN</td>\n",
       "      <td>Краснодар</td>\n",
       "      <td>Рафаил</td>\n",
       "      <td>Верещагин</td>\n",
       "      <td>2018-05-25</td>\n",
       "      <td>ultra</td>\n",
       "    </tr>\n",
       "    <tr>\n",
       "      <th>1</th>\n",
       "      <td>1001</td>\n",
       "      <td>41</td>\n",
       "      <td>NaN</td>\n",
       "      <td>Москва</td>\n",
       "      <td>Иван</td>\n",
       "      <td>Ежов</td>\n",
       "      <td>2018-11-01</td>\n",
       "      <td>smart</td>\n",
       "    </tr>\n",
       "    <tr>\n",
       "      <th>2</th>\n",
       "      <td>1002</td>\n",
       "      <td>59</td>\n",
       "      <td>NaN</td>\n",
       "      <td>Стерлитамак</td>\n",
       "      <td>Евгений</td>\n",
       "      <td>Абрамович</td>\n",
       "      <td>2018-06-17</td>\n",
       "      <td>smart</td>\n",
       "    </tr>\n",
       "    <tr>\n",
       "      <th>3</th>\n",
       "      <td>1003</td>\n",
       "      <td>23</td>\n",
       "      <td>NaN</td>\n",
       "      <td>Москва</td>\n",
       "      <td>Белла</td>\n",
       "      <td>Белякова</td>\n",
       "      <td>2018-08-17</td>\n",
       "      <td>ultra</td>\n",
       "    </tr>\n",
       "    <tr>\n",
       "      <th>4</th>\n",
       "      <td>1004</td>\n",
       "      <td>68</td>\n",
       "      <td>NaN</td>\n",
       "      <td>Новокузнецк</td>\n",
       "      <td>Татьяна</td>\n",
       "      <td>Авдеенко</td>\n",
       "      <td>2018-05-14</td>\n",
       "      <td>ultra</td>\n",
       "    </tr>\n",
       "  </tbody>\n",
       "</table>\n",
       "</div>"
      ],
      "text/plain": [
       "   user_id  age churn_date         city first_name  last_name    reg_date  \\\n",
       "0     1000   52        NaN    Краснодар     Рафаил  Верещагин  2018-05-25   \n",
       "1     1001   41        NaN       Москва       Иван       Ежов  2018-11-01   \n",
       "2     1002   59        NaN  Стерлитамак    Евгений  Абрамович  2018-06-17   \n",
       "3     1003   23        NaN       Москва      Белла   Белякова  2018-08-17   \n",
       "4     1004   68        NaN  Новокузнецк    Татьяна   Авдеенко  2018-05-14   \n",
       "\n",
       "  tariff  \n",
       "0  ultra  \n",
       "1  smart  \n",
       "2  smart  \n",
       "3  ultra  \n",
       "4  ultra  "
      ]
     },
     "execution_count": 27,
     "metadata": {},
     "output_type": "execute_result"
    }
   ],
   "source": [
    "users.head(5)"
   ]
  },
  {
   "cell_type": "markdown",
   "metadata": {},
   "source": [
    "Сделаем следующее:\n",
    "- приведем дату в соответствующий формат;\n",
    "- проверим столбец возраст и город на наполнение, корректность;\n",
    "- проверим таблицу на повторки."
   ]
  },
  {
   "cell_type": "code",
   "execution_count": 28,
   "metadata": {},
   "outputs": [
    {
     "data": {
      "text/plain": [
       "count    500.00000\n",
       "mean      46.58800\n",
       "std       16.66763\n",
       "min       18.00000\n",
       "25%       32.00000\n",
       "50%       46.00000\n",
       "75%       62.00000\n",
       "max       75.00000\n",
       "Name: age, dtype: float64"
      ]
     },
     "execution_count": 28,
     "metadata": {},
     "output_type": "execute_result"
    }
   ],
   "source": [
    "users['age'].describe()"
   ]
  },
  {
   "cell_type": "code",
   "execution_count": 29,
   "metadata": {},
   "outputs": [
    {
     "data": {
      "text/plain": [
       "array(['Краснодар', 'Москва', 'Стерлитамак', 'Новокузнецк',\n",
       "       'Набережные Челны', 'Ульяновск', 'Челябинск', 'Пермь', 'Тюмень',\n",
       "       'Самара', 'Санкт-Петербург', 'Иваново', 'Чебоксары', 'Омск', 'Уфа',\n",
       "       'Томск', 'Чита', 'Мурманск', 'Петрозаводск', 'Тверь',\n",
       "       'Екатеринбург', 'Махачкала', 'Вологда', 'Череповец', 'Ярославль',\n",
       "       'Сочи', 'Хабаровск', 'Ставрополь', 'Рязань', 'Улан-Удэ', 'Тула',\n",
       "       'Саратов', 'Ростов-на-Дону', 'Казань', 'Иркутск', 'Курск',\n",
       "       'Калуга', 'Якутск', 'Астрахань', 'Химки', 'Владикавказ',\n",
       "       'Волгоград', 'Саранск', 'Ижевск', 'Новосибирск', 'Брянск',\n",
       "       'Тольятти', 'Нижний Тагил', 'Орёл', 'Белгород', 'Воронеж',\n",
       "       'Волжский', 'Курган', 'Барнаул', 'Красноярск', 'Архангельск',\n",
       "       'Липецк', 'Кемерово', 'Киров', 'Сургут', 'Пенза', 'Магнитогорск',\n",
       "       'Нижний Новгород', 'Кострома', 'Владивосток', 'Тамбов', 'Балашиха',\n",
       "       'Севастополь', 'Калининград', 'Оренбург', 'Смоленск',\n",
       "       'Нижневартовск', 'Владимир', 'Новороссийск', 'Грозный', 'Подольск'],\n",
       "      dtype=object)"
      ]
     },
     "execution_count": 29,
     "metadata": {},
     "output_type": "execute_result"
    }
   ],
   "source": [
    "users['city'].unique()"
   ]
  },
  {
   "cell_type": "code",
   "execution_count": 30,
   "metadata": {},
   "outputs": [
    {
     "data": {
      "text/plain": [
       "0"
      ]
     },
     "execution_count": 30,
     "metadata": {},
     "output_type": "execute_result"
    }
   ],
   "source": [
    "users.duplicated().sum()"
   ]
  },
  {
   "cell_type": "markdown",
   "metadata": {},
   "source": [
    "Данные впорядке, повторов нет."
   ]
  },
  {
   "cell_type": "code",
   "execution_count": 31,
   "metadata": {
    "scrolled": true
   },
   "outputs": [
    {
     "name": "stdout",
     "output_type": "stream",
     "text": [
      "<class 'pandas.core.frame.DataFrame'>\n",
      "RangeIndex: 500 entries, 0 to 499\n",
      "Data columns (total 8 columns):\n",
      " #   Column      Non-Null Count  Dtype         \n",
      "---  ------      --------------  -----         \n",
      " 0   user_id     500 non-null    int64         \n",
      " 1   age         500 non-null    int64         \n",
      " 2   churn_date  38 non-null     object        \n",
      " 3   city        500 non-null    object        \n",
      " 4   first_name  500 non-null    object        \n",
      " 5   last_name   500 non-null    object        \n",
      " 6   reg_date    500 non-null    datetime64[ns]\n",
      " 7   tariff      500 non-null    object        \n",
      "dtypes: datetime64[ns](1), int64(2), object(5)\n",
      "memory usage: 31.4+ KB\n"
     ]
    }
   ],
   "source": [
    "users['reg_date'] = pd.to_datetime(users['reg_date'], format = '%Y-%m-%d')\n",
    "users.info()"
   ]
  },
  {
   "cell_type": "markdown",
   "metadata": {},
   "source": [
    "Все исходные данные просмотрены и проверены."
   ]
  },
  {
   "cell_type": "markdown",
   "metadata": {},
   "source": [
    "## Подготовка данных для анализа"
   ]
  },
  {
   "cell_type": "markdown",
   "metadata": {},
   "source": [
    "В рамках задачи необходимо исследовать прибыльность тарифных планов. Для этой цели анализ необходимо проводить в месячном разрезе, так как оплата и расходы тарифицируются по месяцам. Для этого сгруппируем данные по месяцам и объединим в одну таблицу data."
   ]
  },
  {
   "cell_type": "markdown",
   "metadata": {},
   "source": [
    "### Звонки"
   ]
  },
  {
   "cell_type": "markdown",
   "metadata": {},
   "source": [
    "Для начала добавим столбец с указанием месяца."
   ]
  },
  {
   "cell_type": "code",
   "execution_count": 32,
   "metadata": {},
   "outputs": [],
   "source": [
    "calls['month'] = calls['call_date'].dt.month"
   ]
  },
  {
   "cell_type": "code",
   "execution_count": 33,
   "metadata": {
    "scrolled": false
   },
   "outputs": [
    {
     "data": {
      "text/plain": [
       "0        2018-07-01\n",
       "1        2018-08-01\n",
       "2        2018-06-01\n",
       "3        2018-09-01\n",
       "4        2018-12-01\n",
       "            ...    \n",
       "202602   2018-12-01\n",
       "202603   2018-10-01\n",
       "202604   2018-11-01\n",
       "202605   2018-10-01\n",
       "202606   2018-12-01\n",
       "Name: call_date, Length: 202607, dtype: datetime64[ns]"
      ]
     },
     "execution_count": 33,
     "metadata": {},
     "output_type": "execute_result"
    }
   ],
   "source": [
    "calls['call_date'].astype('datetime64[M]')"
   ]
  },
  {
   "cell_type": "code",
   "execution_count": 34,
   "metadata": {},
   "outputs": [
    {
     "data": {
      "text/html": [
       "<div>\n",
       "<style scoped>\n",
       "    .dataframe tbody tr th:only-of-type {\n",
       "        vertical-align: middle;\n",
       "    }\n",
       "\n",
       "    .dataframe tbody tr th {\n",
       "        vertical-align: top;\n",
       "    }\n",
       "\n",
       "    .dataframe thead th {\n",
       "        text-align: right;\n",
       "    }\n",
       "</style>\n",
       "<table border=\"1\" class=\"dataframe\">\n",
       "  <thead>\n",
       "    <tr style=\"text-align: right;\">\n",
       "      <th></th>\n",
       "      <th>id</th>\n",
       "      <th>call_date</th>\n",
       "      <th>duration</th>\n",
       "      <th>user_id</th>\n",
       "      <th>month</th>\n",
       "    </tr>\n",
       "  </thead>\n",
       "  <tbody>\n",
       "    <tr>\n",
       "      <th>0</th>\n",
       "      <td>1000_0</td>\n",
       "      <td>2018-07-25</td>\n",
       "      <td>0</td>\n",
       "      <td>1000</td>\n",
       "      <td>7</td>\n",
       "    </tr>\n",
       "    <tr>\n",
       "      <th>1</th>\n",
       "      <td>1000_1</td>\n",
       "      <td>2018-08-17</td>\n",
       "      <td>0</td>\n",
       "      <td>1000</td>\n",
       "      <td>8</td>\n",
       "    </tr>\n",
       "    <tr>\n",
       "      <th>2</th>\n",
       "      <td>1000_2</td>\n",
       "      <td>2018-06-11</td>\n",
       "      <td>3</td>\n",
       "      <td>1000</td>\n",
       "      <td>6</td>\n",
       "    </tr>\n",
       "    <tr>\n",
       "      <th>3</th>\n",
       "      <td>1000_3</td>\n",
       "      <td>2018-09-21</td>\n",
       "      <td>14</td>\n",
       "      <td>1000</td>\n",
       "      <td>9</td>\n",
       "    </tr>\n",
       "    <tr>\n",
       "      <th>4</th>\n",
       "      <td>1000_4</td>\n",
       "      <td>2018-12-15</td>\n",
       "      <td>6</td>\n",
       "      <td>1000</td>\n",
       "      <td>12</td>\n",
       "    </tr>\n",
       "  </tbody>\n",
       "</table>\n",
       "</div>"
      ],
      "text/plain": [
       "       id  call_date  duration  user_id  month\n",
       "0  1000_0 2018-07-25         0     1000      7\n",
       "1  1000_1 2018-08-17         0     1000      8\n",
       "2  1000_2 2018-06-11         3     1000      6\n",
       "3  1000_3 2018-09-21        14     1000      9\n",
       "4  1000_4 2018-12-15         6     1000     12"
      ]
     },
     "execution_count": 34,
     "metadata": {},
     "output_type": "execute_result"
    }
   ],
   "source": [
    "calls.head(5)"
   ]
  },
  {
   "cell_type": "code",
   "execution_count": 35,
   "metadata": {},
   "outputs": [
    {
     "name": "stdout",
     "output_type": "stream",
     "text": [
      "<class 'pandas.core.frame.DataFrame'>\n",
      "RangeIndex: 202607 entries, 0 to 202606\n",
      "Data columns (total 5 columns):\n",
      " #   Column     Non-Null Count   Dtype         \n",
      "---  ------     --------------   -----         \n",
      " 0   id         202607 non-null  object        \n",
      " 1   call_date  202607 non-null  datetime64[ns]\n",
      " 2   duration   202607 non-null  int32         \n",
      " 3   user_id    202607 non-null  int64         \n",
      " 4   month      202607 non-null  int64         \n",
      "dtypes: datetime64[ns](1), int32(1), int64(2), object(1)\n",
      "memory usage: 7.0+ MB\n"
     ]
    }
   ],
   "source": [
    "calls.info()"
   ]
  },
  {
   "cell_type": "markdown",
   "metadata": {},
   "source": [
    "Теперь сгруппируем."
   ]
  },
  {
   "cell_type": "code",
   "execution_count": 36,
   "metadata": {},
   "outputs": [
    {
     "data": {
      "text/html": [
       "<div>\n",
       "<style scoped>\n",
       "    .dataframe tbody tr th:only-of-type {\n",
       "        vertical-align: middle;\n",
       "    }\n",
       "\n",
       "    .dataframe tbody tr th {\n",
       "        vertical-align: top;\n",
       "    }\n",
       "\n",
       "    .dataframe thead tr th {\n",
       "        text-align: left;\n",
       "    }\n",
       "</style>\n",
       "<table border=\"1\" class=\"dataframe\">\n",
       "  <thead>\n",
       "    <tr>\n",
       "      <th></th>\n",
       "      <th>user_id</th>\n",
       "      <th>month</th>\n",
       "      <th>count</th>\n",
       "      <th>sum</th>\n",
       "    </tr>\n",
       "    <tr>\n",
       "      <th></th>\n",
       "      <th></th>\n",
       "      <th></th>\n",
       "      <th>duration</th>\n",
       "      <th>duration</th>\n",
       "    </tr>\n",
       "  </thead>\n",
       "  <tbody>\n",
       "    <tr>\n",
       "      <th>0</th>\n",
       "      <td>1000</td>\n",
       "      <td>5</td>\n",
       "      <td>22</td>\n",
       "      <td>159</td>\n",
       "    </tr>\n",
       "    <tr>\n",
       "      <th>1</th>\n",
       "      <td>1000</td>\n",
       "      <td>6</td>\n",
       "      <td>43</td>\n",
       "      <td>172</td>\n",
       "    </tr>\n",
       "    <tr>\n",
       "      <th>2</th>\n",
       "      <td>1000</td>\n",
       "      <td>7</td>\n",
       "      <td>47</td>\n",
       "      <td>340</td>\n",
       "    </tr>\n",
       "    <tr>\n",
       "      <th>3</th>\n",
       "      <td>1000</td>\n",
       "      <td>8</td>\n",
       "      <td>52</td>\n",
       "      <td>408</td>\n",
       "    </tr>\n",
       "    <tr>\n",
       "      <th>4</th>\n",
       "      <td>1000</td>\n",
       "      <td>9</td>\n",
       "      <td>58</td>\n",
       "      <td>466</td>\n",
       "    </tr>\n",
       "  </tbody>\n",
       "</table>\n",
       "</div>"
      ],
      "text/plain": [
       "  user_id month    count      sum\n",
       "                duration duration\n",
       "0    1000     5       22      159\n",
       "1    1000     6       43      172\n",
       "2    1000     7       47      340\n",
       "3    1000     8       52      408\n",
       "4    1000     9       58      466"
      ]
     },
     "execution_count": 36,
     "metadata": {},
     "output_type": "execute_result"
    }
   ],
   "source": [
    "calls_grouped = calls.pivot_table(index = ['user_id', 'month'], \\\n",
    "                                  values = 'duration', aggfunc = ['count','sum']).reset_index()\n",
    "calls_grouped.head(5)"
   ]
  },
  {
   "cell_type": "markdown",
   "metadata": {},
   "source": [
    "Отлично, теперь видно какой клиент в какой месяц сколько минут говорил и сколько звонков сделал.\n",
    "Теперь заменим индекc в таблице."
   ]
  },
  {
   "cell_type": "code",
   "execution_count": 37,
   "metadata": {},
   "outputs": [
    {
     "data": {
      "text/plain": [
       "Index(['user_id', 'month', 'count_calls', 'sum_minutes'], dtype='object')"
      ]
     },
     "execution_count": 37,
     "metadata": {},
     "output_type": "execute_result"
    }
   ],
   "source": [
    "calls_grouped.columns = ['user_id', 'month', 'count_calls', 'sum_minutes']\n",
    "calls_grouped.columns"
   ]
  },
  {
   "cell_type": "code",
   "execution_count": 38,
   "metadata": {
    "scrolled": true
   },
   "outputs": [
    {
     "data": {
      "text/html": [
       "<div>\n",
       "<style scoped>\n",
       "    .dataframe tbody tr th:only-of-type {\n",
       "        vertical-align: middle;\n",
       "    }\n",
       "\n",
       "    .dataframe tbody tr th {\n",
       "        vertical-align: top;\n",
       "    }\n",
       "\n",
       "    .dataframe thead th {\n",
       "        text-align: right;\n",
       "    }\n",
       "</style>\n",
       "<table border=\"1\" class=\"dataframe\">\n",
       "  <thead>\n",
       "    <tr style=\"text-align: right;\">\n",
       "      <th></th>\n",
       "      <th>user_id</th>\n",
       "      <th>month</th>\n",
       "      <th>count_calls</th>\n",
       "      <th>sum_minutes</th>\n",
       "    </tr>\n",
       "  </thead>\n",
       "  <tbody>\n",
       "    <tr>\n",
       "      <th>0</th>\n",
       "      <td>1000</td>\n",
       "      <td>5</td>\n",
       "      <td>22</td>\n",
       "      <td>159</td>\n",
       "    </tr>\n",
       "    <tr>\n",
       "      <th>1</th>\n",
       "      <td>1000</td>\n",
       "      <td>6</td>\n",
       "      <td>43</td>\n",
       "      <td>172</td>\n",
       "    </tr>\n",
       "    <tr>\n",
       "      <th>2</th>\n",
       "      <td>1000</td>\n",
       "      <td>7</td>\n",
       "      <td>47</td>\n",
       "      <td>340</td>\n",
       "    </tr>\n",
       "    <tr>\n",
       "      <th>3</th>\n",
       "      <td>1000</td>\n",
       "      <td>8</td>\n",
       "      <td>52</td>\n",
       "      <td>408</td>\n",
       "    </tr>\n",
       "    <tr>\n",
       "      <th>4</th>\n",
       "      <td>1000</td>\n",
       "      <td>9</td>\n",
       "      <td>58</td>\n",
       "      <td>466</td>\n",
       "    </tr>\n",
       "  </tbody>\n",
       "</table>\n",
       "</div>"
      ],
      "text/plain": [
       "   user_id  month  count_calls  sum_minutes\n",
       "0     1000      5           22          159\n",
       "1     1000      6           43          172\n",
       "2     1000      7           47          340\n",
       "3     1000      8           52          408\n",
       "4     1000      9           58          466"
      ]
     },
     "execution_count": 38,
     "metadata": {},
     "output_type": "execute_result"
    }
   ],
   "source": [
    "calls_grouped.head(5)"
   ]
  },
  {
   "cell_type": "code",
   "execution_count": 39,
   "metadata": {},
   "outputs": [
    {
     "name": "stdout",
     "output_type": "stream",
     "text": [
      "<class 'pandas.core.frame.DataFrame'>\n",
      "RangeIndex: 3174 entries, 0 to 3173\n",
      "Data columns (total 4 columns):\n",
      " #   Column       Non-Null Count  Dtype\n",
      "---  ------       --------------  -----\n",
      " 0   user_id      3174 non-null   int64\n",
      " 1   month        3174 non-null   int64\n",
      " 2   count_calls  3174 non-null   int64\n",
      " 3   sum_minutes  3174 non-null   int32\n",
      "dtypes: int32(1), int64(3)\n",
      "memory usage: 86.9 KB\n"
     ]
    }
   ],
   "source": [
    "calls_grouped.info()"
   ]
  },
  {
   "cell_type": "markdown",
   "metadata": {},
   "source": [
    "### Интернет"
   ]
  },
  {
   "cell_type": "code",
   "execution_count": 40,
   "metadata": {},
   "outputs": [],
   "source": [
    "internet['month'] = internet['session_date'].dt.month"
   ]
  },
  {
   "cell_type": "code",
   "execution_count": 41,
   "metadata": {},
   "outputs": [
    {
     "data": {
      "text/html": [
       "<div>\n",
       "<style scoped>\n",
       "    .dataframe tbody tr th:only-of-type {\n",
       "        vertical-align: middle;\n",
       "    }\n",
       "\n",
       "    .dataframe tbody tr th {\n",
       "        vertical-align: top;\n",
       "    }\n",
       "\n",
       "    .dataframe thead th {\n",
       "        text-align: right;\n",
       "    }\n",
       "</style>\n",
       "<table border=\"1\" class=\"dataframe\">\n",
       "  <thead>\n",
       "    <tr style=\"text-align: right;\">\n",
       "      <th></th>\n",
       "      <th>id</th>\n",
       "      <th>mb_used</th>\n",
       "      <th>session_date</th>\n",
       "      <th>user_id</th>\n",
       "      <th>month</th>\n",
       "    </tr>\n",
       "  </thead>\n",
       "  <tbody>\n",
       "    <tr>\n",
       "      <th>0</th>\n",
       "      <td>1000_0</td>\n",
       "      <td>113</td>\n",
       "      <td>2018-11-25</td>\n",
       "      <td>1000</td>\n",
       "      <td>11</td>\n",
       "    </tr>\n",
       "    <tr>\n",
       "      <th>1</th>\n",
       "      <td>1000_1</td>\n",
       "      <td>1053</td>\n",
       "      <td>2018-09-07</td>\n",
       "      <td>1000</td>\n",
       "      <td>9</td>\n",
       "    </tr>\n",
       "    <tr>\n",
       "      <th>2</th>\n",
       "      <td>1000_2</td>\n",
       "      <td>1198</td>\n",
       "      <td>2018-06-25</td>\n",
       "      <td>1000</td>\n",
       "      <td>6</td>\n",
       "    </tr>\n",
       "    <tr>\n",
       "      <th>3</th>\n",
       "      <td>1000_3</td>\n",
       "      <td>551</td>\n",
       "      <td>2018-08-22</td>\n",
       "      <td>1000</td>\n",
       "      <td>8</td>\n",
       "    </tr>\n",
       "    <tr>\n",
       "      <th>4</th>\n",
       "      <td>1000_4</td>\n",
       "      <td>303</td>\n",
       "      <td>2018-09-24</td>\n",
       "      <td>1000</td>\n",
       "      <td>9</td>\n",
       "    </tr>\n",
       "  </tbody>\n",
       "</table>\n",
       "</div>"
      ],
      "text/plain": [
       "       id  mb_used session_date  user_id  month\n",
       "0  1000_0      113   2018-11-25     1000     11\n",
       "1  1000_1     1053   2018-09-07     1000      9\n",
       "2  1000_2     1198   2018-06-25     1000      6\n",
       "3  1000_3      551   2018-08-22     1000      8\n",
       "4  1000_4      303   2018-09-24     1000      9"
      ]
     },
     "execution_count": 41,
     "metadata": {},
     "output_type": "execute_result"
    }
   ],
   "source": [
    "internet.head(5)"
   ]
  },
  {
   "cell_type": "markdown",
   "metadata": {},
   "source": [
    "Теперь сгруппируем."
   ]
  },
  {
   "cell_type": "code",
   "execution_count": 42,
   "metadata": {},
   "outputs": [
    {
     "data": {
      "text/html": [
       "<div>\n",
       "<style scoped>\n",
       "    .dataframe tbody tr th:only-of-type {\n",
       "        vertical-align: middle;\n",
       "    }\n",
       "\n",
       "    .dataframe tbody tr th {\n",
       "        vertical-align: top;\n",
       "    }\n",
       "\n",
       "    .dataframe thead tr th {\n",
       "        text-align: left;\n",
       "    }\n",
       "</style>\n",
       "<table border=\"1\" class=\"dataframe\">\n",
       "  <thead>\n",
       "    <tr>\n",
       "      <th></th>\n",
       "      <th>user_id</th>\n",
       "      <th>month</th>\n",
       "      <th>count</th>\n",
       "      <th>sum</th>\n",
       "    </tr>\n",
       "    <tr>\n",
       "      <th></th>\n",
       "      <th></th>\n",
       "      <th></th>\n",
       "      <th>mb_used</th>\n",
       "      <th>mb_used</th>\n",
       "    </tr>\n",
       "  </thead>\n",
       "  <tbody>\n",
       "    <tr>\n",
       "      <th>0</th>\n",
       "      <td>1000</td>\n",
       "      <td>5</td>\n",
       "      <td>5</td>\n",
       "      <td>2256</td>\n",
       "    </tr>\n",
       "    <tr>\n",
       "      <th>1</th>\n",
       "      <td>1000</td>\n",
       "      <td>6</td>\n",
       "      <td>49</td>\n",
       "      <td>23257</td>\n",
       "    </tr>\n",
       "    <tr>\n",
       "      <th>2</th>\n",
       "      <td>1000</td>\n",
       "      <td>7</td>\n",
       "      <td>29</td>\n",
       "      <td>14016</td>\n",
       "    </tr>\n",
       "    <tr>\n",
       "      <th>3</th>\n",
       "      <td>1000</td>\n",
       "      <td>8</td>\n",
       "      <td>29</td>\n",
       "      <td>14070</td>\n",
       "    </tr>\n",
       "    <tr>\n",
       "      <th>4</th>\n",
       "      <td>1000</td>\n",
       "      <td>9</td>\n",
       "      <td>27</td>\n",
       "      <td>14581</td>\n",
       "    </tr>\n",
       "  </tbody>\n",
       "</table>\n",
       "</div>"
      ],
      "text/plain": [
       "  user_id month   count     sum\n",
       "                mb_used mb_used\n",
       "0    1000     5       5    2256\n",
       "1    1000     6      49   23257\n",
       "2    1000     7      29   14016\n",
       "3    1000     8      29   14070\n",
       "4    1000     9      27   14581"
      ]
     },
     "execution_count": 42,
     "metadata": {},
     "output_type": "execute_result"
    }
   ],
   "source": [
    "internet_grouped = internet.pivot_table(index = ['user_id', 'month'], values = 'mb_used', aggfunc = ['count','sum']).reset_index()\n",
    "internet_grouped.head(5)"
   ]
  },
  {
   "cell_type": "markdown",
   "metadata": {},
   "source": [
    "Отлично, теперь видно какой клиент в какой месяц сколько и в каком объеме пользовался интернетом.\n",
    "Теперь заменим индекc в таблице."
   ]
  },
  {
   "cell_type": "code",
   "execution_count": 43,
   "metadata": {},
   "outputs": [
    {
     "data": {
      "text/plain": [
       "Index(['user_id', 'month', 'count_internet', 'sum_mb'], dtype='object')"
      ]
     },
     "execution_count": 43,
     "metadata": {},
     "output_type": "execute_result"
    }
   ],
   "source": [
    "internet_grouped.columns = ['user_id', 'month', 'count_internet', 'sum_mb']\n",
    "internet_grouped.columns"
   ]
  },
  {
   "cell_type": "code",
   "execution_count": 44,
   "metadata": {
    "scrolled": false
   },
   "outputs": [
    {
     "data": {
      "text/html": [
       "<div>\n",
       "<style scoped>\n",
       "    .dataframe tbody tr th:only-of-type {\n",
       "        vertical-align: middle;\n",
       "    }\n",
       "\n",
       "    .dataframe tbody tr th {\n",
       "        vertical-align: top;\n",
       "    }\n",
       "\n",
       "    .dataframe thead th {\n",
       "        text-align: right;\n",
       "    }\n",
       "</style>\n",
       "<table border=\"1\" class=\"dataframe\">\n",
       "  <thead>\n",
       "    <tr style=\"text-align: right;\">\n",
       "      <th></th>\n",
       "      <th>user_id</th>\n",
       "      <th>month</th>\n",
       "      <th>count_internet</th>\n",
       "      <th>sum_mb</th>\n",
       "    </tr>\n",
       "  </thead>\n",
       "  <tbody>\n",
       "    <tr>\n",
       "      <th>0</th>\n",
       "      <td>1000</td>\n",
       "      <td>5</td>\n",
       "      <td>5</td>\n",
       "      <td>2256</td>\n",
       "    </tr>\n",
       "    <tr>\n",
       "      <th>1</th>\n",
       "      <td>1000</td>\n",
       "      <td>6</td>\n",
       "      <td>49</td>\n",
       "      <td>23257</td>\n",
       "    </tr>\n",
       "    <tr>\n",
       "      <th>2</th>\n",
       "      <td>1000</td>\n",
       "      <td>7</td>\n",
       "      <td>29</td>\n",
       "      <td>14016</td>\n",
       "    </tr>\n",
       "    <tr>\n",
       "      <th>3</th>\n",
       "      <td>1000</td>\n",
       "      <td>8</td>\n",
       "      <td>29</td>\n",
       "      <td>14070</td>\n",
       "    </tr>\n",
       "    <tr>\n",
       "      <th>4</th>\n",
       "      <td>1000</td>\n",
       "      <td>9</td>\n",
       "      <td>27</td>\n",
       "      <td>14581</td>\n",
       "    </tr>\n",
       "  </tbody>\n",
       "</table>\n",
       "</div>"
      ],
      "text/plain": [
       "   user_id  month  count_internet  sum_mb\n",
       "0     1000      5               5    2256\n",
       "1     1000      6              49   23257\n",
       "2     1000      7              29   14016\n",
       "3     1000      8              29   14070\n",
       "4     1000      9              27   14581"
      ]
     },
     "execution_count": 44,
     "metadata": {},
     "output_type": "execute_result"
    }
   ],
   "source": [
    "internet_grouped.head(5)"
   ]
  },
  {
   "cell_type": "code",
   "execution_count": 45,
   "metadata": {},
   "outputs": [
    {
     "name": "stdout",
     "output_type": "stream",
     "text": [
      "<class 'pandas.core.frame.DataFrame'>\n",
      "RangeIndex: 3203 entries, 0 to 3202\n",
      "Data columns (total 4 columns):\n",
      " #   Column          Non-Null Count  Dtype\n",
      "---  ------          --------------  -----\n",
      " 0   user_id         3203 non-null   int64\n",
      " 1   month           3203 non-null   int64\n",
      " 2   count_internet  3203 non-null   int64\n",
      " 3   sum_mb          3203 non-null   int32\n",
      "dtypes: int32(1), int64(3)\n",
      "memory usage: 87.7 KB\n"
     ]
    }
   ],
   "source": [
    "internet_grouped.info()"
   ]
  },
  {
   "cell_type": "markdown",
   "metadata": {},
   "source": [
    "### Сообщения"
   ]
  },
  {
   "cell_type": "code",
   "execution_count": 46,
   "metadata": {},
   "outputs": [],
   "source": [
    "messages['month'] = messages['message_date'].dt.month"
   ]
  },
  {
   "cell_type": "code",
   "execution_count": 47,
   "metadata": {},
   "outputs": [
    {
     "data": {
      "text/html": [
       "<div>\n",
       "<style scoped>\n",
       "    .dataframe tbody tr th:only-of-type {\n",
       "        vertical-align: middle;\n",
       "    }\n",
       "\n",
       "    .dataframe tbody tr th {\n",
       "        vertical-align: top;\n",
       "    }\n",
       "\n",
       "    .dataframe thead th {\n",
       "        text-align: right;\n",
       "    }\n",
       "</style>\n",
       "<table border=\"1\" class=\"dataframe\">\n",
       "  <thead>\n",
       "    <tr style=\"text-align: right;\">\n",
       "      <th></th>\n",
       "      <th>id</th>\n",
       "      <th>message_date</th>\n",
       "      <th>user_id</th>\n",
       "      <th>month</th>\n",
       "    </tr>\n",
       "  </thead>\n",
       "  <tbody>\n",
       "    <tr>\n",
       "      <th>0</th>\n",
       "      <td>1000_0</td>\n",
       "      <td>2018-06-27</td>\n",
       "      <td>1000</td>\n",
       "      <td>6</td>\n",
       "    </tr>\n",
       "    <tr>\n",
       "      <th>1</th>\n",
       "      <td>1000_1</td>\n",
       "      <td>2018-10-08</td>\n",
       "      <td>1000</td>\n",
       "      <td>10</td>\n",
       "    </tr>\n",
       "    <tr>\n",
       "      <th>2</th>\n",
       "      <td>1000_2</td>\n",
       "      <td>2018-08-04</td>\n",
       "      <td>1000</td>\n",
       "      <td>8</td>\n",
       "    </tr>\n",
       "    <tr>\n",
       "      <th>3</th>\n",
       "      <td>1000_3</td>\n",
       "      <td>2018-06-16</td>\n",
       "      <td>1000</td>\n",
       "      <td>6</td>\n",
       "    </tr>\n",
       "    <tr>\n",
       "      <th>4</th>\n",
       "      <td>1000_4</td>\n",
       "      <td>2018-12-05</td>\n",
       "      <td>1000</td>\n",
       "      <td>12</td>\n",
       "    </tr>\n",
       "  </tbody>\n",
       "</table>\n",
       "</div>"
      ],
      "text/plain": [
       "       id message_date  user_id  month\n",
       "0  1000_0   2018-06-27     1000      6\n",
       "1  1000_1   2018-10-08     1000     10\n",
       "2  1000_2   2018-08-04     1000      8\n",
       "3  1000_3   2018-06-16     1000      6\n",
       "4  1000_4   2018-12-05     1000     12"
      ]
     },
     "execution_count": 47,
     "metadata": {},
     "output_type": "execute_result"
    }
   ],
   "source": [
    "messages.head(5)"
   ]
  },
  {
   "cell_type": "markdown",
   "metadata": {},
   "source": [
    "Теперь сгруппируем."
   ]
  },
  {
   "cell_type": "code",
   "execution_count": 48,
   "metadata": {},
   "outputs": [
    {
     "data": {
      "text/html": [
       "<div>\n",
       "<style scoped>\n",
       "    .dataframe tbody tr th:only-of-type {\n",
       "        vertical-align: middle;\n",
       "    }\n",
       "\n",
       "    .dataframe tbody tr th {\n",
       "        vertical-align: top;\n",
       "    }\n",
       "\n",
       "    .dataframe thead th {\n",
       "        text-align: right;\n",
       "    }\n",
       "</style>\n",
       "<table border=\"1\" class=\"dataframe\">\n",
       "  <thead>\n",
       "    <tr style=\"text-align: right;\">\n",
       "      <th></th>\n",
       "      <th>user_id</th>\n",
       "      <th>month</th>\n",
       "      <th>id</th>\n",
       "    </tr>\n",
       "  </thead>\n",
       "  <tbody>\n",
       "    <tr>\n",
       "      <th>0</th>\n",
       "      <td>1000</td>\n",
       "      <td>5</td>\n",
       "      <td>22</td>\n",
       "    </tr>\n",
       "    <tr>\n",
       "      <th>1</th>\n",
       "      <td>1000</td>\n",
       "      <td>6</td>\n",
       "      <td>60</td>\n",
       "    </tr>\n",
       "    <tr>\n",
       "      <th>2</th>\n",
       "      <td>1000</td>\n",
       "      <td>7</td>\n",
       "      <td>75</td>\n",
       "    </tr>\n",
       "    <tr>\n",
       "      <th>3</th>\n",
       "      <td>1000</td>\n",
       "      <td>8</td>\n",
       "      <td>81</td>\n",
       "    </tr>\n",
       "    <tr>\n",
       "      <th>4</th>\n",
       "      <td>1000</td>\n",
       "      <td>9</td>\n",
       "      <td>57</td>\n",
       "    </tr>\n",
       "  </tbody>\n",
       "</table>\n",
       "</div>"
      ],
      "text/plain": [
       "   user_id  month  id\n",
       "0     1000      5  22\n",
       "1     1000      6  60\n",
       "2     1000      7  75\n",
       "3     1000      8  81\n",
       "4     1000      9  57"
      ]
     },
     "execution_count": 48,
     "metadata": {},
     "output_type": "execute_result"
    }
   ],
   "source": [
    "messages_grouped = messages.pivot_table(index = ['user_id', 'month'], values = 'id', aggfunc = 'count').reset_index()\n",
    "messages_grouped.head(5)"
   ]
  },
  {
   "cell_type": "markdown",
   "metadata": {},
   "source": [
    "Отлично, теперь видно какой клиент в какой месяц сколько направил смс.\n",
    "Теперь заменим индекc в таблице."
   ]
  },
  {
   "cell_type": "code",
   "execution_count": 49,
   "metadata": {},
   "outputs": [
    {
     "data": {
      "text/plain": [
       "Index(['user_id', 'month', 'count_messages'], dtype='object')"
      ]
     },
     "execution_count": 49,
     "metadata": {},
     "output_type": "execute_result"
    }
   ],
   "source": [
    "messages_grouped.columns = ['user_id', 'month', 'count_messages']\n",
    "messages_grouped.columns"
   ]
  },
  {
   "cell_type": "code",
   "execution_count": 50,
   "metadata": {
    "scrolled": false
   },
   "outputs": [
    {
     "data": {
      "text/html": [
       "<div>\n",
       "<style scoped>\n",
       "    .dataframe tbody tr th:only-of-type {\n",
       "        vertical-align: middle;\n",
       "    }\n",
       "\n",
       "    .dataframe tbody tr th {\n",
       "        vertical-align: top;\n",
       "    }\n",
       "\n",
       "    .dataframe thead th {\n",
       "        text-align: right;\n",
       "    }\n",
       "</style>\n",
       "<table border=\"1\" class=\"dataframe\">\n",
       "  <thead>\n",
       "    <tr style=\"text-align: right;\">\n",
       "      <th></th>\n",
       "      <th>user_id</th>\n",
       "      <th>month</th>\n",
       "      <th>count_messages</th>\n",
       "    </tr>\n",
       "  </thead>\n",
       "  <tbody>\n",
       "    <tr>\n",
       "      <th>0</th>\n",
       "      <td>1000</td>\n",
       "      <td>5</td>\n",
       "      <td>22</td>\n",
       "    </tr>\n",
       "    <tr>\n",
       "      <th>1</th>\n",
       "      <td>1000</td>\n",
       "      <td>6</td>\n",
       "      <td>60</td>\n",
       "    </tr>\n",
       "    <tr>\n",
       "      <th>2</th>\n",
       "      <td>1000</td>\n",
       "      <td>7</td>\n",
       "      <td>75</td>\n",
       "    </tr>\n",
       "    <tr>\n",
       "      <th>3</th>\n",
       "      <td>1000</td>\n",
       "      <td>8</td>\n",
       "      <td>81</td>\n",
       "    </tr>\n",
       "    <tr>\n",
       "      <th>4</th>\n",
       "      <td>1000</td>\n",
       "      <td>9</td>\n",
       "      <td>57</td>\n",
       "    </tr>\n",
       "  </tbody>\n",
       "</table>\n",
       "</div>"
      ],
      "text/plain": [
       "   user_id  month  count_messages\n",
       "0     1000      5              22\n",
       "1     1000      6              60\n",
       "2     1000      7              75\n",
       "3     1000      8              81\n",
       "4     1000      9              57"
      ]
     },
     "execution_count": 50,
     "metadata": {},
     "output_type": "execute_result"
    }
   ],
   "source": [
    "messages_grouped.head(5)"
   ]
  },
  {
   "cell_type": "code",
   "execution_count": 51,
   "metadata": {},
   "outputs": [
    {
     "name": "stdout",
     "output_type": "stream",
     "text": [
      "<class 'pandas.core.frame.DataFrame'>\n",
      "RangeIndex: 2717 entries, 0 to 2716\n",
      "Data columns (total 3 columns):\n",
      " #   Column          Non-Null Count  Dtype\n",
      "---  ------          --------------  -----\n",
      " 0   user_id         2717 non-null   int64\n",
      " 1   month           2717 non-null   int64\n",
      " 2   count_messages  2717 non-null   int64\n",
      "dtypes: int64(3)\n",
      "memory usage: 63.8 KB\n"
     ]
    }
   ],
   "source": [
    "messages_grouped.info()"
   ]
  },
  {
   "cell_type": "markdown",
   "metadata": {},
   "source": [
    "### Объединение данных"
   ]
  },
  {
   "cell_type": "markdown",
   "metadata": {},
   "source": [
    "Для подсчета финансовых показателей затрат клиентов необходимо объединить таблицы."
   ]
  },
  {
   "cell_type": "markdown",
   "metadata": {},
   "source": [
    "1 шаг - Звонки и Интернет"
   ]
  },
  {
   "cell_type": "code",
   "execution_count": 52,
   "metadata": {},
   "outputs": [],
   "source": [
    "m1 = calls_grouped.merge(internet_grouped, on= ['user_id','month'], how='outer')"
   ]
  },
  {
   "cell_type": "markdown",
   "metadata": {},
   "source": [
    "2 шаг - Звонки и Сообщения"
   ]
  },
  {
   "cell_type": "code",
   "execution_count": 53,
   "metadata": {},
   "outputs": [],
   "source": [
    "m2 = m1.merge(messages_grouped, on= ['user_id','month'], how='outer')"
   ]
  },
  {
   "cell_type": "code",
   "execution_count": 54,
   "metadata": {},
   "outputs": [
    {
     "data": {
      "text/html": [
       "<div>\n",
       "<style scoped>\n",
       "    .dataframe tbody tr th:only-of-type {\n",
       "        vertical-align: middle;\n",
       "    }\n",
       "\n",
       "    .dataframe tbody tr th {\n",
       "        vertical-align: top;\n",
       "    }\n",
       "\n",
       "    .dataframe thead th {\n",
       "        text-align: right;\n",
       "    }\n",
       "</style>\n",
       "<table border=\"1\" class=\"dataframe\">\n",
       "  <thead>\n",
       "    <tr style=\"text-align: right;\">\n",
       "      <th></th>\n",
       "      <th>user_id</th>\n",
       "      <th>month</th>\n",
       "      <th>count_calls</th>\n",
       "      <th>sum_minutes</th>\n",
       "      <th>count_internet</th>\n",
       "      <th>sum_mb</th>\n",
       "      <th>count_messages</th>\n",
       "    </tr>\n",
       "  </thead>\n",
       "  <tbody>\n",
       "    <tr>\n",
       "      <th>0</th>\n",
       "      <td>1000</td>\n",
       "      <td>5</td>\n",
       "      <td>22.0</td>\n",
       "      <td>159.0</td>\n",
       "      <td>5.0</td>\n",
       "      <td>2256.0</td>\n",
       "      <td>22.0</td>\n",
       "    </tr>\n",
       "    <tr>\n",
       "      <th>1</th>\n",
       "      <td>1000</td>\n",
       "      <td>6</td>\n",
       "      <td>43.0</td>\n",
       "      <td>172.0</td>\n",
       "      <td>49.0</td>\n",
       "      <td>23257.0</td>\n",
       "      <td>60.0</td>\n",
       "    </tr>\n",
       "    <tr>\n",
       "      <th>2</th>\n",
       "      <td>1000</td>\n",
       "      <td>7</td>\n",
       "      <td>47.0</td>\n",
       "      <td>340.0</td>\n",
       "      <td>29.0</td>\n",
       "      <td>14016.0</td>\n",
       "      <td>75.0</td>\n",
       "    </tr>\n",
       "    <tr>\n",
       "      <th>3</th>\n",
       "      <td>1000</td>\n",
       "      <td>8</td>\n",
       "      <td>52.0</td>\n",
       "      <td>408.0</td>\n",
       "      <td>29.0</td>\n",
       "      <td>14070.0</td>\n",
       "      <td>81.0</td>\n",
       "    </tr>\n",
       "    <tr>\n",
       "      <th>4</th>\n",
       "      <td>1000</td>\n",
       "      <td>9</td>\n",
       "      <td>58.0</td>\n",
       "      <td>466.0</td>\n",
       "      <td>27.0</td>\n",
       "      <td>14581.0</td>\n",
       "      <td>57.0</td>\n",
       "    </tr>\n",
       "  </tbody>\n",
       "</table>\n",
       "</div>"
      ],
      "text/plain": [
       "   user_id  month  count_calls  sum_minutes  count_internet   sum_mb  \\\n",
       "0     1000      5         22.0        159.0             5.0   2256.0   \n",
       "1     1000      6         43.0        172.0            49.0  23257.0   \n",
       "2     1000      7         47.0        340.0            29.0  14016.0   \n",
       "3     1000      8         52.0        408.0            29.0  14070.0   \n",
       "4     1000      9         58.0        466.0            27.0  14581.0   \n",
       "\n",
       "   count_messages  \n",
       "0            22.0  \n",
       "1            60.0  \n",
       "2            75.0  \n",
       "3            81.0  \n",
       "4            57.0  "
      ]
     },
     "execution_count": 54,
     "metadata": {},
     "output_type": "execute_result"
    }
   ],
   "source": [
    "m2.head(5)"
   ]
  },
  {
   "cell_type": "code",
   "execution_count": 55,
   "metadata": {},
   "outputs": [
    {
     "name": "stdout",
     "output_type": "stream",
     "text": [
      "<class 'pandas.core.frame.DataFrame'>\n",
      "Int64Index: 3214 entries, 0 to 3213\n",
      "Data columns (total 7 columns):\n",
      " #   Column          Non-Null Count  Dtype  \n",
      "---  ------          --------------  -----  \n",
      " 0   user_id         3214 non-null   int64  \n",
      " 1   month           3214 non-null   int64  \n",
      " 2   count_calls     3174 non-null   float64\n",
      " 3   sum_minutes     3174 non-null   float64\n",
      " 4   count_internet  3203 non-null   float64\n",
      " 5   sum_mb          3203 non-null   float64\n",
      " 6   count_messages  2717 non-null   float64\n",
      "dtypes: float64(5), int64(2)\n",
      "memory usage: 200.9 KB\n"
     ]
    }
   ],
   "source": [
    "m2.info()"
   ]
  },
  {
   "cell_type": "markdown",
   "metadata": {},
   "source": [
    "Отлично. Теперь подключим к новой таблице персональные данные."
   ]
  },
  {
   "cell_type": "code",
   "execution_count": 56,
   "metadata": {
    "scrolled": true
   },
   "outputs": [
    {
     "data": {
      "text/html": [
       "<div>\n",
       "<style scoped>\n",
       "    .dataframe tbody tr th:only-of-type {\n",
       "        vertical-align: middle;\n",
       "    }\n",
       "\n",
       "    .dataframe tbody tr th {\n",
       "        vertical-align: top;\n",
       "    }\n",
       "\n",
       "    .dataframe thead th {\n",
       "        text-align: right;\n",
       "    }\n",
       "</style>\n",
       "<table border=\"1\" class=\"dataframe\">\n",
       "  <thead>\n",
       "    <tr style=\"text-align: right;\">\n",
       "      <th></th>\n",
       "      <th>user_id</th>\n",
       "      <th>month</th>\n",
       "      <th>count_calls</th>\n",
       "      <th>sum_minutes</th>\n",
       "      <th>count_internet</th>\n",
       "      <th>sum_mb</th>\n",
       "      <th>count_messages</th>\n",
       "      <th>age</th>\n",
       "      <th>churn_date</th>\n",
       "      <th>city</th>\n",
       "      <th>first_name</th>\n",
       "      <th>last_name</th>\n",
       "      <th>reg_date</th>\n",
       "      <th>tariff</th>\n",
       "    </tr>\n",
       "  </thead>\n",
       "  <tbody>\n",
       "    <tr>\n",
       "      <th>0</th>\n",
       "      <td>1000</td>\n",
       "      <td>5.0</td>\n",
       "      <td>22.0</td>\n",
       "      <td>159.0</td>\n",
       "      <td>5.0</td>\n",
       "      <td>2256.0</td>\n",
       "      <td>22.0</td>\n",
       "      <td>52</td>\n",
       "      <td>NaN</td>\n",
       "      <td>Краснодар</td>\n",
       "      <td>Рафаил</td>\n",
       "      <td>Верещагин</td>\n",
       "      <td>2018-05-25</td>\n",
       "      <td>ultra</td>\n",
       "    </tr>\n",
       "    <tr>\n",
       "      <th>1</th>\n",
       "      <td>1000</td>\n",
       "      <td>6.0</td>\n",
       "      <td>43.0</td>\n",
       "      <td>172.0</td>\n",
       "      <td>49.0</td>\n",
       "      <td>23257.0</td>\n",
       "      <td>60.0</td>\n",
       "      <td>52</td>\n",
       "      <td>NaN</td>\n",
       "      <td>Краснодар</td>\n",
       "      <td>Рафаил</td>\n",
       "      <td>Верещагин</td>\n",
       "      <td>2018-05-25</td>\n",
       "      <td>ultra</td>\n",
       "    </tr>\n",
       "    <tr>\n",
       "      <th>2</th>\n",
       "      <td>1000</td>\n",
       "      <td>7.0</td>\n",
       "      <td>47.0</td>\n",
       "      <td>340.0</td>\n",
       "      <td>29.0</td>\n",
       "      <td>14016.0</td>\n",
       "      <td>75.0</td>\n",
       "      <td>52</td>\n",
       "      <td>NaN</td>\n",
       "      <td>Краснодар</td>\n",
       "      <td>Рафаил</td>\n",
       "      <td>Верещагин</td>\n",
       "      <td>2018-05-25</td>\n",
       "      <td>ultra</td>\n",
       "    </tr>\n",
       "    <tr>\n",
       "      <th>3</th>\n",
       "      <td>1000</td>\n",
       "      <td>8.0</td>\n",
       "      <td>52.0</td>\n",
       "      <td>408.0</td>\n",
       "      <td>29.0</td>\n",
       "      <td>14070.0</td>\n",
       "      <td>81.0</td>\n",
       "      <td>52</td>\n",
       "      <td>NaN</td>\n",
       "      <td>Краснодар</td>\n",
       "      <td>Рафаил</td>\n",
       "      <td>Верещагин</td>\n",
       "      <td>2018-05-25</td>\n",
       "      <td>ultra</td>\n",
       "    </tr>\n",
       "    <tr>\n",
       "      <th>4</th>\n",
       "      <td>1000</td>\n",
       "      <td>9.0</td>\n",
       "      <td>58.0</td>\n",
       "      <td>466.0</td>\n",
       "      <td>27.0</td>\n",
       "      <td>14581.0</td>\n",
       "      <td>57.0</td>\n",
       "      <td>52</td>\n",
       "      <td>NaN</td>\n",
       "      <td>Краснодар</td>\n",
       "      <td>Рафаил</td>\n",
       "      <td>Верещагин</td>\n",
       "      <td>2018-05-25</td>\n",
       "      <td>ultra</td>\n",
       "    </tr>\n",
       "    <tr>\n",
       "      <th>5</th>\n",
       "      <td>1000</td>\n",
       "      <td>10.0</td>\n",
       "      <td>57.0</td>\n",
       "      <td>350.0</td>\n",
       "      <td>27.0</td>\n",
       "      <td>14717.0</td>\n",
       "      <td>73.0</td>\n",
       "      <td>52</td>\n",
       "      <td>NaN</td>\n",
       "      <td>Краснодар</td>\n",
       "      <td>Рафаил</td>\n",
       "      <td>Верещагин</td>\n",
       "      <td>2018-05-25</td>\n",
       "      <td>ultra</td>\n",
       "    </tr>\n",
       "    <tr>\n",
       "      <th>6</th>\n",
       "      <td>1000</td>\n",
       "      <td>11.0</td>\n",
       "      <td>43.0</td>\n",
       "      <td>338.0</td>\n",
       "      <td>24.0</td>\n",
       "      <td>14768.0</td>\n",
       "      <td>58.0</td>\n",
       "      <td>52</td>\n",
       "      <td>NaN</td>\n",
       "      <td>Краснодар</td>\n",
       "      <td>Рафаил</td>\n",
       "      <td>Верещагин</td>\n",
       "      <td>2018-05-25</td>\n",
       "      <td>ultra</td>\n",
       "    </tr>\n",
       "    <tr>\n",
       "      <th>7</th>\n",
       "      <td>1000</td>\n",
       "      <td>12.0</td>\n",
       "      <td>46.0</td>\n",
       "      <td>333.0</td>\n",
       "      <td>21.0</td>\n",
       "      <td>9827.0</td>\n",
       "      <td>70.0</td>\n",
       "      <td>52</td>\n",
       "      <td>NaN</td>\n",
       "      <td>Краснодар</td>\n",
       "      <td>Рафаил</td>\n",
       "      <td>Верещагин</td>\n",
       "      <td>2018-05-25</td>\n",
       "      <td>ultra</td>\n",
       "    </tr>\n",
       "    <tr>\n",
       "      <th>8</th>\n",
       "      <td>1001</td>\n",
       "      <td>11.0</td>\n",
       "      <td>59.0</td>\n",
       "      <td>430.0</td>\n",
       "      <td>55.0</td>\n",
       "      <td>18452.0</td>\n",
       "      <td>NaN</td>\n",
       "      <td>41</td>\n",
       "      <td>NaN</td>\n",
       "      <td>Москва</td>\n",
       "      <td>Иван</td>\n",
       "      <td>Ежов</td>\n",
       "      <td>2018-11-01</td>\n",
       "      <td>smart</td>\n",
       "    </tr>\n",
       "    <tr>\n",
       "      <th>9</th>\n",
       "      <td>1001</td>\n",
       "      <td>12.0</td>\n",
       "      <td>63.0</td>\n",
       "      <td>414.0</td>\n",
       "      <td>41.0</td>\n",
       "      <td>14053.0</td>\n",
       "      <td>NaN</td>\n",
       "      <td>41</td>\n",
       "      <td>NaN</td>\n",
       "      <td>Москва</td>\n",
       "      <td>Иван</td>\n",
       "      <td>Ежов</td>\n",
       "      <td>2018-11-01</td>\n",
       "      <td>smart</td>\n",
       "    </tr>\n",
       "    <tr>\n",
       "      <th>10</th>\n",
       "      <td>1002</td>\n",
       "      <td>6.0</td>\n",
       "      <td>15.0</td>\n",
       "      <td>117.0</td>\n",
       "      <td>34.0</td>\n",
       "      <td>10871.0</td>\n",
       "      <td>4.0</td>\n",
       "      <td>59</td>\n",
       "      <td>NaN</td>\n",
       "      <td>Стерлитамак</td>\n",
       "      <td>Евгений</td>\n",
       "      <td>Абрамович</td>\n",
       "      <td>2018-06-17</td>\n",
       "      <td>smart</td>\n",
       "    </tr>\n",
       "    <tr>\n",
       "      <th>11</th>\n",
       "      <td>1002</td>\n",
       "      <td>7.0</td>\n",
       "      <td>26.0</td>\n",
       "      <td>214.0</td>\n",
       "      <td>58.0</td>\n",
       "      <td>17601.0</td>\n",
       "      <td>11.0</td>\n",
       "      <td>59</td>\n",
       "      <td>NaN</td>\n",
       "      <td>Стерлитамак</td>\n",
       "      <td>Евгений</td>\n",
       "      <td>Абрамович</td>\n",
       "      <td>2018-06-17</td>\n",
       "      <td>smart</td>\n",
       "    </tr>\n",
       "    <tr>\n",
       "      <th>12</th>\n",
       "      <td>1002</td>\n",
       "      <td>8.0</td>\n",
       "      <td>42.0</td>\n",
       "      <td>289.0</td>\n",
       "      <td>60.0</td>\n",
       "      <td>20347.0</td>\n",
       "      <td>13.0</td>\n",
       "      <td>59</td>\n",
       "      <td>NaN</td>\n",
       "      <td>Стерлитамак</td>\n",
       "      <td>Евгений</td>\n",
       "      <td>Абрамович</td>\n",
       "      <td>2018-06-17</td>\n",
       "      <td>smart</td>\n",
       "    </tr>\n",
       "    <tr>\n",
       "      <th>13</th>\n",
       "      <td>1002</td>\n",
       "      <td>9.0</td>\n",
       "      <td>36.0</td>\n",
       "      <td>206.0</td>\n",
       "      <td>56.0</td>\n",
       "      <td>16712.0</td>\n",
       "      <td>4.0</td>\n",
       "      <td>59</td>\n",
       "      <td>NaN</td>\n",
       "      <td>Стерлитамак</td>\n",
       "      <td>Евгений</td>\n",
       "      <td>Абрамович</td>\n",
       "      <td>2018-06-17</td>\n",
       "      <td>smart</td>\n",
       "    </tr>\n",
       "    <tr>\n",
       "      <th>14</th>\n",
       "      <td>1002</td>\n",
       "      <td>10.0</td>\n",
       "      <td>33.0</td>\n",
       "      <td>212.0</td>\n",
       "      <td>44.0</td>\n",
       "      <td>13905.0</td>\n",
       "      <td>10.0</td>\n",
       "      <td>59</td>\n",
       "      <td>NaN</td>\n",
       "      <td>Стерлитамак</td>\n",
       "      <td>Евгений</td>\n",
       "      <td>Абрамович</td>\n",
       "      <td>2018-06-17</td>\n",
       "      <td>smart</td>\n",
       "    </tr>\n",
       "  </tbody>\n",
       "</table>\n",
       "</div>"
      ],
      "text/plain": [
       "    user_id  month  count_calls  sum_minutes  count_internet   sum_mb  \\\n",
       "0      1000    5.0         22.0        159.0             5.0   2256.0   \n",
       "1      1000    6.0         43.0        172.0            49.0  23257.0   \n",
       "2      1000    7.0         47.0        340.0            29.0  14016.0   \n",
       "3      1000    8.0         52.0        408.0            29.0  14070.0   \n",
       "4      1000    9.0         58.0        466.0            27.0  14581.0   \n",
       "5      1000   10.0         57.0        350.0            27.0  14717.0   \n",
       "6      1000   11.0         43.0        338.0            24.0  14768.0   \n",
       "7      1000   12.0         46.0        333.0            21.0   9827.0   \n",
       "8      1001   11.0         59.0        430.0            55.0  18452.0   \n",
       "9      1001   12.0         63.0        414.0            41.0  14053.0   \n",
       "10     1002    6.0         15.0        117.0            34.0  10871.0   \n",
       "11     1002    7.0         26.0        214.0            58.0  17601.0   \n",
       "12     1002    8.0         42.0        289.0            60.0  20347.0   \n",
       "13     1002    9.0         36.0        206.0            56.0  16712.0   \n",
       "14     1002   10.0         33.0        212.0            44.0  13905.0   \n",
       "\n",
       "    count_messages  age churn_date         city first_name  last_name  \\\n",
       "0             22.0   52        NaN    Краснодар     Рафаил  Верещагин   \n",
       "1             60.0   52        NaN    Краснодар     Рафаил  Верещагин   \n",
       "2             75.0   52        NaN    Краснодар     Рафаил  Верещагин   \n",
       "3             81.0   52        NaN    Краснодар     Рафаил  Верещагин   \n",
       "4             57.0   52        NaN    Краснодар     Рафаил  Верещагин   \n",
       "5             73.0   52        NaN    Краснодар     Рафаил  Верещагин   \n",
       "6             58.0   52        NaN    Краснодар     Рафаил  Верещагин   \n",
       "7             70.0   52        NaN    Краснодар     Рафаил  Верещагин   \n",
       "8              NaN   41        NaN       Москва       Иван       Ежов   \n",
       "9              NaN   41        NaN       Москва       Иван       Ежов   \n",
       "10             4.0   59        NaN  Стерлитамак    Евгений  Абрамович   \n",
       "11            11.0   59        NaN  Стерлитамак    Евгений  Абрамович   \n",
       "12            13.0   59        NaN  Стерлитамак    Евгений  Абрамович   \n",
       "13             4.0   59        NaN  Стерлитамак    Евгений  Абрамович   \n",
       "14            10.0   59        NaN  Стерлитамак    Евгений  Абрамович   \n",
       "\n",
       "     reg_date tariff  \n",
       "0  2018-05-25  ultra  \n",
       "1  2018-05-25  ultra  \n",
       "2  2018-05-25  ultra  \n",
       "3  2018-05-25  ultra  \n",
       "4  2018-05-25  ultra  \n",
       "5  2018-05-25  ultra  \n",
       "6  2018-05-25  ultra  \n",
       "7  2018-05-25  ultra  \n",
       "8  2018-11-01  smart  \n",
       "9  2018-11-01  smart  \n",
       "10 2018-06-17  smart  \n",
       "11 2018-06-17  smart  \n",
       "12 2018-06-17  smart  \n",
       "13 2018-06-17  smart  \n",
       "14 2018-06-17  smart  "
      ]
     },
     "execution_count": 56,
     "metadata": {},
     "output_type": "execute_result"
    }
   ],
   "source": [
    "m3 = m2.merge(users, on= 'user_id', how='outer')\n",
    "m3.head(15)"
   ]
  },
  {
   "cell_type": "code",
   "execution_count": 57,
   "metadata": {},
   "outputs": [
    {
     "name": "stdout",
     "output_type": "stream",
     "text": [
      "<class 'pandas.core.frame.DataFrame'>\n",
      "Int64Index: 3216 entries, 0 to 3215\n",
      "Data columns (total 14 columns):\n",
      " #   Column          Non-Null Count  Dtype         \n",
      "---  ------          --------------  -----         \n",
      " 0   user_id         3216 non-null   int64         \n",
      " 1   month           3214 non-null   float64       \n",
      " 2   count_calls     3174 non-null   float64       \n",
      " 3   sum_minutes     3174 non-null   float64       \n",
      " 4   count_internet  3203 non-null   float64       \n",
      " 5   sum_mb          3203 non-null   float64       \n",
      " 6   count_messages  2717 non-null   float64       \n",
      " 7   age             3216 non-null   int64         \n",
      " 8   churn_date      189 non-null    object        \n",
      " 9   city            3216 non-null   object        \n",
      " 10  first_name      3216 non-null   object        \n",
      " 11  last_name       3216 non-null   object        \n",
      " 12  reg_date        3216 non-null   datetime64[ns]\n",
      " 13  tariff          3216 non-null   object        \n",
      "dtypes: datetime64[ns](1), float64(6), int64(2), object(5)\n",
      "memory usage: 376.9+ KB\n"
     ]
    }
   ],
   "source": [
    "m3.info()"
   ]
  },
  {
   "cell_type": "markdown",
   "metadata": {},
   "source": [
    "По какой-то причине, количество строк увеличилось на 2, то есть у нас имеются 2 клиента, по которым нет сведений. Посмотрим их."
   ]
  },
  {
   "cell_type": "code",
   "execution_count": 58,
   "metadata": {},
   "outputs": [
    {
     "data": {
      "text/html": [
       "<div>\n",
       "<style scoped>\n",
       "    .dataframe tbody tr th:only-of-type {\n",
       "        vertical-align: middle;\n",
       "    }\n",
       "\n",
       "    .dataframe tbody tr th {\n",
       "        vertical-align: top;\n",
       "    }\n",
       "\n",
       "    .dataframe thead th {\n",
       "        text-align: right;\n",
       "    }\n",
       "</style>\n",
       "<table border=\"1\" class=\"dataframe\">\n",
       "  <thead>\n",
       "    <tr style=\"text-align: right;\">\n",
       "      <th></th>\n",
       "      <th>user_id</th>\n",
       "      <th>month</th>\n",
       "      <th>count_calls</th>\n",
       "      <th>sum_minutes</th>\n",
       "      <th>count_internet</th>\n",
       "      <th>sum_mb</th>\n",
       "      <th>count_messages</th>\n",
       "      <th>age</th>\n",
       "      <th>churn_date</th>\n",
       "      <th>city</th>\n",
       "      <th>first_name</th>\n",
       "      <th>last_name</th>\n",
       "      <th>reg_date</th>\n",
       "      <th>tariff</th>\n",
       "    </tr>\n",
       "  </thead>\n",
       "  <tbody>\n",
       "    <tr>\n",
       "      <th>3214</th>\n",
       "      <td>1128</td>\n",
       "      <td>NaN</td>\n",
       "      <td>NaN</td>\n",
       "      <td>NaN</td>\n",
       "      <td>NaN</td>\n",
       "      <td>NaN</td>\n",
       "      <td>NaN</td>\n",
       "      <td>51</td>\n",
       "      <td>2018-12-23</td>\n",
       "      <td>Волжский</td>\n",
       "      <td>Ксения</td>\n",
       "      <td>Агаева</td>\n",
       "      <td>2018-12-15</td>\n",
       "      <td>ultra</td>\n",
       "    </tr>\n",
       "    <tr>\n",
       "      <th>3215</th>\n",
       "      <td>1371</td>\n",
       "      <td>NaN</td>\n",
       "      <td>NaN</td>\n",
       "      <td>NaN</td>\n",
       "      <td>NaN</td>\n",
       "      <td>NaN</td>\n",
       "      <td>NaN</td>\n",
       "      <td>50</td>\n",
       "      <td>2018-12-30</td>\n",
       "      <td>Омск</td>\n",
       "      <td>Ириней</td>\n",
       "      <td>Трофимов</td>\n",
       "      <td>2018-12-25</td>\n",
       "      <td>smart</td>\n",
       "    </tr>\n",
       "  </tbody>\n",
       "</table>\n",
       "</div>"
      ],
      "text/plain": [
       "      user_id  month  count_calls  sum_minutes  count_internet  sum_mb  \\\n",
       "3214     1128    NaN          NaN          NaN             NaN     NaN   \n",
       "3215     1371    NaN          NaN          NaN             NaN     NaN   \n",
       "\n",
       "      count_messages  age  churn_date      city first_name last_name  \\\n",
       "3214             NaN   51  2018-12-23  Волжский     Ксения    Агаева   \n",
       "3215             NaN   50  2018-12-30      Омск     Ириней  Трофимов   \n",
       "\n",
       "       reg_date tariff  \n",
       "3214 2018-12-15  ultra  \n",
       "3215 2018-12-25  smart  "
      ]
     },
     "execution_count": 58,
     "metadata": {},
     "output_type": "execute_result"
    }
   ],
   "source": [
    "m3.query('month.isnull() == True', engine = 'python')"
   ]
  },
  {
   "cell_type": "markdown",
   "metadata": {},
   "source": [
    "Целесообразно удалить эти строки."
   ]
  },
  {
   "cell_type": "code",
   "execution_count": 59,
   "metadata": {},
   "outputs": [
    {
     "name": "stdout",
     "output_type": "stream",
     "text": [
      "<class 'pandas.core.frame.DataFrame'>\n",
      "Int64Index: 3214 entries, 0 to 3213\n",
      "Data columns (total 14 columns):\n",
      " #   Column          Non-Null Count  Dtype         \n",
      "---  ------          --------------  -----         \n",
      " 0   user_id         3214 non-null   int64         \n",
      " 1   month           3214 non-null   float64       \n",
      " 2   count_calls     3174 non-null   float64       \n",
      " 3   sum_minutes     3174 non-null   float64       \n",
      " 4   count_internet  3203 non-null   float64       \n",
      " 5   sum_mb          3203 non-null   float64       \n",
      " 6   count_messages  2717 non-null   float64       \n",
      " 7   age             3214 non-null   int64         \n",
      " 8   churn_date      187 non-null    object        \n",
      " 9   city            3214 non-null   object        \n",
      " 10  first_name      3214 non-null   object        \n",
      " 11  last_name       3214 non-null   object        \n",
      " 12  reg_date        3214 non-null   datetime64[ns]\n",
      " 13  tariff          3214 non-null   object        \n",
      "dtypes: datetime64[ns](1), float64(6), int64(2), object(5)\n",
      "memory usage: 376.6+ KB\n"
     ]
    }
   ],
   "source": [
    "m3 = m3.dropna(subset = ['month'])\n",
    "m3.info()"
   ]
  },
  {
   "cell_type": "markdown",
   "metadata": {},
   "source": [
    "Теперь создадим итоговую таблицу data_merged с добавлением сведений о тарифах."
   ]
  },
  {
   "cell_type": "markdown",
   "metadata": {},
   "source": [
    "Так как объединение будет производиться по признаку Tariff, то переименуем столбец в таблице tariffs."
   ]
  },
  {
   "cell_type": "code",
   "execution_count": 60,
   "metadata": {},
   "outputs": [
    {
     "data": {
      "text/plain": [
       "Index(['messages_included', 'mb_per_month_included', 'minutes_included',\n",
       "       'rub_monthly_fee', 'rub_per_gb', 'rub_per_message', 'rub_per_minute',\n",
       "       'tariff_name'],\n",
       "      dtype='object')"
      ]
     },
     "execution_count": 60,
     "metadata": {},
     "output_type": "execute_result"
    }
   ],
   "source": [
    "tariffs.columns"
   ]
  },
  {
   "cell_type": "code",
   "execution_count": 61,
   "metadata": {},
   "outputs": [
    {
     "name": "stdout",
     "output_type": "stream",
     "text": [
      "<class 'pandas.core.frame.DataFrame'>\n",
      "RangeIndex: 2 entries, 0 to 1\n",
      "Data columns (total 8 columns):\n",
      " #   Column                 Non-Null Count  Dtype \n",
      "---  ------                 --------------  ----- \n",
      " 0   messages_included      2 non-null      int64 \n",
      " 1   mb_per_month_included  2 non-null      int64 \n",
      " 2   minutes_included       2 non-null      int64 \n",
      " 3   rub_monthly_fee        2 non-null      int64 \n",
      " 4   rub_per_gb             2 non-null      int64 \n",
      " 5   rub_per_message        2 non-null      int64 \n",
      " 6   rub_per_minute         2 non-null      int64 \n",
      " 7   tariff                 2 non-null      object\n",
      "dtypes: int64(7), object(1)\n",
      "memory usage: 256.0+ bytes\n"
     ]
    }
   ],
   "source": [
    "tariffs = tariffs.rename(columns = {'tariff_name': 'tariff'})\n",
    "tariffs.info()"
   ]
  },
  {
   "cell_type": "markdown",
   "metadata": {},
   "source": [
    "готово"
   ]
  },
  {
   "cell_type": "code",
   "execution_count": 62,
   "metadata": {
    "scrolled": true
   },
   "outputs": [
    {
     "data": {
      "text/html": [
       "<div>\n",
       "<style scoped>\n",
       "    .dataframe tbody tr th:only-of-type {\n",
       "        vertical-align: middle;\n",
       "    }\n",
       "\n",
       "    .dataframe tbody tr th {\n",
       "        vertical-align: top;\n",
       "    }\n",
       "\n",
       "    .dataframe thead th {\n",
       "        text-align: right;\n",
       "    }\n",
       "</style>\n",
       "<table border=\"1\" class=\"dataframe\">\n",
       "  <thead>\n",
       "    <tr style=\"text-align: right;\">\n",
       "      <th></th>\n",
       "      <th>user_id</th>\n",
       "      <th>month</th>\n",
       "      <th>count_calls</th>\n",
       "      <th>sum_minutes</th>\n",
       "      <th>count_internet</th>\n",
       "      <th>sum_mb</th>\n",
       "      <th>count_messages</th>\n",
       "      <th>age</th>\n",
       "      <th>churn_date</th>\n",
       "      <th>city</th>\n",
       "      <th>first_name</th>\n",
       "      <th>last_name</th>\n",
       "      <th>reg_date</th>\n",
       "      <th>tariff</th>\n",
       "      <th>messages_included</th>\n",
       "      <th>mb_per_month_included</th>\n",
       "      <th>minutes_included</th>\n",
       "      <th>rub_monthly_fee</th>\n",
       "      <th>rub_per_gb</th>\n",
       "      <th>rub_per_message</th>\n",
       "      <th>rub_per_minute</th>\n",
       "    </tr>\n",
       "  </thead>\n",
       "  <tbody>\n",
       "    <tr>\n",
       "      <th>0</th>\n",
       "      <td>1000</td>\n",
       "      <td>5.0</td>\n",
       "      <td>22.0</td>\n",
       "      <td>159.0</td>\n",
       "      <td>5.0</td>\n",
       "      <td>2256.0</td>\n",
       "      <td>22.0</td>\n",
       "      <td>52</td>\n",
       "      <td>NaN</td>\n",
       "      <td>Краснодар</td>\n",
       "      <td>Рафаил</td>\n",
       "      <td>Верещагин</td>\n",
       "      <td>2018-05-25</td>\n",
       "      <td>ultra</td>\n",
       "      <td>1000</td>\n",
       "      <td>30720</td>\n",
       "      <td>3000</td>\n",
       "      <td>1950</td>\n",
       "      <td>150</td>\n",
       "      <td>1</td>\n",
       "      <td>1</td>\n",
       "    </tr>\n",
       "    <tr>\n",
       "      <th>1</th>\n",
       "      <td>1000</td>\n",
       "      <td>6.0</td>\n",
       "      <td>43.0</td>\n",
       "      <td>172.0</td>\n",
       "      <td>49.0</td>\n",
       "      <td>23257.0</td>\n",
       "      <td>60.0</td>\n",
       "      <td>52</td>\n",
       "      <td>NaN</td>\n",
       "      <td>Краснодар</td>\n",
       "      <td>Рафаил</td>\n",
       "      <td>Верещагин</td>\n",
       "      <td>2018-05-25</td>\n",
       "      <td>ultra</td>\n",
       "      <td>1000</td>\n",
       "      <td>30720</td>\n",
       "      <td>3000</td>\n",
       "      <td>1950</td>\n",
       "      <td>150</td>\n",
       "      <td>1</td>\n",
       "      <td>1</td>\n",
       "    </tr>\n",
       "    <tr>\n",
       "      <th>2</th>\n",
       "      <td>1000</td>\n",
       "      <td>7.0</td>\n",
       "      <td>47.0</td>\n",
       "      <td>340.0</td>\n",
       "      <td>29.0</td>\n",
       "      <td>14016.0</td>\n",
       "      <td>75.0</td>\n",
       "      <td>52</td>\n",
       "      <td>NaN</td>\n",
       "      <td>Краснодар</td>\n",
       "      <td>Рафаил</td>\n",
       "      <td>Верещагин</td>\n",
       "      <td>2018-05-25</td>\n",
       "      <td>ultra</td>\n",
       "      <td>1000</td>\n",
       "      <td>30720</td>\n",
       "      <td>3000</td>\n",
       "      <td>1950</td>\n",
       "      <td>150</td>\n",
       "      <td>1</td>\n",
       "      <td>1</td>\n",
       "    </tr>\n",
       "    <tr>\n",
       "      <th>3</th>\n",
       "      <td>1000</td>\n",
       "      <td>8.0</td>\n",
       "      <td>52.0</td>\n",
       "      <td>408.0</td>\n",
       "      <td>29.0</td>\n",
       "      <td>14070.0</td>\n",
       "      <td>81.0</td>\n",
       "      <td>52</td>\n",
       "      <td>NaN</td>\n",
       "      <td>Краснодар</td>\n",
       "      <td>Рафаил</td>\n",
       "      <td>Верещагин</td>\n",
       "      <td>2018-05-25</td>\n",
       "      <td>ultra</td>\n",
       "      <td>1000</td>\n",
       "      <td>30720</td>\n",
       "      <td>3000</td>\n",
       "      <td>1950</td>\n",
       "      <td>150</td>\n",
       "      <td>1</td>\n",
       "      <td>1</td>\n",
       "    </tr>\n",
       "    <tr>\n",
       "      <th>4</th>\n",
       "      <td>1000</td>\n",
       "      <td>9.0</td>\n",
       "      <td>58.0</td>\n",
       "      <td>466.0</td>\n",
       "      <td>27.0</td>\n",
       "      <td>14581.0</td>\n",
       "      <td>57.0</td>\n",
       "      <td>52</td>\n",
       "      <td>NaN</td>\n",
       "      <td>Краснодар</td>\n",
       "      <td>Рафаил</td>\n",
       "      <td>Верещагин</td>\n",
       "      <td>2018-05-25</td>\n",
       "      <td>ultra</td>\n",
       "      <td>1000</td>\n",
       "      <td>30720</td>\n",
       "      <td>3000</td>\n",
       "      <td>1950</td>\n",
       "      <td>150</td>\n",
       "      <td>1</td>\n",
       "      <td>1</td>\n",
       "    </tr>\n",
       "  </tbody>\n",
       "</table>\n",
       "</div>"
      ],
      "text/plain": [
       "   user_id  month  count_calls  sum_minutes  count_internet   sum_mb  \\\n",
       "0     1000    5.0         22.0        159.0             5.0   2256.0   \n",
       "1     1000    6.0         43.0        172.0            49.0  23257.0   \n",
       "2     1000    7.0         47.0        340.0            29.0  14016.0   \n",
       "3     1000    8.0         52.0        408.0            29.0  14070.0   \n",
       "4     1000    9.0         58.0        466.0            27.0  14581.0   \n",
       "\n",
       "   count_messages  age churn_date       city first_name  last_name   reg_date  \\\n",
       "0            22.0   52        NaN  Краснодар     Рафаил  Верещагин 2018-05-25   \n",
       "1            60.0   52        NaN  Краснодар     Рафаил  Верещагин 2018-05-25   \n",
       "2            75.0   52        NaN  Краснодар     Рафаил  Верещагин 2018-05-25   \n",
       "3            81.0   52        NaN  Краснодар     Рафаил  Верещагин 2018-05-25   \n",
       "4            57.0   52        NaN  Краснодар     Рафаил  Верещагин 2018-05-25   \n",
       "\n",
       "  tariff  messages_included  mb_per_month_included  minutes_included  \\\n",
       "0  ultra               1000                  30720              3000   \n",
       "1  ultra               1000                  30720              3000   \n",
       "2  ultra               1000                  30720              3000   \n",
       "3  ultra               1000                  30720              3000   \n",
       "4  ultra               1000                  30720              3000   \n",
       "\n",
       "   rub_monthly_fee  rub_per_gb  rub_per_message  rub_per_minute  \n",
       "0             1950         150                1               1  \n",
       "1             1950         150                1               1  \n",
       "2             1950         150                1               1  \n",
       "3             1950         150                1               1  \n",
       "4             1950         150                1               1  "
      ]
     },
     "execution_count": 62,
     "metadata": {},
     "output_type": "execute_result"
    }
   ],
   "source": [
    "data_merged = m3.merge(tariffs, on= 'tariff', how='outer')\n",
    "data_merged.head(5)"
   ]
  },
  {
   "cell_type": "code",
   "execution_count": 63,
   "metadata": {},
   "outputs": [
    {
     "name": "stdout",
     "output_type": "stream",
     "text": [
      "Количество клиентов: 498\n"
     ]
    }
   ],
   "source": [
    "print(f\"Количество клиентов: {data_merged.user_id.nunique()}\")"
   ]
  },
  {
   "cell_type": "code",
   "execution_count": 64,
   "metadata": {},
   "outputs": [
    {
     "name": "stdout",
     "output_type": "stream",
     "text": [
      "<class 'pandas.core.frame.DataFrame'>\n",
      "Int64Index: 3214 entries, 0 to 3213\n",
      "Data columns (total 21 columns):\n",
      " #   Column                 Non-Null Count  Dtype         \n",
      "---  ------                 --------------  -----         \n",
      " 0   user_id                3214 non-null   int64         \n",
      " 1   month                  3214 non-null   float64       \n",
      " 2   count_calls            3174 non-null   float64       \n",
      " 3   sum_minutes            3174 non-null   float64       \n",
      " 4   count_internet         3203 non-null   float64       \n",
      " 5   sum_mb                 3203 non-null   float64       \n",
      " 6   count_messages         2717 non-null   float64       \n",
      " 7   age                    3214 non-null   int64         \n",
      " 8   churn_date             187 non-null    object        \n",
      " 9   city                   3214 non-null   object        \n",
      " 10  first_name             3214 non-null   object        \n",
      " 11  last_name              3214 non-null   object        \n",
      " 12  reg_date               3214 non-null   datetime64[ns]\n",
      " 13  tariff                 3214 non-null   object        \n",
      " 14  messages_included      3214 non-null   int64         \n",
      " 15  mb_per_month_included  3214 non-null   int64         \n",
      " 16  minutes_included       3214 non-null   int64         \n",
      " 17  rub_monthly_fee        3214 non-null   int64         \n",
      " 18  rub_per_gb             3214 non-null   int64         \n",
      " 19  rub_per_message        3214 non-null   int64         \n",
      " 20  rub_per_minute         3214 non-null   int64         \n",
      "dtypes: datetime64[ns](1), float64(6), int64(9), object(5)\n",
      "memory usage: 552.4+ KB\n"
     ]
    }
   ],
   "source": [
    "data_merged.info()"
   ]
  },
  {
   "cell_type": "markdown",
   "metadata": {},
   "source": [
    "### Подсчет помесячной выручки с каждого пользователя "
   ]
  },
  {
   "cell_type": "markdown",
   "metadata": {},
   "source": [
    "Для нахождения выручки добавим новый столбец month_profit, где будет произведен расчет."
   ]
  },
  {
   "cell_type": "markdown",
   "metadata": {},
   "source": [
    "Расчет будет осуществлен функцией строки, которая будет применена к столбцу."
   ]
  },
  {
   "cell_type": "code",
   "execution_count": 65,
   "metadata": {
    "scrolled": true
   },
   "outputs": [
    {
     "data": {
      "text/html": [
       "<div>\n",
       "<style scoped>\n",
       "    .dataframe tbody tr th:only-of-type {\n",
       "        vertical-align: middle;\n",
       "    }\n",
       "\n",
       "    .dataframe tbody tr th {\n",
       "        vertical-align: top;\n",
       "    }\n",
       "\n",
       "    .dataframe thead th {\n",
       "        text-align: right;\n",
       "    }\n",
       "</style>\n",
       "<table border=\"1\" class=\"dataframe\">\n",
       "  <thead>\n",
       "    <tr style=\"text-align: right;\">\n",
       "      <th></th>\n",
       "      <th>user_id</th>\n",
       "      <th>month</th>\n",
       "      <th>count_calls</th>\n",
       "      <th>sum_minutes</th>\n",
       "      <th>count_internet</th>\n",
       "      <th>sum_mb</th>\n",
       "      <th>count_messages</th>\n",
       "      <th>age</th>\n",
       "      <th>churn_date</th>\n",
       "      <th>city</th>\n",
       "      <th>first_name</th>\n",
       "      <th>last_name</th>\n",
       "      <th>reg_date</th>\n",
       "      <th>tariff</th>\n",
       "      <th>messages_included</th>\n",
       "      <th>mb_per_month_included</th>\n",
       "      <th>minutes_included</th>\n",
       "      <th>rub_monthly_fee</th>\n",
       "      <th>rub_per_gb</th>\n",
       "      <th>rub_per_message</th>\n",
       "      <th>rub_per_minute</th>\n",
       "      <th>month_profit</th>\n",
       "    </tr>\n",
       "  </thead>\n",
       "  <tbody>\n",
       "    <tr>\n",
       "      <th>0</th>\n",
       "      <td>1000</td>\n",
       "      <td>5.0</td>\n",
       "      <td>22.0</td>\n",
       "      <td>159.0</td>\n",
       "      <td>5.0</td>\n",
       "      <td>2256.0</td>\n",
       "      <td>22.0</td>\n",
       "      <td>52</td>\n",
       "      <td>NaN</td>\n",
       "      <td>Краснодар</td>\n",
       "      <td>Рафаил</td>\n",
       "      <td>Верещагин</td>\n",
       "      <td>2018-05-25</td>\n",
       "      <td>ultra</td>\n",
       "      <td>1000</td>\n",
       "      <td>30720</td>\n",
       "      <td>3000</td>\n",
       "      <td>1950</td>\n",
       "      <td>150</td>\n",
       "      <td>1</td>\n",
       "      <td>1</td>\n",
       "      <td>1950.0</td>\n",
       "    </tr>\n",
       "    <tr>\n",
       "      <th>1</th>\n",
       "      <td>1000</td>\n",
       "      <td>6.0</td>\n",
       "      <td>43.0</td>\n",
       "      <td>172.0</td>\n",
       "      <td>49.0</td>\n",
       "      <td>23257.0</td>\n",
       "      <td>60.0</td>\n",
       "      <td>52</td>\n",
       "      <td>NaN</td>\n",
       "      <td>Краснодар</td>\n",
       "      <td>Рафаил</td>\n",
       "      <td>Верещагин</td>\n",
       "      <td>2018-05-25</td>\n",
       "      <td>ultra</td>\n",
       "      <td>1000</td>\n",
       "      <td>30720</td>\n",
       "      <td>3000</td>\n",
       "      <td>1950</td>\n",
       "      <td>150</td>\n",
       "      <td>1</td>\n",
       "      <td>1</td>\n",
       "      <td>1950.0</td>\n",
       "    </tr>\n",
       "    <tr>\n",
       "      <th>2</th>\n",
       "      <td>1000</td>\n",
       "      <td>7.0</td>\n",
       "      <td>47.0</td>\n",
       "      <td>340.0</td>\n",
       "      <td>29.0</td>\n",
       "      <td>14016.0</td>\n",
       "      <td>75.0</td>\n",
       "      <td>52</td>\n",
       "      <td>NaN</td>\n",
       "      <td>Краснодар</td>\n",
       "      <td>Рафаил</td>\n",
       "      <td>Верещагин</td>\n",
       "      <td>2018-05-25</td>\n",
       "      <td>ultra</td>\n",
       "      <td>1000</td>\n",
       "      <td>30720</td>\n",
       "      <td>3000</td>\n",
       "      <td>1950</td>\n",
       "      <td>150</td>\n",
       "      <td>1</td>\n",
       "      <td>1</td>\n",
       "      <td>1950.0</td>\n",
       "    </tr>\n",
       "    <tr>\n",
       "      <th>3</th>\n",
       "      <td>1000</td>\n",
       "      <td>8.0</td>\n",
       "      <td>52.0</td>\n",
       "      <td>408.0</td>\n",
       "      <td>29.0</td>\n",
       "      <td>14070.0</td>\n",
       "      <td>81.0</td>\n",
       "      <td>52</td>\n",
       "      <td>NaN</td>\n",
       "      <td>Краснодар</td>\n",
       "      <td>Рафаил</td>\n",
       "      <td>Верещагин</td>\n",
       "      <td>2018-05-25</td>\n",
       "      <td>ultra</td>\n",
       "      <td>1000</td>\n",
       "      <td>30720</td>\n",
       "      <td>3000</td>\n",
       "      <td>1950</td>\n",
       "      <td>150</td>\n",
       "      <td>1</td>\n",
       "      <td>1</td>\n",
       "      <td>1950.0</td>\n",
       "    </tr>\n",
       "    <tr>\n",
       "      <th>4</th>\n",
       "      <td>1000</td>\n",
       "      <td>9.0</td>\n",
       "      <td>58.0</td>\n",
       "      <td>466.0</td>\n",
       "      <td>27.0</td>\n",
       "      <td>14581.0</td>\n",
       "      <td>57.0</td>\n",
       "      <td>52</td>\n",
       "      <td>NaN</td>\n",
       "      <td>Краснодар</td>\n",
       "      <td>Рафаил</td>\n",
       "      <td>Верещагин</td>\n",
       "      <td>2018-05-25</td>\n",
       "      <td>ultra</td>\n",
       "      <td>1000</td>\n",
       "      <td>30720</td>\n",
       "      <td>3000</td>\n",
       "      <td>1950</td>\n",
       "      <td>150</td>\n",
       "      <td>1</td>\n",
       "      <td>1</td>\n",
       "      <td>1950.0</td>\n",
       "    </tr>\n",
       "    <tr>\n",
       "      <th>5</th>\n",
       "      <td>1000</td>\n",
       "      <td>10.0</td>\n",
       "      <td>57.0</td>\n",
       "      <td>350.0</td>\n",
       "      <td>27.0</td>\n",
       "      <td>14717.0</td>\n",
       "      <td>73.0</td>\n",
       "      <td>52</td>\n",
       "      <td>NaN</td>\n",
       "      <td>Краснодар</td>\n",
       "      <td>Рафаил</td>\n",
       "      <td>Верещагин</td>\n",
       "      <td>2018-05-25</td>\n",
       "      <td>ultra</td>\n",
       "      <td>1000</td>\n",
       "      <td>30720</td>\n",
       "      <td>3000</td>\n",
       "      <td>1950</td>\n",
       "      <td>150</td>\n",
       "      <td>1</td>\n",
       "      <td>1</td>\n",
       "      <td>1950.0</td>\n",
       "    </tr>\n",
       "    <tr>\n",
       "      <th>6</th>\n",
       "      <td>1000</td>\n",
       "      <td>11.0</td>\n",
       "      <td>43.0</td>\n",
       "      <td>338.0</td>\n",
       "      <td>24.0</td>\n",
       "      <td>14768.0</td>\n",
       "      <td>58.0</td>\n",
       "      <td>52</td>\n",
       "      <td>NaN</td>\n",
       "      <td>Краснодар</td>\n",
       "      <td>Рафаил</td>\n",
       "      <td>Верещагин</td>\n",
       "      <td>2018-05-25</td>\n",
       "      <td>ultra</td>\n",
       "      <td>1000</td>\n",
       "      <td>30720</td>\n",
       "      <td>3000</td>\n",
       "      <td>1950</td>\n",
       "      <td>150</td>\n",
       "      <td>1</td>\n",
       "      <td>1</td>\n",
       "      <td>1950.0</td>\n",
       "    </tr>\n",
       "    <tr>\n",
       "      <th>7</th>\n",
       "      <td>1000</td>\n",
       "      <td>12.0</td>\n",
       "      <td>46.0</td>\n",
       "      <td>333.0</td>\n",
       "      <td>21.0</td>\n",
       "      <td>9827.0</td>\n",
       "      <td>70.0</td>\n",
       "      <td>52</td>\n",
       "      <td>NaN</td>\n",
       "      <td>Краснодар</td>\n",
       "      <td>Рафаил</td>\n",
       "      <td>Верещагин</td>\n",
       "      <td>2018-05-25</td>\n",
       "      <td>ultra</td>\n",
       "      <td>1000</td>\n",
       "      <td>30720</td>\n",
       "      <td>3000</td>\n",
       "      <td>1950</td>\n",
       "      <td>150</td>\n",
       "      <td>1</td>\n",
       "      <td>1</td>\n",
       "      <td>1950.0</td>\n",
       "    </tr>\n",
       "    <tr>\n",
       "      <th>8</th>\n",
       "      <td>1003</td>\n",
       "      <td>8.0</td>\n",
       "      <td>55.0</td>\n",
       "      <td>380.0</td>\n",
       "      <td>15.0</td>\n",
       "      <td>8571.0</td>\n",
       "      <td>37.0</td>\n",
       "      <td>23</td>\n",
       "      <td>NaN</td>\n",
       "      <td>Москва</td>\n",
       "      <td>Белла</td>\n",
       "      <td>Белякова</td>\n",
       "      <td>2018-08-17</td>\n",
       "      <td>ultra</td>\n",
       "      <td>1000</td>\n",
       "      <td>30720</td>\n",
       "      <td>3000</td>\n",
       "      <td>1950</td>\n",
       "      <td>150</td>\n",
       "      <td>1</td>\n",
       "      <td>1</td>\n",
       "      <td>1950.0</td>\n",
       "    </tr>\n",
       "    <tr>\n",
       "      <th>9</th>\n",
       "      <td>1003</td>\n",
       "      <td>9.0</td>\n",
       "      <td>134.0</td>\n",
       "      <td>961.0</td>\n",
       "      <td>22.0</td>\n",
       "      <td>12479.0</td>\n",
       "      <td>91.0</td>\n",
       "      <td>23</td>\n",
       "      <td>NaN</td>\n",
       "      <td>Москва</td>\n",
       "      <td>Белла</td>\n",
       "      <td>Белякова</td>\n",
       "      <td>2018-08-17</td>\n",
       "      <td>ultra</td>\n",
       "      <td>1000</td>\n",
       "      <td>30720</td>\n",
       "      <td>3000</td>\n",
       "      <td>1950</td>\n",
       "      <td>150</td>\n",
       "      <td>1</td>\n",
       "      <td>1</td>\n",
       "      <td>1950.0</td>\n",
       "    </tr>\n",
       "    <tr>\n",
       "      <th>10</th>\n",
       "      <td>1003</td>\n",
       "      <td>10.0</td>\n",
       "      <td>108.0</td>\n",
       "      <td>855.0</td>\n",
       "      <td>25.0</td>\n",
       "      <td>14779.0</td>\n",
       "      <td>83.0</td>\n",
       "      <td>23</td>\n",
       "      <td>NaN</td>\n",
       "      <td>Москва</td>\n",
       "      <td>Белла</td>\n",
       "      <td>Белякова</td>\n",
       "      <td>2018-08-17</td>\n",
       "      <td>ultra</td>\n",
       "      <td>1000</td>\n",
       "      <td>30720</td>\n",
       "      <td>3000</td>\n",
       "      <td>1950</td>\n",
       "      <td>150</td>\n",
       "      <td>1</td>\n",
       "      <td>1</td>\n",
       "      <td>1950.0</td>\n",
       "    </tr>\n",
       "    <tr>\n",
       "      <th>11</th>\n",
       "      <td>1003</td>\n",
       "      <td>11.0</td>\n",
       "      <td>115.0</td>\n",
       "      <td>824.0</td>\n",
       "      <td>21.0</td>\n",
       "      <td>11368.0</td>\n",
       "      <td>94.0</td>\n",
       "      <td>23</td>\n",
       "      <td>NaN</td>\n",
       "      <td>Москва</td>\n",
       "      <td>Белла</td>\n",
       "      <td>Белякова</td>\n",
       "      <td>2018-08-17</td>\n",
       "      <td>ultra</td>\n",
       "      <td>1000</td>\n",
       "      <td>30720</td>\n",
       "      <td>3000</td>\n",
       "      <td>1950</td>\n",
       "      <td>150</td>\n",
       "      <td>1</td>\n",
       "      <td>1</td>\n",
       "      <td>1950.0</td>\n",
       "    </tr>\n",
       "    <tr>\n",
       "      <th>12</th>\n",
       "      <td>1003</td>\n",
       "      <td>12.0</td>\n",
       "      <td>108.0</td>\n",
       "      <td>802.0</td>\n",
       "      <td>21.0</td>\n",
       "      <td>10132.0</td>\n",
       "      <td>75.0</td>\n",
       "      <td>23</td>\n",
       "      <td>NaN</td>\n",
       "      <td>Москва</td>\n",
       "      <td>Белла</td>\n",
       "      <td>Белякова</td>\n",
       "      <td>2018-08-17</td>\n",
       "      <td>ultra</td>\n",
       "      <td>1000</td>\n",
       "      <td>30720</td>\n",
       "      <td>3000</td>\n",
       "      <td>1950</td>\n",
       "      <td>150</td>\n",
       "      <td>1</td>\n",
       "      <td>1</td>\n",
       "      <td>1950.0</td>\n",
       "    </tr>\n",
       "    <tr>\n",
       "      <th>13</th>\n",
       "      <td>1004</td>\n",
       "      <td>5.0</td>\n",
       "      <td>9.0</td>\n",
       "      <td>35.0</td>\n",
       "      <td>24.0</td>\n",
       "      <td>13415.0</td>\n",
       "      <td>95.0</td>\n",
       "      <td>68</td>\n",
       "      <td>NaN</td>\n",
       "      <td>Новокузнецк</td>\n",
       "      <td>Татьяна</td>\n",
       "      <td>Авдеенко</td>\n",
       "      <td>2018-05-14</td>\n",
       "      <td>ultra</td>\n",
       "      <td>1000</td>\n",
       "      <td>30720</td>\n",
       "      <td>3000</td>\n",
       "      <td>1950</td>\n",
       "      <td>150</td>\n",
       "      <td>1</td>\n",
       "      <td>1</td>\n",
       "      <td>1950.0</td>\n",
       "    </tr>\n",
       "    <tr>\n",
       "      <th>14</th>\n",
       "      <td>1004</td>\n",
       "      <td>6.0</td>\n",
       "      <td>31.0</td>\n",
       "      <td>171.0</td>\n",
       "      <td>35.0</td>\n",
       "      <td>17619.0</td>\n",
       "      <td>134.0</td>\n",
       "      <td>68</td>\n",
       "      <td>NaN</td>\n",
       "      <td>Новокузнецк</td>\n",
       "      <td>Татьяна</td>\n",
       "      <td>Авдеенко</td>\n",
       "      <td>2018-05-14</td>\n",
       "      <td>ultra</td>\n",
       "      <td>1000</td>\n",
       "      <td>30720</td>\n",
       "      <td>3000</td>\n",
       "      <td>1950</td>\n",
       "      <td>150</td>\n",
       "      <td>1</td>\n",
       "      <td>1</td>\n",
       "      <td>1950.0</td>\n",
       "    </tr>\n",
       "  </tbody>\n",
       "</table>\n",
       "</div>"
      ],
      "text/plain": [
       "    user_id  month  count_calls  sum_minutes  count_internet   sum_mb  \\\n",
       "0      1000    5.0         22.0        159.0             5.0   2256.0   \n",
       "1      1000    6.0         43.0        172.0            49.0  23257.0   \n",
       "2      1000    7.0         47.0        340.0            29.0  14016.0   \n",
       "3      1000    8.0         52.0        408.0            29.0  14070.0   \n",
       "4      1000    9.0         58.0        466.0            27.0  14581.0   \n",
       "5      1000   10.0         57.0        350.0            27.0  14717.0   \n",
       "6      1000   11.0         43.0        338.0            24.0  14768.0   \n",
       "7      1000   12.0         46.0        333.0            21.0   9827.0   \n",
       "8      1003    8.0         55.0        380.0            15.0   8571.0   \n",
       "9      1003    9.0        134.0        961.0            22.0  12479.0   \n",
       "10     1003   10.0        108.0        855.0            25.0  14779.0   \n",
       "11     1003   11.0        115.0        824.0            21.0  11368.0   \n",
       "12     1003   12.0        108.0        802.0            21.0  10132.0   \n",
       "13     1004    5.0          9.0         35.0            24.0  13415.0   \n",
       "14     1004    6.0         31.0        171.0            35.0  17619.0   \n",
       "\n",
       "    count_messages  age churn_date         city first_name  last_name  \\\n",
       "0             22.0   52        NaN    Краснодар     Рафаил  Верещагин   \n",
       "1             60.0   52        NaN    Краснодар     Рафаил  Верещагин   \n",
       "2             75.0   52        NaN    Краснодар     Рафаил  Верещагин   \n",
       "3             81.0   52        NaN    Краснодар     Рафаил  Верещагин   \n",
       "4             57.0   52        NaN    Краснодар     Рафаил  Верещагин   \n",
       "5             73.0   52        NaN    Краснодар     Рафаил  Верещагин   \n",
       "6             58.0   52        NaN    Краснодар     Рафаил  Верещагин   \n",
       "7             70.0   52        NaN    Краснодар     Рафаил  Верещагин   \n",
       "8             37.0   23        NaN       Москва      Белла   Белякова   \n",
       "9             91.0   23        NaN       Москва      Белла   Белякова   \n",
       "10            83.0   23        NaN       Москва      Белла   Белякова   \n",
       "11            94.0   23        NaN       Москва      Белла   Белякова   \n",
       "12            75.0   23        NaN       Москва      Белла   Белякова   \n",
       "13            95.0   68        NaN  Новокузнецк    Татьяна   Авдеенко   \n",
       "14           134.0   68        NaN  Новокузнецк    Татьяна   Авдеенко   \n",
       "\n",
       "     reg_date tariff  messages_included  mb_per_month_included  \\\n",
       "0  2018-05-25  ultra               1000                  30720   \n",
       "1  2018-05-25  ultra               1000                  30720   \n",
       "2  2018-05-25  ultra               1000                  30720   \n",
       "3  2018-05-25  ultra               1000                  30720   \n",
       "4  2018-05-25  ultra               1000                  30720   \n",
       "5  2018-05-25  ultra               1000                  30720   \n",
       "6  2018-05-25  ultra               1000                  30720   \n",
       "7  2018-05-25  ultra               1000                  30720   \n",
       "8  2018-08-17  ultra               1000                  30720   \n",
       "9  2018-08-17  ultra               1000                  30720   \n",
       "10 2018-08-17  ultra               1000                  30720   \n",
       "11 2018-08-17  ultra               1000                  30720   \n",
       "12 2018-08-17  ultra               1000                  30720   \n",
       "13 2018-05-14  ultra               1000                  30720   \n",
       "14 2018-05-14  ultra               1000                  30720   \n",
       "\n",
       "    minutes_included  rub_monthly_fee  rub_per_gb  rub_per_message  \\\n",
       "0               3000             1950         150                1   \n",
       "1               3000             1950         150                1   \n",
       "2               3000             1950         150                1   \n",
       "3               3000             1950         150                1   \n",
       "4               3000             1950         150                1   \n",
       "5               3000             1950         150                1   \n",
       "6               3000             1950         150                1   \n",
       "7               3000             1950         150                1   \n",
       "8               3000             1950         150                1   \n",
       "9               3000             1950         150                1   \n",
       "10              3000             1950         150                1   \n",
       "11              3000             1950         150                1   \n",
       "12              3000             1950         150                1   \n",
       "13              3000             1950         150                1   \n",
       "14              3000             1950         150                1   \n",
       "\n",
       "    rub_per_minute  month_profit  \n",
       "0                1        1950.0  \n",
       "1                1        1950.0  \n",
       "2                1        1950.0  \n",
       "3                1        1950.0  \n",
       "4                1        1950.0  \n",
       "5                1        1950.0  \n",
       "6                1        1950.0  \n",
       "7                1        1950.0  \n",
       "8                1        1950.0  \n",
       "9                1        1950.0  \n",
       "10               1        1950.0  \n",
       "11               1        1950.0  \n",
       "12               1        1950.0  \n",
       "13               1        1950.0  \n",
       "14               1        1950.0  "
      ]
     },
     "execution_count": 65,
     "metadata": {},
     "output_type": "execute_result"
    }
   ],
   "source": [
    "def profit(row):\n",
    "    fee = row['rub_monthly_fee']\n",
    "    \n",
    "    if row['sum_minutes'] > row['minutes_included']:\n",
    "        minutes = row['sum_minutes'] - row['minutes_included']\n",
    "    else:\n",
    "        minutes = 0\n",
    "    if row['sum_mb'] > row['mb_per_month_included']:\n",
    "        mb = (row['sum_mb'] - row['mb_per_month_included'])/1024\n",
    "    else:\n",
    "        mb = 0\n",
    "    if row['count_messages'] > row['messages_included']:\n",
    "        sms = row['count_messages'] - row['messages_included']\n",
    "    else:\n",
    "        sms = 0\n",
    "    gb = np.ceil(mb)\n",
    "    result = minutes * row['rub_per_minute'] + gb * row['rub_per_gb'] + sms * row['rub_per_message'] + fee\n",
    "    return result\n",
    "\n",
    "data_merged['month_profit'] = data_merged.apply(profit, axis = 1)\n",
    "data_merged.head(15)"
   ]
  },
  {
   "cell_type": "code",
   "execution_count": 66,
   "metadata": {},
   "outputs": [
    {
     "data": {
      "text/plain": [
       "count    3214.000000\n",
       "mean     1532.592097\n",
       "std       799.651454\n",
       "min       550.000000\n",
       "25%       750.000000\n",
       "50%      1667.500000\n",
       "75%      1950.000000\n",
       "max      6770.000000\n",
       "Name: month_profit, dtype: float64"
      ]
     },
     "execution_count": 66,
     "metadata": {},
     "output_type": "execute_result"
    }
   ],
   "source": [
    "data_merged['month_profit'].describe()"
   ]
  },
  {
   "cell_type": "code",
   "execution_count": 67,
   "metadata": {},
   "outputs": [
    {
     "name": "stdout",
     "output_type": "stream",
     "text": [
      "<class 'pandas.core.frame.DataFrame'>\n",
      "Int64Index: 3214 entries, 0 to 3213\n",
      "Data columns (total 22 columns):\n",
      " #   Column                 Non-Null Count  Dtype         \n",
      "---  ------                 --------------  -----         \n",
      " 0   user_id                3214 non-null   int64         \n",
      " 1   month                  3214 non-null   float64       \n",
      " 2   count_calls            3174 non-null   float64       \n",
      " 3   sum_minutes            3174 non-null   float64       \n",
      " 4   count_internet         3203 non-null   float64       \n",
      " 5   sum_mb                 3203 non-null   float64       \n",
      " 6   count_messages         2717 non-null   float64       \n",
      " 7   age                    3214 non-null   int64         \n",
      " 8   churn_date             187 non-null    object        \n",
      " 9   city                   3214 non-null   object        \n",
      " 10  first_name             3214 non-null   object        \n",
      " 11  last_name              3214 non-null   object        \n",
      " 12  reg_date               3214 non-null   datetime64[ns]\n",
      " 13  tariff                 3214 non-null   object        \n",
      " 14  messages_included      3214 non-null   int64         \n",
      " 15  mb_per_month_included  3214 non-null   int64         \n",
      " 16  minutes_included       3214 non-null   int64         \n",
      " 17  rub_monthly_fee        3214 non-null   int64         \n",
      " 18  rub_per_gb             3214 non-null   int64         \n",
      " 19  rub_per_message        3214 non-null   int64         \n",
      " 20  rub_per_minute         3214 non-null   int64         \n",
      " 21  month_profit           3214 non-null   float64       \n",
      "dtypes: datetime64[ns](1), float64(7), int64(9), object(5)\n",
      "memory usage: 577.5+ KB\n"
     ]
    }
   ],
   "source": [
    "data_merged.info()"
   ]
  },
  {
   "cell_type": "markdown",
   "metadata": {},
   "source": [
    "## Анализ данных"
   ]
  },
  {
   "cell_type": "markdown",
   "metadata": {},
   "source": [
    "Начать анализ предлагается с разделения полученных данных на тарифы, чтобы оценить средние показатели в разрезе тарифа."
   ]
  },
  {
   "cell_type": "code",
   "execution_count": 68,
   "metadata": {},
   "outputs": [],
   "source": [
    "data_smart = data_merged[data_merged['tariff'] == 'smart']\n",
    "data_ultra = data_merged[data_merged['tariff'] == 'ultra']"
   ]
  },
  {
   "cell_type": "code",
   "execution_count": 69,
   "metadata": {
    "scrolled": true
   },
   "outputs": [
    {
     "name": "stdout",
     "output_type": "stream",
     "text": [
      "<class 'pandas.core.frame.DataFrame'>\n",
      "Int64Index: 2229 entries, 985 to 3213\n",
      "Data columns (total 22 columns):\n",
      " #   Column                 Non-Null Count  Dtype         \n",
      "---  ------                 --------------  -----         \n",
      " 0   user_id                2229 non-null   int64         \n",
      " 1   month                  2229 non-null   float64       \n",
      " 2   count_calls            2223 non-null   float64       \n",
      " 3   sum_minutes            2223 non-null   float64       \n",
      " 4   count_internet         2228 non-null   float64       \n",
      " 5   sum_mb                 2228 non-null   float64       \n",
      " 6   count_messages         1922 non-null   float64       \n",
      " 7   age                    2229 non-null   int64         \n",
      " 8   churn_date             111 non-null    object        \n",
      " 9   city                   2229 non-null   object        \n",
      " 10  first_name             2229 non-null   object        \n",
      " 11  last_name              2229 non-null   object        \n",
      " 12  reg_date               2229 non-null   datetime64[ns]\n",
      " 13  tariff                 2229 non-null   object        \n",
      " 14  messages_included      2229 non-null   int64         \n",
      " 15  mb_per_month_included  2229 non-null   int64         \n",
      " 16  minutes_included       2229 non-null   int64         \n",
      " 17  rub_monthly_fee        2229 non-null   int64         \n",
      " 18  rub_per_gb             2229 non-null   int64         \n",
      " 19  rub_per_message        2229 non-null   int64         \n",
      " 20  rub_per_minute         2229 non-null   int64         \n",
      " 21  month_profit           2229 non-null   float64       \n",
      "dtypes: datetime64[ns](1), float64(7), int64(9), object(5)\n",
      "memory usage: 400.5+ KB\n"
     ]
    }
   ],
   "source": [
    "data_smart.info()"
   ]
  },
  {
   "cell_type": "code",
   "execution_count": 70,
   "metadata": {
    "scrolled": true
   },
   "outputs": [
    {
     "name": "stdout",
     "output_type": "stream",
     "text": [
      "<class 'pandas.core.frame.DataFrame'>\n",
      "Int64Index: 985 entries, 0 to 984\n",
      "Data columns (total 22 columns):\n",
      " #   Column                 Non-Null Count  Dtype         \n",
      "---  ------                 --------------  -----         \n",
      " 0   user_id                985 non-null    int64         \n",
      " 1   month                  985 non-null    float64       \n",
      " 2   count_calls            951 non-null    float64       \n",
      " 3   sum_minutes            951 non-null    float64       \n",
      " 4   count_internet         975 non-null    float64       \n",
      " 5   sum_mb                 975 non-null    float64       \n",
      " 6   count_messages         795 non-null    float64       \n",
      " 7   age                    985 non-null    int64         \n",
      " 8   churn_date             76 non-null     object        \n",
      " 9   city                   985 non-null    object        \n",
      " 10  first_name             985 non-null    object        \n",
      " 11  last_name              985 non-null    object        \n",
      " 12  reg_date               985 non-null    datetime64[ns]\n",
      " 13  tariff                 985 non-null    object        \n",
      " 14  messages_included      985 non-null    int64         \n",
      " 15  mb_per_month_included  985 non-null    int64         \n",
      " 16  minutes_included       985 non-null    int64         \n",
      " 17  rub_monthly_fee        985 non-null    int64         \n",
      " 18  rub_per_gb             985 non-null    int64         \n",
      " 19  rub_per_message        985 non-null    int64         \n",
      " 20  rub_per_minute         985 non-null    int64         \n",
      " 21  month_profit           985 non-null    float64       \n",
      "dtypes: datetime64[ns](1), float64(7), int64(9), object(5)\n",
      "memory usage: 177.0+ KB\n"
     ]
    }
   ],
   "source": [
    "data_ultra.info()"
   ]
  },
  {
   "cell_type": "markdown",
   "metadata": {},
   "source": [
    "Начнем анализ с группировки полученного среза по клиентам для понимания, какие значения услуг требуются в среднем."
   ]
  },
  {
   "cell_type": "code",
   "execution_count": 71,
   "metadata": {},
   "outputs": [
    {
     "data": {
      "text/html": [
       "<div>\n",
       "<style scoped>\n",
       "    .dataframe tbody tr th:only-of-type {\n",
       "        vertical-align: middle;\n",
       "    }\n",
       "\n",
       "    .dataframe tbody tr th {\n",
       "        vertical-align: top;\n",
       "    }\n",
       "\n",
       "    .dataframe thead th {\n",
       "        text-align: right;\n",
       "    }\n",
       "</style>\n",
       "<table border=\"1\" class=\"dataframe\">\n",
       "  <thead>\n",
       "    <tr style=\"text-align: right;\">\n",
       "      <th></th>\n",
       "      <th>month</th>\n",
       "      <th>count_calls</th>\n",
       "      <th>sum_minutes</th>\n",
       "      <th>count_internet</th>\n",
       "      <th>sum_mb</th>\n",
       "      <th>count_messages</th>\n",
       "      <th>age</th>\n",
       "      <th>messages_included</th>\n",
       "      <th>mb_per_month_included</th>\n",
       "      <th>minutes_included</th>\n",
       "      <th>rub_monthly_fee</th>\n",
       "      <th>rub_per_gb</th>\n",
       "      <th>rub_per_message</th>\n",
       "      <th>rub_per_minute</th>\n",
       "      <th>month_profit</th>\n",
       "    </tr>\n",
       "    <tr>\n",
       "      <th>user_id</th>\n",
       "      <th></th>\n",
       "      <th></th>\n",
       "      <th></th>\n",
       "      <th></th>\n",
       "      <th></th>\n",
       "      <th></th>\n",
       "      <th></th>\n",
       "      <th></th>\n",
       "      <th></th>\n",
       "      <th></th>\n",
       "      <th></th>\n",
       "      <th></th>\n",
       "      <th></th>\n",
       "      <th></th>\n",
       "      <th></th>\n",
       "    </tr>\n",
       "  </thead>\n",
       "  <tbody>\n",
       "    <tr>\n",
       "      <th>1001</th>\n",
       "      <td>11.5</td>\n",
       "      <td>61.0</td>\n",
       "      <td>422.000000</td>\n",
       "      <td>48.000000</td>\n",
       "      <td>16252.500000</td>\n",
       "      <td>NaN</td>\n",
       "      <td>41</td>\n",
       "      <td>50</td>\n",
       "      <td>15360</td>\n",
       "      <td>500</td>\n",
       "      <td>550</td>\n",
       "      <td>200</td>\n",
       "      <td>3</td>\n",
       "      <td>3</td>\n",
       "      <td>950.000000</td>\n",
       "    </tr>\n",
       "    <tr>\n",
       "      <th>1002</th>\n",
       "      <td>9.0</td>\n",
       "      <td>31.0</td>\n",
       "      <td>216.714286</td>\n",
       "      <td>52.714286</td>\n",
       "      <td>16597.571429</td>\n",
       "      <td>10.0</td>\n",
       "      <td>59</td>\n",
       "      <td>50</td>\n",
       "      <td>15360</td>\n",
       "      <td>500</td>\n",
       "      <td>550</td>\n",
       "      <td>200</td>\n",
       "      <td>3</td>\n",
       "      <td>3</td>\n",
       "      <td>1035.714286</td>\n",
       "    </tr>\n",
       "    <tr>\n",
       "      <th>1005</th>\n",
       "      <td>6.5</td>\n",
       "      <td>74.0</td>\n",
       "      <td>550.416667</td>\n",
       "      <td>24.083333</td>\n",
       "      <td>8317.750000</td>\n",
       "      <td>46.0</td>\n",
       "      <td>67</td>\n",
       "      <td>50</td>\n",
       "      <td>15360</td>\n",
       "      <td>500</td>\n",
       "      <td>550</td>\n",
       "      <td>200</td>\n",
       "      <td>3</td>\n",
       "      <td>3</td>\n",
       "      <td>827.000000</td>\n",
       "    </tr>\n",
       "    <tr>\n",
       "      <th>1006</th>\n",
       "      <td>7.0</td>\n",
       "      <td>46.0</td>\n",
       "      <td>318.272727</td>\n",
       "      <td>46.090909</td>\n",
       "      <td>14945.000000</td>\n",
       "      <td>NaN</td>\n",
       "      <td>21</td>\n",
       "      <td>50</td>\n",
       "      <td>15360</td>\n",
       "      <td>500</td>\n",
       "      <td>550</td>\n",
       "      <td>200</td>\n",
       "      <td>3</td>\n",
       "      <td>3</td>\n",
       "      <td>931.818182</td>\n",
       "    </tr>\n",
       "    <tr>\n",
       "      <th>1007</th>\n",
       "      <td>8.0</td>\n",
       "      <td>68.0</td>\n",
       "      <td>486.555556</td>\n",
       "      <td>48.666667</td>\n",
       "      <td>14643.555556</td>\n",
       "      <td>25.0</td>\n",
       "      <td>65</td>\n",
       "      <td>50</td>\n",
       "      <td>15360</td>\n",
       "      <td>500</td>\n",
       "      <td>550</td>\n",
       "      <td>200</td>\n",
       "      <td>3</td>\n",
       "      <td>3</td>\n",
       "      <td>935.666667</td>\n",
       "    </tr>\n",
       "  </tbody>\n",
       "</table>\n",
       "</div>"
      ],
      "text/plain": [
       "         month  count_calls  sum_minutes  count_internet        sum_mb  \\\n",
       "user_id                                                                  \n",
       "1001      11.5         61.0   422.000000       48.000000  16252.500000   \n",
       "1002       9.0         31.0   216.714286       52.714286  16597.571429   \n",
       "1005       6.5         74.0   550.416667       24.083333   8317.750000   \n",
       "1006       7.0         46.0   318.272727       46.090909  14945.000000   \n",
       "1007       8.0         68.0   486.555556       48.666667  14643.555556   \n",
       "\n",
       "         count_messages  age  messages_included  mb_per_month_included  \\\n",
       "user_id                                                                  \n",
       "1001                NaN   41                 50                  15360   \n",
       "1002               10.0   59                 50                  15360   \n",
       "1005               46.0   67                 50                  15360   \n",
       "1006                NaN   21                 50                  15360   \n",
       "1007               25.0   65                 50                  15360   \n",
       "\n",
       "         minutes_included  rub_monthly_fee  rub_per_gb  rub_per_message  \\\n",
       "user_id                                                                   \n",
       "1001                  500              550         200                3   \n",
       "1002                  500              550         200                3   \n",
       "1005                  500              550         200                3   \n",
       "1006                  500              550         200                3   \n",
       "1007                  500              550         200                3   \n",
       "\n",
       "         rub_per_minute  month_profit  \n",
       "user_id                                \n",
       "1001                  3    950.000000  \n",
       "1002                  3   1035.714286  \n",
       "1005                  3    827.000000  \n",
       "1006                  3    931.818182  \n",
       "1007                  3    935.666667  "
      ]
     },
     "execution_count": 71,
     "metadata": {},
     "output_type": "execute_result"
    }
   ],
   "source": [
    "data_smart_grouped = data_smart.groupby('user_id').mean()\n",
    "data_smart_grouped.head(5)"
   ]
  },
  {
   "cell_type": "code",
   "execution_count": 72,
   "metadata": {},
   "outputs": [
    {
     "data": {
      "text/html": [
       "<div>\n",
       "<style scoped>\n",
       "    .dataframe tbody tr th:only-of-type {\n",
       "        vertical-align: middle;\n",
       "    }\n",
       "\n",
       "    .dataframe tbody tr th {\n",
       "        vertical-align: top;\n",
       "    }\n",
       "\n",
       "    .dataframe thead th {\n",
       "        text-align: right;\n",
       "    }\n",
       "</style>\n",
       "<table border=\"1\" class=\"dataframe\">\n",
       "  <thead>\n",
       "    <tr style=\"text-align: right;\">\n",
       "      <th></th>\n",
       "      <th>month</th>\n",
       "      <th>count_calls</th>\n",
       "      <th>sum_minutes</th>\n",
       "      <th>count_internet</th>\n",
       "      <th>sum_mb</th>\n",
       "      <th>count_messages</th>\n",
       "      <th>age</th>\n",
       "      <th>messages_included</th>\n",
       "      <th>mb_per_month_included</th>\n",
       "      <th>minutes_included</th>\n",
       "      <th>rub_monthly_fee</th>\n",
       "      <th>rub_per_gb</th>\n",
       "      <th>rub_per_message</th>\n",
       "      <th>rub_per_minute</th>\n",
       "      <th>month_profit</th>\n",
       "    </tr>\n",
       "    <tr>\n",
       "      <th>user_id</th>\n",
       "      <th></th>\n",
       "      <th></th>\n",
       "      <th></th>\n",
       "      <th></th>\n",
       "      <th></th>\n",
       "      <th></th>\n",
       "      <th></th>\n",
       "      <th></th>\n",
       "      <th></th>\n",
       "      <th></th>\n",
       "      <th></th>\n",
       "      <th></th>\n",
       "      <th></th>\n",
       "      <th></th>\n",
       "      <th></th>\n",
       "    </tr>\n",
       "  </thead>\n",
       "  <tbody>\n",
       "    <tr>\n",
       "      <th>1000</th>\n",
       "      <td>8.5</td>\n",
       "      <td>46.0</td>\n",
       "      <td>320.750</td>\n",
       "      <td>26.375</td>\n",
       "      <td>13436.5</td>\n",
       "      <td>62.0</td>\n",
       "      <td>52</td>\n",
       "      <td>1000</td>\n",
       "      <td>30720</td>\n",
       "      <td>3000</td>\n",
       "      <td>1950</td>\n",
       "      <td>150</td>\n",
       "      <td>1</td>\n",
       "      <td>1</td>\n",
       "      <td>1950.0</td>\n",
       "    </tr>\n",
       "    <tr>\n",
       "      <th>1003</th>\n",
       "      <td>10.0</td>\n",
       "      <td>104.0</td>\n",
       "      <td>764.400</td>\n",
       "      <td>20.800</td>\n",
       "      <td>11465.8</td>\n",
       "      <td>76.0</td>\n",
       "      <td>23</td>\n",
       "      <td>1000</td>\n",
       "      <td>30720</td>\n",
       "      <td>3000</td>\n",
       "      <td>1950</td>\n",
       "      <td>150</td>\n",
       "      <td>1</td>\n",
       "      <td>1</td>\n",
       "      <td>1950.0</td>\n",
       "    </tr>\n",
       "    <tr>\n",
       "      <th>1004</th>\n",
       "      <td>8.5</td>\n",
       "      <td>22.0</td>\n",
       "      <td>123.375</td>\n",
       "      <td>37.500</td>\n",
       "      <td>18646.5</td>\n",
       "      <td>149.0</td>\n",
       "      <td>68</td>\n",
       "      <td>1000</td>\n",
       "      <td>30720</td>\n",
       "      <td>3000</td>\n",
       "      <td>1950</td>\n",
       "      <td>150</td>\n",
       "      <td>1</td>\n",
       "      <td>1</td>\n",
       "      <td>1950.0</td>\n",
       "    </tr>\n",
       "    <tr>\n",
       "      <th>1013</th>\n",
       "      <td>11.5</td>\n",
       "      <td>71.0</td>\n",
       "      <td>468.000</td>\n",
       "      <td>31.000</td>\n",
       "      <td>15272.5</td>\n",
       "      <td>21.0</td>\n",
       "      <td>36</td>\n",
       "      <td>1000</td>\n",
       "      <td>30720</td>\n",
       "      <td>3000</td>\n",
       "      <td>1950</td>\n",
       "      <td>150</td>\n",
       "      <td>1</td>\n",
       "      <td>1</td>\n",
       "      <td>1950.0</td>\n",
       "    </tr>\n",
       "    <tr>\n",
       "      <th>1016</th>\n",
       "      <td>11.5</td>\n",
       "      <td>10.0</td>\n",
       "      <td>61.000</td>\n",
       "      <td>23.500</td>\n",
       "      <td>13417.0</td>\n",
       "      <td>71.0</td>\n",
       "      <td>58</td>\n",
       "      <td>1000</td>\n",
       "      <td>30720</td>\n",
       "      <td>3000</td>\n",
       "      <td>1950</td>\n",
       "      <td>150</td>\n",
       "      <td>1</td>\n",
       "      <td>1</td>\n",
       "      <td>1950.0</td>\n",
       "    </tr>\n",
       "  </tbody>\n",
       "</table>\n",
       "</div>"
      ],
      "text/plain": [
       "         month  count_calls  sum_minutes  count_internet   sum_mb  \\\n",
       "user_id                                                             \n",
       "1000       8.5         46.0      320.750          26.375  13436.5   \n",
       "1003      10.0        104.0      764.400          20.800  11465.8   \n",
       "1004       8.5         22.0      123.375          37.500  18646.5   \n",
       "1013      11.5         71.0      468.000          31.000  15272.5   \n",
       "1016      11.5         10.0       61.000          23.500  13417.0   \n",
       "\n",
       "         count_messages  age  messages_included  mb_per_month_included  \\\n",
       "user_id                                                                  \n",
       "1000               62.0   52               1000                  30720   \n",
       "1003               76.0   23               1000                  30720   \n",
       "1004              149.0   68               1000                  30720   \n",
       "1013               21.0   36               1000                  30720   \n",
       "1016               71.0   58               1000                  30720   \n",
       "\n",
       "         minutes_included  rub_monthly_fee  rub_per_gb  rub_per_message  \\\n",
       "user_id                                                                   \n",
       "1000                 3000             1950         150                1   \n",
       "1003                 3000             1950         150                1   \n",
       "1004                 3000             1950         150                1   \n",
       "1013                 3000             1950         150                1   \n",
       "1016                 3000             1950         150                1   \n",
       "\n",
       "         rub_per_minute  month_profit  \n",
       "user_id                                \n",
       "1000                  1        1950.0  \n",
       "1003                  1        1950.0  \n",
       "1004                  1        1950.0  \n",
       "1013                  1        1950.0  \n",
       "1016                  1        1950.0  "
      ]
     },
     "execution_count": 72,
     "metadata": {},
     "output_type": "execute_result"
    }
   ],
   "source": [
    "data_ultra_grouped = data_ultra.groupby('user_id').mean()\n",
    "data_ultra_grouped.head(5)"
   ]
  },
  {
   "cell_type": "markdown",
   "metadata": {},
   "source": [
    "Теперь посмотрим на основные столбцы по потреблению услуг"
   ]
  },
  {
   "cell_type": "markdown",
   "metadata": {},
   "source": [
    "### Звонки"
   ]
  },
  {
   "cell_type": "markdown",
   "metadata": {},
   "source": [
    "Проведем сравнительный анализ по тарифам."
   ]
  },
  {
   "cell_type": "code",
   "execution_count": 73,
   "metadata": {},
   "outputs": [
    {
     "data": {
      "text/plain": [
       "count    349.000000\n",
       "mean     420.840147\n",
       "std      143.473707\n",
       "min       12.363636\n",
       "25%      317.545455\n",
       "50%      425.250000\n",
       "75%      520.400000\n",
       "max      891.500000\n",
       "Name: sum_minutes, dtype: float64"
      ]
     },
     "execution_count": 73,
     "metadata": {},
     "output_type": "execute_result"
    }
   ],
   "source": [
    "data_smart_grouped['sum_minutes'].describe()"
   ]
  },
  {
   "cell_type": "code",
   "execution_count": 74,
   "metadata": {},
   "outputs": [
    {
     "data": {
      "text/plain": [
       "count     143.000000\n",
       "mean      546.685442\n",
       "std       268.338363\n",
       "min         9.428571\n",
       "25%       342.883333\n",
       "50%       525.500000\n",
       "75%       750.000000\n",
       "max      1179.363636\n",
       "Name: sum_minutes, dtype: float64"
      ]
     },
     "execution_count": 74,
     "metadata": {},
     "output_type": "execute_result"
    }
   ],
   "source": [
    "data_ultra_grouped['sum_minutes'].describe()"
   ]
  },
  {
   "cell_type": "code",
   "execution_count": 75,
   "metadata": {},
   "outputs": [
    {
     "data": {
      "image/png": "[encoded data removed]",
      "text/plain": [
       "<Figure size 720x504 with 1 Axes>"
      ]
     },
     "metadata": {
      "needs_background": "light"
     },
     "output_type": "display_data"
    }
   ],
   "source": [
    "import matplotlib.pyplot as plt\n",
    "data_smart_grouped['sum_minutes'].hist(bins = 50, grid = True, figsize = (10,7), alpha = 0.7)\n",
    "data_ultra_grouped['sum_minutes'].hist(bins = 50, grid = True, figsize = (10,7), alpha = 0.7)\n",
    "plt.show()"
   ]
  },
  {
   "cell_type": "markdown",
   "metadata": {},
   "source": [
    "Для более детальной проработки построим диаграмму размаха."
   ]
  },
  {
   "cell_type": "code",
   "execution_count": 76,
   "metadata": {},
   "outputs": [
    {
     "data": {
      "text/plain": [
       "<AxesSubplot:>"
      ]
     },
     "execution_count": 76,
     "metadata": {},
     "output_type": "execute_result"
    },
    {
     "data": {
      "image/png": "[encoded data removed]",
      "text/plain": [
       "<Figure size 432x288 with 1 Axes>"
      ]
     },
     "metadata": {
      "needs_background": "light"
     },
     "output_type": "display_data"
    }
   ],
   "source": [
    "data_smart_grouped.boxplot('sum_minutes')"
   ]
  },
  {
   "cell_type": "code",
   "execution_count": 77,
   "metadata": {},
   "outputs": [
    {
     "data": {
      "image/png": "[encoded data removed]",
      "text/plain": [
       "<Figure size 432x288 with 1 Axes>"
      ]
     },
     "metadata": {
      "needs_background": "light"
     },
     "output_type": "display_data"
    }
   ],
   "source": [
    "data_ultra_grouped.boxplot('sum_minutes')\n",
    "plt.show()"
   ]
  },
  {
   "cell_type": "markdown",
   "metadata": {},
   "source": [
    "По виду гистограмм можно сделать ряд выводов:\n",
    "- порядка 65% клиентов предпочитают тариф Смарт, что хорошо видно на графике;\n",
    "- зная, что пороговые значения по минутам 500 и 3000 у тарифов, видно клиенты Смарт в 40% случаев проговаривают минут более тарифа, и таким образом приносят дополнительный доход, и это при стоимости минуты в 3 раза больше. При этом, клиенты Ультра не выговаривают даже трети лимита;\n",
    "- у обоих тарифов средняя близка к медиане, значит у нас сильных выбросов и хвостов нет, данные однородны;\n",
    "- судя по диаграммам размаха данные распределены нормально, правило 3 сигм выполняется;\n",
    "- клиенты тарифа смарт в основном тратят от 300 до 520 минут, в то время как в ультра от 340 до 750. Цифры сопоставимые, можно сделать вывод, не зависимо от вида тарифа, люди говорят примерно одинаковое количество времени. Следовательно, какие-то иные факторы заставляют отдать предпочтение тарифу."
   ]
  },
  {
   "cell_type": "markdown",
   "metadata": {},
   "source": [
    "### Интернет"
   ]
  },
  {
   "cell_type": "markdown",
   "metadata": {},
   "source": [
    "Проведем сравнительный анализ по использованию интернет трафика."
   ]
  },
  {
   "cell_type": "code",
   "execution_count": 78,
   "metadata": {},
   "outputs": [
    {
     "data": {
      "text/plain": [
       "count      350.000000\n",
       "mean     16211.213491\n",
       "std       3581.630188\n",
       "min       5391.181818\n",
       "25%      13962.392857\n",
       "50%      16289.300000\n",
       "75%      18620.263889\n",
       "max      27321.000000\n",
       "Name: sum_mb, dtype: float64"
      ]
     },
     "execution_count": 78,
     "metadata": {},
     "output_type": "execute_result"
    }
   ],
   "source": [
    "data_smart_grouped['sum_mb'].describe()"
   ]
  },
  {
   "cell_type": "code",
   "execution_count": 79,
   "metadata": {},
   "outputs": [
    {
     "data": {
      "text/plain": [
       "count      147.000000\n",
       "mean     19744.885918\n",
       "std       8178.259984\n",
       "min       2304.000000\n",
       "25%      14821.292857\n",
       "50%      18846.333333\n",
       "75%      25988.505952\n",
       "max      38502.000000\n",
       "Name: sum_mb, dtype: float64"
      ]
     },
     "execution_count": 79,
     "metadata": {},
     "output_type": "execute_result"
    }
   ],
   "source": [
    "data_ultra_grouped['sum_mb'].describe()"
   ]
  },
  {
   "cell_type": "code",
   "execution_count": 80,
   "metadata": {},
   "outputs": [
    {
     "data": {
      "text/plain": [
       "<AxesSubplot:>"
      ]
     },
     "execution_count": 80,
     "metadata": {},
     "output_type": "execute_result"
    },
    {
     "data": {
      "image/png": "[encoded data removed]",
      "text/plain": [
       "<Figure size 720x504 with 1 Axes>"
      ]
     },
     "metadata": {
      "needs_background": "light"
     },
     "output_type": "display_data"
    }
   ],
   "source": [
    "data_smart_grouped['sum_mb'].hist(bins = 50, grid = True, figsize = (10,7), alpha = 0.7)\n",
    "data_ultra_grouped['sum_mb'].hist(bins = 50, grid = True, figsize = (10,7), alpha = 0.7)"
   ]
  },
  {
   "cell_type": "markdown",
   "metadata": {},
   "source": [
    "Для более детальной проработки построим диаграмму размаха."
   ]
  },
  {
   "cell_type": "code",
   "execution_count": 81,
   "metadata": {},
   "outputs": [
    {
     "data": {
      "text/plain": [
       "<AxesSubplot:>"
      ]
     },
     "execution_count": 81,
     "metadata": {},
     "output_type": "execute_result"
    },
    {
     "data": {
      "image/png": "[encoded data removed]",
      "text/plain": [
       "<Figure size 432x288 with 1 Axes>"
      ]
     },
     "metadata": {
      "needs_background": "light"
     },
     "output_type": "display_data"
    }
   ],
   "source": [
    "data_smart_grouped.boxplot('sum_mb')"
   ]
  },
  {
   "cell_type": "code",
   "execution_count": 82,
   "metadata": {},
   "outputs": [
    {
     "data": {
      "text/plain": [
       "<AxesSubplot:>"
      ]
     },
     "execution_count": 82,
     "metadata": {},
     "output_type": "execute_result"
    },
    {
     "data": {
      "image/png": "[encoded data removed]",
      "text/plain": [
       "<Figure size 432x288 with 1 Axes>"
      ]
     },
     "metadata": {
      "needs_background": "light"
     },
     "output_type": "display_data"
    }
   ],
   "source": [
    "data_ultra_grouped.boxplot('sum_mb')"
   ]
  },
  {
   "cell_type": "markdown",
   "metadata": {},
   "source": [
    "По виду гистограмм можно сделать ряд выводов:\n",
    "- картина очень схожа с ситуацией в минутах;\n",
    "- пороговые значения по трафику 15360 и 30720 мб. у тарифов. Более половины клиентов Смарт перерасходуют трафик более тарифа, и таким образом приносят дополнительный доход. При этом, клиентам Ультра лимита хватает;\n",
    "- у обоих тарифов средняя близка к медиане, значит у нас сильных выбросов и хвостов нет, данные однородны;\n",
    "- судя по диаграммам размаха данные Смарт распределены нормально, а вот у Ултра имеется скос в право, то есть большая часть пользователей расходует свыше 18 гб. Однако в рамках условий тарифа доп. дохода это не приносит;\n",
    "- клиенты тарифа смарт в основном тратят от 14 до 18 гб, в то время как в ультра от 15 до 26. Можно сделать вывод, что в тарифе Ультра в полтора раза больше пользуются интернетом, оно и ясно, лимит то огромный."
   ]
  },
  {
   "cell_type": "markdown",
   "metadata": {},
   "source": [
    "### Сообщения"
   ]
  },
  {
   "cell_type": "markdown",
   "metadata": {},
   "source": [
    "Проведем сравнительный анализ по использованию интернет трафика."
   ]
  },
  {
   "cell_type": "code",
   "execution_count": 83,
   "metadata": {},
   "outputs": [
    {
     "data": {
      "text/plain": [
       "count    302.000000\n",
       "mean      37.575606\n",
       "std       24.849738\n",
       "min        1.000000\n",
       "25%       19.000000\n",
       "50%       33.000000\n",
       "75%       54.000000\n",
       "max      118.000000\n",
       "Name: count_messages, dtype: float64"
      ]
     },
     "execution_count": 83,
     "metadata": {},
     "output_type": "execute_result"
    }
   ],
   "source": [
    "data_smart_grouped['count_messages'].describe()"
   ]
  },
  {
   "cell_type": "code",
   "execution_count": 84,
   "metadata": {},
   "outputs": [
    {
     "data": {
      "text/plain": [
       "count    124.000000\n",
       "mean      64.555802\n",
       "std       43.390612\n",
       "min        3.000000\n",
       "25%       28.000000\n",
       "50%       57.800000\n",
       "75%       89.000000\n",
       "max      192.000000\n",
       "Name: count_messages, dtype: float64"
      ]
     },
     "execution_count": 84,
     "metadata": {},
     "output_type": "execute_result"
    }
   ],
   "source": [
    "data_ultra_grouped['count_messages'].describe()"
   ]
  },
  {
   "cell_type": "code",
   "execution_count": 85,
   "metadata": {},
   "outputs": [
    {
     "data": {
      "text/plain": [
       "<AxesSubplot:>"
      ]
     },
     "execution_count": 85,
     "metadata": {},
     "output_type": "execute_result"
    },
    {
     "data": {
      "image/png": "[encoded data removed]",
      "text/plain": [
       "<Figure size 720x504 with 1 Axes>"
      ]
     },
     "metadata": {
      "needs_background": "light"
     },
     "output_type": "display_data"
    }
   ],
   "source": [
    "data_smart_grouped['count_messages'].hist(bins = 50, grid = True, figsize = (10,7), alpha = 0.7)\n",
    "data_ultra_grouped['count_messages'].hist(bins = 50, grid = True, figsize = (10,7), alpha = 0.7)"
   ]
  },
  {
   "cell_type": "markdown",
   "metadata": {},
   "source": [
    "Для более детальной проработки построим диаграмму размаха."
   ]
  },
  {
   "cell_type": "code",
   "execution_count": 86,
   "metadata": {},
   "outputs": [
    {
     "data": {
      "text/plain": [
       "<AxesSubplot:>"
      ]
     },
     "execution_count": 86,
     "metadata": {},
     "output_type": "execute_result"
    },
    {
     "data": {
      "image/png": "[encoded data removed]",
      "text/plain": [
       "<Figure size 432x288 with 1 Axes>"
      ]
     },
     "metadata": {
      "needs_background": "light"
     },
     "output_type": "display_data"
    }
   ],
   "source": [
    "data_smart_grouped.boxplot('count_messages')"
   ]
  },
  {
   "cell_type": "code",
   "execution_count": 87,
   "metadata": {},
   "outputs": [
    {
     "data": {
      "text/plain": [
       "<AxesSubplot:>"
      ]
     },
     "execution_count": 87,
     "metadata": {},
     "output_type": "execute_result"
    },
    {
     "data": {
      "image/png": "[encoded data removed]",
      "text/plain": [
       "<Figure size 432x288 with 1 Axes>"
      ]
     },
     "metadata": {
      "needs_background": "light"
     },
     "output_type": "display_data"
    }
   ],
   "source": [
    "data_ultra_grouped.boxplot('count_messages')"
   ]
  },
  {
   "cell_type": "markdown",
   "metadata": {},
   "source": [
    "По виду гистограмм можно сделать ряд выводов:\n",
    "- оба датасета скошены вправо, то есть имеем незначительное число клиентов, кто продолжает писать по многу смс, но по темпу затуханий гисторгамм можно сделать вывод, что люди не активно используют смс;\n",
    "- пороговые значения по трафику 50 и 1000 смс у тарифов. 25% клиентов Смарт перерасходуют кол-во смс, но не на много. При этом, клиентам Ультра лимита хватает;\n",
    "- у обоих тарифов средняя близка к медиане, имеются небольшие хвосты в право;\n",
    "- судя по диаграммам размаха данные Ультра распределены нормально, а вот у Смарт имеется скос в право, то есть большая часть пользователей пишет свыше 33 сообщений;\n",
    "- клиенты тарифа смарт в основном направляют от 20 до 55 смс, в то время как в ультра от 28 до 89. Цифры сопоставимые, можно сделать вывод, не зависимо от вида тарифа, люди пишут примерно одинаковое количество смс. Оно и ясно, сегодня смс не популярны, клиенты пользуются интернет-мессендерами. Как следствие, сообщений направляют незначительно мало в обоих тарифах."
   ]
  },
  {
   "cell_type": "markdown",
   "metadata": {},
   "source": [
    "## Построение гипотез"
   ]
  },
  {
   "cell_type": "markdown",
   "metadata": {},
   "source": [
    "### Различие средней выручки в тарифах"
   ]
  },
  {
   "cell_type": "markdown",
   "metadata": {},
   "source": [
    "В рамках анализа оценим основной показатель - средняя выручка пользователей. Проверим, есть ли различия в выручке по тарифам."
   ]
  },
  {
   "cell_type": "code",
   "execution_count": 88,
   "metadata": {},
   "outputs": [
    {
     "data": {
      "text/plain": [
       "count     350.000000\n",
       "mean     1329.726499\n",
       "std       606.851951\n",
       "min       550.000000\n",
       "25%       878.541667\n",
       "50%      1183.100000\n",
       "75%      1682.694444\n",
       "max      4333.333333\n",
       "Name: month_profit, dtype: float64"
      ]
     },
     "execution_count": 88,
     "metadata": {},
     "output_type": "execute_result"
    }
   ],
   "source": [
    "data_smart_grouped['month_profit'].describe()"
   ]
  },
  {
   "cell_type": "code",
   "execution_count": 89,
   "metadata": {},
   "outputs": [
    {
     "data": {
      "text/plain": [
       "count     148.000000\n",
       "mean     2087.417442\n",
       "std       300.847452\n",
       "min      1950.000000\n",
       "25%      1950.000000\n",
       "50%      1950.000000\n",
       "75%      1990.625000\n",
       "max      3262.500000\n",
       "Name: month_profit, dtype: float64"
      ]
     },
     "execution_count": 89,
     "metadata": {},
     "output_type": "execute_result"
    }
   ],
   "source": [
    "data_ultra_grouped['month_profit'].describe()"
   ]
  },
  {
   "cell_type": "code",
   "execution_count": 90,
   "metadata": {},
   "outputs": [
    {
     "data": {
      "text/plain": [
       "<AxesSubplot:>"
      ]
     },
     "execution_count": 90,
     "metadata": {},
     "output_type": "execute_result"
    },
    {
     "data": {
      "image/png": "[encoded data removed]",
      "text/plain": [
       "<Figure size 720x504 with 1 Axes>"
      ]
     },
     "metadata": {
      "needs_background": "light"
     },
     "output_type": "display_data"
    }
   ],
   "source": [
    "data_smart_grouped['month_profit'].hist(bins = 50, grid = True, figsize = (10,7), alpha = 0.7)\n",
    "data_ultra_grouped['month_profit'].hist(bins = 50, grid = True, figsize = (10,7), alpha = 0.7)"
   ]
  },
  {
   "cell_type": "markdown",
   "metadata": {},
   "source": [
    "На полученных результатах видно:\n",
    "- имеется почти двукратное различие в выручке по медиане и по средней;\n",
    "- в тарифе Ультра средняя выручка равна цене тарифа, что понятно и соответствует анализу данных в разрезе видов услуг. А именно, по категориям почти никто не превышал тарифные лимиты;\n",
    "- по тарифу Смарт картина противоположная. В лимиты укладываются 35 человек из 350, то есть 10 %. Все остальные сильно переплачивают, в основном от 400 до 1200 рублей ежемесячно."
   ]
  },
  {
   "cell_type": "markdown",
   "metadata": {},
   "source": [
    "Посмотрим еще одну важную цифру, совокупный доход по тарифам:"
   ]
  },
  {
   "cell_type": "code",
   "execution_count": 91,
   "metadata": {},
   "outputs": [
    {
     "data": {
      "text/plain": [
       "2885751.0"
      ]
     },
     "execution_count": 91,
     "metadata": {},
     "output_type": "execute_result"
    }
   ],
   "source": [
    "data_merged.query('tariff == \"smart\"')['month_profit'].sum()"
   ]
  },
  {
   "cell_type": "code",
   "execution_count": 92,
   "metadata": {},
   "outputs": [
    {
     "data": {
      "text/plain": [
       "2040000.0"
      ]
     },
     "execution_count": 92,
     "metadata": {},
     "output_type": "execute_result"
    }
   ],
   "source": [
    "data_merged.query('tariff == \"ultra\"')['month_profit'].sum()"
   ]
  },
  {
   "cell_type": "code",
   "execution_count": 93,
   "metadata": {},
   "outputs": [
    {
     "data": {
      "text/plain": [
       "29.30783009344881"
      ]
     },
     "execution_count": 93,
     "metadata": {},
     "output_type": "execute_result"
    }
   ],
   "source": [
    "(data_merged.query('tariff == \"smart\"')['month_profit'].sum() - data_merged.query('tariff == \"ultra\"')['month_profit'].sum()) /data_merged.query('tariff == \"smart\"')['month_profit'].sum() * 100"
   ]
  },
  {
   "cell_type": "markdown",
   "metadata": {},
   "source": [
    "Выходит, что клиенты Смарт приносят оператору на 30% больше прибыли, чем пользователи Ультра."
   ]
  },
  {
   "cell_type": "markdown",
   "metadata": {},
   "source": [
    "Теперь проверим является ли эта разница в средней выручке случайной, есть ли статистическая значимость. Для этой цели будем использовать критерий равенства средних двух генеральных совокупностей, так как Мы имеем две различные по признаку таблицы, при этом схожие по структуре.\n",
    "\n",
    "Нулевая гипотеза: средняя выручка пользователей тарифов «Ультра» и «Смарт» одинакова. \n",
    "Альтернативная гипотеза: средняя выручка пользователей тарифов «Ультра» и «Смарт» различается.\n",
    "\n",
    "Примем критическим уровнем значимости 0.05.  Стандартные отклонения у выборок сильно разняться (более чем в 2 раза), поэтому параметр возьмем как Ложь.\n"
   ]
  },
  {
   "cell_type": "code",
   "execution_count": 94,
   "metadata": {},
   "outputs": [
    {
     "name": "stdout",
     "output_type": "stream",
     "text": [
      "p-значение: 1.5026228308148506e-58\n",
      "Отвергаем нулевую гипотезу\n"
     ]
    }
   ],
   "source": [
    "from scipy import stats as st\n",
    "\n",
    "alpha = 0.05\n",
    "\n",
    "results = st.ttest_ind(data_smart_grouped['month_profit'], data_ultra_grouped['month_profit'], equal_var = False) \n",
    "\n",
    "print('p-значение:', results.pvalue)\n",
    "\n",
    "if results.pvalue < alpha:\n",
    "    print('Отвергаем нулевую гипотезу')\n",
    "else:\n",
    "    print('Не получилось отвергнуть нулевую гипотезу') "
   ]
  },
  {
   "cell_type": "markdown",
   "metadata": {},
   "source": [
    "По результатам проверки гипотеза отвергнута, что ярко подтверждается данными анализа и гистограмм."
   ]
  },
  {
   "cell_type": "markdown",
   "metadata": {},
   "source": [
    "### Различие средней выручки в Москве и регионах"
   ]
  },
  {
   "cell_type": "markdown",
   "metadata": {},
   "source": [
    "Теперь проверим, отличается ли средняя выручка пользователей из Москвы от выручки пользователей из других регионов."
   ]
  },
  {
   "cell_type": "code",
   "execution_count": 95,
   "metadata": {},
   "outputs": [
    {
     "data": {
      "text/html": [
       "<div>\n",
       "<style scoped>\n",
       "    .dataframe tbody tr th:only-of-type {\n",
       "        vertical-align: middle;\n",
       "    }\n",
       "\n",
       "    .dataframe tbody tr th {\n",
       "        vertical-align: top;\n",
       "    }\n",
       "\n",
       "    .dataframe thead th {\n",
       "        text-align: right;\n",
       "    }\n",
       "</style>\n",
       "<table border=\"1\" class=\"dataframe\">\n",
       "  <thead>\n",
       "    <tr style=\"text-align: right;\">\n",
       "      <th></th>\n",
       "      <th>month</th>\n",
       "      <th>count_calls</th>\n",
       "      <th>sum_minutes</th>\n",
       "      <th>count_internet</th>\n",
       "      <th>sum_mb</th>\n",
       "      <th>count_messages</th>\n",
       "      <th>age</th>\n",
       "      <th>messages_included</th>\n",
       "      <th>mb_per_month_included</th>\n",
       "      <th>minutes_included</th>\n",
       "      <th>rub_monthly_fee</th>\n",
       "      <th>rub_per_gb</th>\n",
       "      <th>rub_per_message</th>\n",
       "      <th>rub_per_minute</th>\n",
       "      <th>month_profit</th>\n",
       "    </tr>\n",
       "    <tr>\n",
       "      <th>user_id</th>\n",
       "      <th></th>\n",
       "      <th></th>\n",
       "      <th></th>\n",
       "      <th></th>\n",
       "      <th></th>\n",
       "      <th></th>\n",
       "      <th></th>\n",
       "      <th></th>\n",
       "      <th></th>\n",
       "      <th></th>\n",
       "      <th></th>\n",
       "      <th></th>\n",
       "      <th></th>\n",
       "      <th></th>\n",
       "      <th></th>\n",
       "    </tr>\n",
       "  </thead>\n",
       "  <tbody>\n",
       "    <tr>\n",
       "      <th>1001</th>\n",
       "      <td>11.5</td>\n",
       "      <td>61.0</td>\n",
       "      <td>422.000000</td>\n",
       "      <td>48.000000</td>\n",
       "      <td>16252.500000</td>\n",
       "      <td>NaN</td>\n",
       "      <td>41</td>\n",
       "      <td>50</td>\n",
       "      <td>15360</td>\n",
       "      <td>500</td>\n",
       "      <td>550</td>\n",
       "      <td>200</td>\n",
       "      <td>3</td>\n",
       "      <td>3</td>\n",
       "      <td>950.000000</td>\n",
       "    </tr>\n",
       "    <tr>\n",
       "      <th>1003</th>\n",
       "      <td>10.0</td>\n",
       "      <td>104.0</td>\n",
       "      <td>764.400000</td>\n",
       "      <td>20.800000</td>\n",
       "      <td>11465.800000</td>\n",
       "      <td>76.0</td>\n",
       "      <td>23</td>\n",
       "      <td>1000</td>\n",
       "      <td>30720</td>\n",
       "      <td>3000</td>\n",
       "      <td>1950</td>\n",
       "      <td>150</td>\n",
       "      <td>1</td>\n",
       "      <td>1</td>\n",
       "      <td>1950.000000</td>\n",
       "    </tr>\n",
       "    <tr>\n",
       "      <th>1007</th>\n",
       "      <td>8.0</td>\n",
       "      <td>68.0</td>\n",
       "      <td>486.555556</td>\n",
       "      <td>48.666667</td>\n",
       "      <td>14643.555556</td>\n",
       "      <td>25.0</td>\n",
       "      <td>65</td>\n",
       "      <td>50</td>\n",
       "      <td>15360</td>\n",
       "      <td>500</td>\n",
       "      <td>550</td>\n",
       "      <td>200</td>\n",
       "      <td>3</td>\n",
       "      <td>3</td>\n",
       "      <td>935.666667</td>\n",
       "    </tr>\n",
       "    <tr>\n",
       "      <th>1031</th>\n",
       "      <td>11.5</td>\n",
       "      <td>81.0</td>\n",
       "      <td>613.500000</td>\n",
       "      <td>32.500000</td>\n",
       "      <td>10555.000000</td>\n",
       "      <td>26.0</td>\n",
       "      <td>66</td>\n",
       "      <td>50</td>\n",
       "      <td>15360</td>\n",
       "      <td>500</td>\n",
       "      <td>550</td>\n",
       "      <td>200</td>\n",
       "      <td>3</td>\n",
       "      <td>3</td>\n",
       "      <td>890.500000</td>\n",
       "    </tr>\n",
       "    <tr>\n",
       "      <th>1033</th>\n",
       "      <td>9.5</td>\n",
       "      <td>52.0</td>\n",
       "      <td>349.666667</td>\n",
       "      <td>65.000000</td>\n",
       "      <td>20929.000000</td>\n",
       "      <td>69.0</td>\n",
       "      <td>71</td>\n",
       "      <td>50</td>\n",
       "      <td>15360</td>\n",
       "      <td>500</td>\n",
       "      <td>550</td>\n",
       "      <td>200</td>\n",
       "      <td>3</td>\n",
       "      <td>3</td>\n",
       "      <td>1914.000000</td>\n",
       "    </tr>\n",
       "  </tbody>\n",
       "</table>\n",
       "</div>"
      ],
      "text/plain": [
       "         month  count_calls  sum_minutes  count_internet        sum_mb  \\\n",
       "user_id                                                                  \n",
       "1001      11.5         61.0   422.000000       48.000000  16252.500000   \n",
       "1003      10.0        104.0   764.400000       20.800000  11465.800000   \n",
       "1007       8.0         68.0   486.555556       48.666667  14643.555556   \n",
       "1031      11.5         81.0   613.500000       32.500000  10555.000000   \n",
       "1033       9.5         52.0   349.666667       65.000000  20929.000000   \n",
       "\n",
       "         count_messages  age  messages_included  mb_per_month_included  \\\n",
       "user_id                                                                  \n",
       "1001                NaN   41                 50                  15360   \n",
       "1003               76.0   23               1000                  30720   \n",
       "1007               25.0   65                 50                  15360   \n",
       "1031               26.0   66                 50                  15360   \n",
       "1033               69.0   71                 50                  15360   \n",
       "\n",
       "         minutes_included  rub_monthly_fee  rub_per_gb  rub_per_message  \\\n",
       "user_id                                                                   \n",
       "1001                  500              550         200                3   \n",
       "1003                 3000             1950         150                1   \n",
       "1007                  500              550         200                3   \n",
       "1031                  500              550         200                3   \n",
       "1033                  500              550         200                3   \n",
       "\n",
       "         rub_per_minute  month_profit  \n",
       "user_id                                \n",
       "1001                  3    950.000000  \n",
       "1003                  1   1950.000000  \n",
       "1007                  3    935.666667  \n",
       "1031                  3    890.500000  \n",
       "1033                  3   1914.000000  "
      ]
     },
     "execution_count": 95,
     "metadata": {},
     "output_type": "execute_result"
    }
   ],
   "source": [
    "data_moscow = data_merged[data_merged['city'] == 'Москва'].groupby('user_id').mean()\n",
    "data_moscow.head()"
   ]
  },
  {
   "cell_type": "code",
   "execution_count": 96,
   "metadata": {},
   "outputs": [
    {
     "data": {
      "text/html": [
       "<div>\n",
       "<style scoped>\n",
       "    .dataframe tbody tr th:only-of-type {\n",
       "        vertical-align: middle;\n",
       "    }\n",
       "\n",
       "    .dataframe tbody tr th {\n",
       "        vertical-align: top;\n",
       "    }\n",
       "\n",
       "    .dataframe thead th {\n",
       "        text-align: right;\n",
       "    }\n",
       "</style>\n",
       "<table border=\"1\" class=\"dataframe\">\n",
       "  <thead>\n",
       "    <tr style=\"text-align: right;\">\n",
       "      <th></th>\n",
       "      <th>month</th>\n",
       "      <th>count_calls</th>\n",
       "      <th>sum_minutes</th>\n",
       "      <th>count_internet</th>\n",
       "      <th>sum_mb</th>\n",
       "      <th>count_messages</th>\n",
       "      <th>age</th>\n",
       "      <th>messages_included</th>\n",
       "      <th>mb_per_month_included</th>\n",
       "      <th>minutes_included</th>\n",
       "      <th>rub_monthly_fee</th>\n",
       "      <th>rub_per_gb</th>\n",
       "      <th>rub_per_message</th>\n",
       "      <th>rub_per_minute</th>\n",
       "      <th>month_profit</th>\n",
       "    </tr>\n",
       "    <tr>\n",
       "      <th>user_id</th>\n",
       "      <th></th>\n",
       "      <th></th>\n",
       "      <th></th>\n",
       "      <th></th>\n",
       "      <th></th>\n",
       "      <th></th>\n",
       "      <th></th>\n",
       "      <th></th>\n",
       "      <th></th>\n",
       "      <th></th>\n",
       "      <th></th>\n",
       "      <th></th>\n",
       "      <th></th>\n",
       "      <th></th>\n",
       "      <th></th>\n",
       "    </tr>\n",
       "  </thead>\n",
       "  <tbody>\n",
       "    <tr>\n",
       "      <th>1000</th>\n",
       "      <td>8.5</td>\n",
       "      <td>46.0</td>\n",
       "      <td>320.750000</td>\n",
       "      <td>26.375000</td>\n",
       "      <td>13436.500000</td>\n",
       "      <td>62.0</td>\n",
       "      <td>52</td>\n",
       "      <td>1000</td>\n",
       "      <td>30720</td>\n",
       "      <td>3000</td>\n",
       "      <td>1950</td>\n",
       "      <td>150</td>\n",
       "      <td>1</td>\n",
       "      <td>1</td>\n",
       "      <td>1950.000000</td>\n",
       "    </tr>\n",
       "    <tr>\n",
       "      <th>1002</th>\n",
       "      <td>9.0</td>\n",
       "      <td>31.0</td>\n",
       "      <td>216.714286</td>\n",
       "      <td>52.714286</td>\n",
       "      <td>16597.571429</td>\n",
       "      <td>10.0</td>\n",
       "      <td>59</td>\n",
       "      <td>50</td>\n",
       "      <td>15360</td>\n",
       "      <td>500</td>\n",
       "      <td>550</td>\n",
       "      <td>200</td>\n",
       "      <td>3</td>\n",
       "      <td>3</td>\n",
       "      <td>1035.714286</td>\n",
       "    </tr>\n",
       "    <tr>\n",
       "      <th>1004</th>\n",
       "      <td>8.5</td>\n",
       "      <td>22.0</td>\n",
       "      <td>123.375000</td>\n",
       "      <td>37.500000</td>\n",
       "      <td>18646.500000</td>\n",
       "      <td>149.0</td>\n",
       "      <td>68</td>\n",
       "      <td>1000</td>\n",
       "      <td>30720</td>\n",
       "      <td>3000</td>\n",
       "      <td>1950</td>\n",
       "      <td>150</td>\n",
       "      <td>1</td>\n",
       "      <td>1</td>\n",
       "      <td>1950.000000</td>\n",
       "    </tr>\n",
       "    <tr>\n",
       "      <th>1005</th>\n",
       "      <td>6.5</td>\n",
       "      <td>74.0</td>\n",
       "      <td>550.416667</td>\n",
       "      <td>24.083333</td>\n",
       "      <td>8317.750000</td>\n",
       "      <td>46.0</td>\n",
       "      <td>67</td>\n",
       "      <td>50</td>\n",
       "      <td>15360</td>\n",
       "      <td>500</td>\n",
       "      <td>550</td>\n",
       "      <td>200</td>\n",
       "      <td>3</td>\n",
       "      <td>3</td>\n",
       "      <td>827.000000</td>\n",
       "    </tr>\n",
       "    <tr>\n",
       "      <th>1006</th>\n",
       "      <td>7.0</td>\n",
       "      <td>46.0</td>\n",
       "      <td>318.272727</td>\n",
       "      <td>46.090909</td>\n",
       "      <td>14945.000000</td>\n",
       "      <td>NaN</td>\n",
       "      <td>21</td>\n",
       "      <td>50</td>\n",
       "      <td>15360</td>\n",
       "      <td>500</td>\n",
       "      <td>550</td>\n",
       "      <td>200</td>\n",
       "      <td>3</td>\n",
       "      <td>3</td>\n",
       "      <td>931.818182</td>\n",
       "    </tr>\n",
       "  </tbody>\n",
       "</table>\n",
       "</div>"
      ],
      "text/plain": [
       "         month  count_calls  sum_minutes  count_internet        sum_mb  \\\n",
       "user_id                                                                  \n",
       "1000       8.5         46.0   320.750000       26.375000  13436.500000   \n",
       "1002       9.0         31.0   216.714286       52.714286  16597.571429   \n",
       "1004       8.5         22.0   123.375000       37.500000  18646.500000   \n",
       "1005       6.5         74.0   550.416667       24.083333   8317.750000   \n",
       "1006       7.0         46.0   318.272727       46.090909  14945.000000   \n",
       "\n",
       "         count_messages  age  messages_included  mb_per_month_included  \\\n",
       "user_id                                                                  \n",
       "1000               62.0   52               1000                  30720   \n",
       "1002               10.0   59                 50                  15360   \n",
       "1004              149.0   68               1000                  30720   \n",
       "1005               46.0   67                 50                  15360   \n",
       "1006                NaN   21                 50                  15360   \n",
       "\n",
       "         minutes_included  rub_monthly_fee  rub_per_gb  rub_per_message  \\\n",
       "user_id                                                                   \n",
       "1000                 3000             1950         150                1   \n",
       "1002                  500              550         200                3   \n",
       "1004                 3000             1950         150                1   \n",
       "1005                  500              550         200                3   \n",
       "1006                  500              550         200                3   \n",
       "\n",
       "         rub_per_minute  month_profit  \n",
       "user_id                                \n",
       "1000                  1   1950.000000  \n",
       "1002                  3   1035.714286  \n",
       "1004                  1   1950.000000  \n",
       "1005                  3    827.000000  \n",
       "1006                  3    931.818182  "
      ]
     },
     "execution_count": 96,
     "metadata": {},
     "output_type": "execute_result"
    }
   ],
   "source": [
    "data_region = data_merged[data_merged['city'] != 'Москва'].groupby('user_id').mean()\n",
    "data_region.head()"
   ]
  },
  {
   "cell_type": "markdown",
   "metadata": {},
   "source": [
    "Получили таблицы по Москве и регионам."
   ]
  },
  {
   "cell_type": "code",
   "execution_count": 97,
   "metadata": {},
   "outputs": [
    {
     "data": {
      "text/plain": [
       "count      99.000000\n",
       "mean     1503.956617\n",
       "std       604.019842\n",
       "min       550.000000\n",
       "25%      1020.833333\n",
       "50%      1629.428571\n",
       "75%      1950.000000\n",
       "max      2935.500000\n",
       "Name: month_profit, dtype: float64"
      ]
     },
     "execution_count": 97,
     "metadata": {},
     "output_type": "execute_result"
    }
   ],
   "source": [
    "data_moscow['month_profit'].describe()"
   ]
  },
  {
   "cell_type": "code",
   "execution_count": 98,
   "metadata": {},
   "outputs": [
    {
     "data": {
      "text/plain": [
       "count     399.000000\n",
       "mean     1567.544739\n",
       "std       644.791568\n",
       "min       550.000000\n",
       "25%      1007.035714\n",
       "50%      1620.666667\n",
       "75%      1950.000000\n",
       "max      4333.333333\n",
       "Name: month_profit, dtype: float64"
      ]
     },
     "execution_count": 98,
     "metadata": {},
     "output_type": "execute_result"
    }
   ],
   "source": [
    "data_region['month_profit'].describe()"
   ]
  },
  {
   "cell_type": "code",
   "execution_count": 99,
   "metadata": {},
   "outputs": [
    {
     "data": {
      "text/plain": [
       "<AxesSubplot:>"
      ]
     },
     "execution_count": 99,
     "metadata": {},
     "output_type": "execute_result"
    },
    {
     "data": {
      "image/png": "[encoded data removed]",
      "text/plain": [
       "<Figure size 720x504 with 1 Axes>"
      ]
     },
     "metadata": {
      "needs_background": "light"
     },
     "output_type": "display_data"
    }
   ],
   "source": [
    "data_moscow['month_profit'].hist(bins = 50, grid = True, figsize = (10,7), alpha = 0.7)\n",
    "data_region['month_profit'].hist(bins = 50, grid = True, figsize = (10,7), alpha = 0.7)"
   ]
  },
  {
   "cell_type": "markdown",
   "metadata": {},
   "source": [
    "На полученных результатах видно:\n",
    "- и средние и медианы по группам равны;\n",
    "- гистограммы различаются только в масштабе, а так идентичны. По размеру данных видим, что в регионах на 75% клиентов больше.\n",
    "- в тарифе Ультра средняя выручка равна цене тарифа, что понятно и соответствует анализу данных в разрезе видов услуг. А именно, по категориям почти никто не превышал тарифные лимиты, в связи с чем видим такой пик на 1950."
   ]
  },
  {
   "cell_type": "markdown",
   "metadata": {},
   "source": [
    "Теперь проверим предположение, что средняя выручка пользователей в Москве и регионах отличается. Нулевой гипотезой будет равенство средних выручек. Примем критическим уровнем значимости 0.05.  Стандартные отклонения у выборок одинаковы, поэтому параметр возьмем как Истина.\n"
   ]
  },
  {
   "cell_type": "code",
   "execution_count": 100,
   "metadata": {},
   "outputs": [
    {
     "name": "stdout",
     "output_type": "stream",
     "text": [
      "p-значение: 0.37436457353252284\n",
      "Не получилось отвергнуть нулевую гипотезу\n"
     ]
    }
   ],
   "source": [
    "alpha = 0.05\n",
    "\n",
    "results = st.ttest_ind(data_moscow['month_profit'], data_region['month_profit'], equal_var = True) \n",
    "\n",
    "print('p-значение:', results.pvalue)\n",
    "\n",
    "if results.pvalue < alpha:\n",
    "    print('Отвергаем нулевую гипотезу')\n",
    "else:\n",
    "    print('Не получилось отвергнуть нулевую гипотезу') "
   ]
  },
  {
   "cell_type": "markdown",
   "metadata": {},
   "source": [
    "Проверка гипотезы не противоречит выводам из анализа данных о том, что средние выручки по Москве и регионам одинаковы. По стране люди одинаково используют мобильную связь вне зависимости от региона."
   ]
  },
  {
   "cell_type": "markdown",
   "metadata": {},
   "source": [
    "## Общий вывод"
   ]
  },
  {
   "cell_type": "markdown",
   "metadata": {},
   "source": [
    "В рамках исследования проведена комплексная работа с данными:\n",
    "- на первом этапе исходные таблицы были проверены на предмет ошибок, отстоящих значений;\n",
    "- приведены в соответствие форматы;\n",
    "- при подготовке данных выделены средние значения по месяцам в рамках клиента по использованию минут, смс и интернета;\n",
    "- полученные результаты сведены в одну таблицу, проведены расчеты средней выручки по клиентам;\n",
    "- анализ данных проводился сперва по видам услуг, так:\n",
    "    - порядка 65% клиентов предпочитают тариф Смарт;\n",
    "    - клиенты Смарт в 40% случаев проговаривают минут более тарифа, и таким образом приносят дополнительный доход, и это при стоимости минуты в 3 раза больше;\n",
    "    - клиенты тарифа смарт в основном тратят от 300 до 520 минут, в то время как в ультра от 340 до 750. Цифры сопоставимые, можно сделать вывод, не зависимо от вида тарифа, люди говорят примерно одинаковое количество времени;\n",
    "    - пользователи Ультра используют лишь 1000 минут из 3000;\n",
    "    - более половины клиентов Смарт перерасходуют лимит трафика, при этом, клиентам Ультра лимита хватает;\n",
    "    - в тарифе Ултра большая часть пользователей расходует свыше 18 гб;\n",
    "    - клиенты тарифа смарт в основном тратят от 14 до 18 гб трафика;\n",
    "    - анализ сообщений показал, что в обоих тарифах смс направляют крайне редко и сильного веса в выручке они не имеют;\n",
    "    - оценка средней выручки по тарифам показала, что тариф Смарт вдвое выгоднее для оператора за счет значительной покупки дополнительных услуг клиентами, в лимиты укладываются лишь 10%;\n",
    "    - в доходах по регионам и Москве разницы не замечено, а вот клиентов у нашего оператора на 75% больше в регионах;\n",
    "- для проверки расчетов со средней выручкой были сформулированы гипотезы:\n",
    "    - о различии средней выручке в тарифах, гипотеза была отвергнута, что говорит о наличии значимой разницы в суммах;\n",
    "    - о различие средней выручке в Москве и регионах, гипотеза была принята, что говорит о схожести выручки в Москве и регионах.\n",
    "    \n",
    "    Таким образом, можно сделать вывод, что тариф Смарт является более массовым и прибыльным для компании, в его продвижение на рынке целесообразно инвестировать средства.\n",
    "    "
   ]
  }
 ],
 "metadata": {
  "kernelspec": {
   "display_name": "Python 3",
   "language": "python",
   "name": "python3"
  },
  "language_info": {
   "codemirror_mode": {
    "name": "ipython",
    "version": 3
   },
   "file_extension": ".py",
   "mimetype": "text/x-python",
   "name": "python",
   "nbconvert_exporter": "python",
   "pygments_lexer": "ipython3",
   "version": "3.8.8"
  },
  "toc": {
   "base_numbering": 1,
   "nav_menu": {
    "height": "59px",
    "width": "183px"
   },
   "number_sections": true,
   "sideBar": true,
   "skip_h1_title": true,
   "title_cell": "Table of Contents",
   "title_sidebar": "Contents",
   "toc_cell": false,
   "toc_position": {
    "height": "calc(100% - 180px)",
    "left": "10px",
    "top": "150px",
    "width": "236.062px"
   },
   "toc_section_display": true,
   "toc_window_display": true
  }
 },
 "nbformat": 4,
 "nbformat_minor": 2
}
